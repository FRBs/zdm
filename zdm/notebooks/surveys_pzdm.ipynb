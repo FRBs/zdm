{
 "cells": [
  {
   "cell_type": "markdown",
   "metadata": {},
   "source": [
    "# Survey $p(z, DM_{EG})$ without repeaters"
   ]
  },
  {
   "cell_type": "code",
   "execution_count": null,
   "metadata": {},
   "outputs": [],
   "source": [
    "import numpy as np\n",
    "\n",
    "from zdm import loading\n",
    "from zdm import misc_functions as mf\n",
    "from zdm import parameters\n",
    "from astropy.cosmology import Planck18\n",
    "\n",
    "import matplotlib.pyplot as plt"
   ]
  },
  {
   "cell_type": "markdown",
   "metadata": {},
   "source": [
    "# Load surveys and grids"
   ]
  },
  {
   "cell_type": "code",
   "execution_count": null,
   "metadata": {},
   "outputs": [],
   "source": [
    "# survey_names = ['DSA', 'FAST', 'parkes_mb_class_I_and_II', 'CRAFT_class_I_and_II', 'CRAFT_ICS_892', 'CRAFT_ICS_1300', 'CRAFT_ICS_1632']\n",
    "survey_names = ['CRAFT_ICS_1632']\n",
    "# repeat_names = ['CHIME/CHIME_decbin_0_of_6', 'CHIME/CHIME_decbin_1_of_6', 'CHIME/CHIME_decbin_2_of_6', 'CHIME/CHIME_decbin_3_of_6', 'CHIME/CHIME_decbin_4_of_6', 'CHIME/CHIME_decbin_5_of_6']\n",
    "\n",
    "state = parameters.State()\n",
    "state.set_astropy_cosmo(Planck18)\n",
    "\n",
    "param_dict={'sfr_n': 0.8808527057055584, 'alpha': 0.7895161131856694, 'lmean': 2.1198711983468064, 'lsigma': 0.44944780033763343, \n",
    "            'lEmax': 41.18671139482926, 'lEmin': 39.81049090314043, 'gamma': -1.1558450520609953, 'H0': 54.6887137195215, 'halo_method': 0}\n",
    "state.update_params(param_dict)\n",
    "\n",
    "surveys, grids = loading.surveys_and_grids(survey_names = survey_names, init_state=state)\n",
    "# surveys, grids = loading.surveys_and_grids(survey_names=repeat_names, repeaters=True)"
   ]
  },
  {
   "cell_type": "code",
   "execution_count": null,
   "metadata": {},
   "outputs": [],
   "source": [
    "for s in surveys:\n",
    "    print(s.name)\n",
    "    print(s.DMGs[np.abs(s.Gbs) > 30])"
   ]
  },
  {
   "cell_type": "markdown",
   "metadata": {},
   "source": [
    "# Plot grids"
   ]
  },
  {
   "cell_type": "code",
   "execution_count": null,
   "metadata": {},
   "outputs": [],
   "source": [
    "for s,g in zip(surveys, grids):\n",
    "    if s.zlist is None:\n",
    "        Zs = None\n",
    "        DMs = None\n",
    "    else:\n",
    "        Zs = s.Zs[s.zlist]\n",
    "        DMs = s.DMEGs[s.zlist]\n",
    "\n",
    "    if s.nozlist is not None:\n",
    "        DMlines = s.DMEGs[s.nozlist]\n",
    "    else:\n",
    "        DMlines = None\n",
    "\n",
    "    mf.plot_grid_2(\n",
    "        zDMgrid=g.rates,\n",
    "        zvals=g.zvals,\n",
    "        dmvals=g.dmvals,\n",
    "        zmax=3.0,\n",
    "        DMmax=3500,\n",
    "        norm=0,\n",
    "        log=True,\n",
    "        project=False,\n",
    "        Aconts=[0.01,0.1,0.5],\n",
    "        showplot=True,\n",
    "        save=False,\n",
    "        name=s.name + \".pdf\",\n",
    "        DMlines=DMlines,\n",
    "        DMlims=[s.max_dm],\n",
    "        FRBZ=Zs,\n",
    "        FRBDM=DMs,\n",
    "        data_clr='r',\n",
    "        data_clr2='tab:blue'\n",
    "        )"
   ]
  },
  {
   "cell_type": "markdown",
   "metadata": {},
   "source": [
    "# Save $P(z,DM)$ grids"
   ]
  },
  {
   "cell_type": "code",
   "execution_count": null,
   "metadata": {},
   "outputs": [],
   "source": [
    "# for s,g in zip(surveys, grids):\n",
    "#     np.save(s.name + '_pzdm', g.rates)"
   ]
  }
 ],
 "metadata": {
  "kernelspec": {
   "display_name": ".zdm_env",
   "language": "python",
   "name": "python3"
  },
  "language_info": {
   "codemirror_mode": {
    "name": "ipython",
    "version": 3
   },
   "file_extension": ".py",
   "mimetype": "text/x-python",
   "name": "python",
   "nbconvert_exporter": "python",
   "pygments_lexer": "ipython3",
   "version": "3.9.18"
  }
 },
 "nbformat": 4,
 "nbformat_minor": 2
}
