{
 "cells": [
  {
   "cell_type": "code",
   "execution_count": null,
   "metadata": {},
   "outputs": [],
   "source": [
    "import numpy as np\n",
    "\n",
    "from zdm import loading\n",
    "from zdm import parameters\n",
    "from astropy.cosmology import Planck18\n",
    "from zdm import misc_functions as mf\n",
    "\n",
    "import matplotlib.pyplot as plt\n",
    "from mpl_toolkits.mplot3d import Axes3D"
   ]
  },
  {
   "cell_type": "code",
   "execution_count": null,
   "metadata": {},
   "outputs": [],
   "source": [
    "file = 'MC_CRAFT_ICS_1300'\n",
    "\n",
    "state = parameters.State()\n",
    "state.set_astropy_cosmo(Planck18)\n",
    "\n",
    "param_dict={'sfr_n': 0.8808527057055584, 'alpha': 0.7895161131856694, 'lmean': 2.1198711983468064, 'lsigma': 0.44944780033763343, \n",
    "            'lEmax': 41.18671139482926, 'lEmin': 39.81049090314043, 'gamma': -1.1558450520609953, 'H0': 54.6887137195215}\n",
    "state.update_params(param_dict)\n",
    "\n",
    "ss,gs = loading.surveys_and_grids(survey_names=[file], init_state=state, rand_DMG=True)\n",
    "s = ss[0]\n",
    "g = gs[0]"
   ]
  },
  {
   "cell_type": "code",
   "execution_count": null,
   "metadata": {},
   "outputs": [],
   "source": [
    "if s.zlist is None:\n",
    "    Zs = None\n",
    "    DMs = None\n",
    "else:\n",
    "    Zs = s.Zs[s.zlist]\n",
    "    DMs = s.DMEGs[s.zlist]\n",
    "\n",
    "if s.nozlist is not None:\n",
    "    DMlines = s.DMEGs[s.nozlist]\n",
    "else:\n",
    "    DMlines = None\n",
    "\n",
    "mf.plot_grid_2(\n",
    "    zDMgrid=g.rates,\n",
    "    zvals=g.zvals,\n",
    "    dmvals=g.dmvals,\n",
    "    zmax=2.0,\n",
    "    DMmax=3500,\n",
    "    norm=0,\n",
    "    log=True,\n",
    "    project=False,\n",
    "    Aconts=[0.01,0.1,0.5],\n",
    "    showplot=True,\n",
    "    save=False,\n",
    "    name=file + \".pdf\",\n",
    "    DMlines=DMlines,\n",
    "    DMlims=[s.max_dm],\n",
    "    FRBZ=Zs,\n",
    "    FRBDM=DMs,\n",
    "    data_clr='r',\n",
    "    data_clr2='tab:blue'\n",
    ")\n",
    "\n",
    "print(s.DMEGs[s.DMEGs > 3000])\n",
    "print(s.DMGs[s.DMEGs > 3000])"
   ]
  },
  {
   "cell_type": "code",
   "execution_count": null,
   "metadata": {},
   "outputs": [],
   "source": [
    "# s.Gbs = s.Gbs / np.pi * 180\n",
    "x = np.cos(s.Gls/180*np.pi) * np.cos(s.Gbs/180*np.pi)\n",
    "y = np.sin(s.Gls/180*np.pi) * np.cos(s.Gbs/180*np.pi)\n",
    "z = np.sin(s.Gbs/180*np.pi)\n",
    "\n",
    "fig = plt.figure()\n",
    "\n",
    "ax  = fig.add_subplot(1, 1, 1, projection='3d')\n",
    "\n",
    "ax.plot(x, y, z, '.k')\n",
    "\n",
    "ax.set_xlim(-1.1, 1.1)\n",
    "ax.set_ylim(-1.1, 1.1)\n",
    "ax.set_zlim(-1.1, 1.1)\n",
    "\n",
    "ax.view_init(elev=30, azim=15)"
   ]
  },
  {
   "cell_type": "code",
   "execution_count": null,
   "metadata": {},
   "outputs": [],
   "source": [
    "plt.hist(s.DMGs, bins=100)"
   ]
  },
  {
   "cell_type": "code",
   "execution_count": null,
   "metadata": {},
   "outputs": [],
   "source": [
    "plt.hist(np.sin(s.Gbs/180*np.pi))"
   ]
  },
  {
   "cell_type": "code",
   "execution_count": null,
   "metadata": {},
   "outputs": [],
   "source": [
    "plt.hist(s.Gls)"
   ]
  },
  {
   "cell_type": "code",
   "execution_count": null,
   "metadata": {},
   "outputs": [],
   "source": [
    "# from astropy.table import Table"
   ]
  },
  {
   "cell_type": "code",
   "execution_count": null,
   "metadata": {},
   "outputs": [],
   "source": [
    "# T = Table.read('../craco/MC_CRAFT_ICS_1300.ecsv')\n",
    "\n",
    "# # T['Gb'] = T['Gb'] / np.pi * 180\n",
    "# T['TNS'] = (T['TNS'].value.astype(int) + 6000).astype(str)\n",
    "\n",
    "# T.write('test.ecsv', format='ascii.ecsv')"
   ]
  }
 ],
 "metadata": {
  "kernelspec": {
   "display_name": ".zdm_env",
   "language": "python",
   "name": "python3"
  },
  "language_info": {
   "codemirror_mode": {
    "name": "ipython",
    "version": 3
   },
   "file_extension": ".py",
   "mimetype": "text/x-python",
   "name": "python",
   "nbconvert_exporter": "python",
   "pygments_lexer": "ipython3",
   "version": "3.9.18"
  }
 },
 "nbformat": 4,
 "nbformat_minor": 2
}
