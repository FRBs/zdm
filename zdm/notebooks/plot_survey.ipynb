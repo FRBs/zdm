{
 "cells": [
  {
   "cell_type": "code",
   "execution_count": null,
   "metadata": {},
   "outputs": [],
   "source": [
    "import numpy as np\n",
    "\n",
    "from zdm import loading\n",
    "from zdm import parameters\n",
    "from astropy.cosmology import Planck18\n",
    "from zdm import misc_functions as mf\n",
    "\n",
    "from zdm import iteration as iteration\n",
    "\n",
    "import matplotlib.pyplot as plt\n",
    "from mpl_toolkits.mplot3d import Axes3D\n",
    "\n",
    "plt.rcParams['figure.figsize'] = [8,6]"
   ]
  },
  {
   "cell_type": "code",
   "execution_count": null,
   "metadata": {},
   "outputs": [],
   "source": [
    "file = 'MC_CRAFT_ICS_1300_2'\n",
    "# file = 'DSA'\n",
    "\n",
    "state = parameters.State()\n",
    "state.set_astropy_cosmo(Planck18)\n",
    "\n",
    "param_dict={'sfr_n': 0.8808527057055584, 'alpha': 0.7895161131856694, 'lmean': 2.1198711983468064, 'lsigma': 0.44944780033763343, \n",
    "            'lEmax': 41.18671139482926, 'lEmin': 39.81049090314043, 'gamma': -1.1558450520609953, 'H0': 54.6887137195215, 'sigmaDMG': 0.0, 'sigmaHalo': 0.0}\n",
    "state.update_params(param_dict)\n",
    "\n",
    "ss,gs = loading.surveys_and_grids(survey_names=[file], init_state=state, rand_DMG=False)\n",
    "\n",
    "s = ss[0]\n",
    "g = gs[0]\n",
    "\n",
    "iteration.get_log_likelihood(g,s)"
   ]
  },
  {
   "cell_type": "code",
   "execution_count": null,
   "metadata": {},
   "outputs": [],
   "source": [
    "if s.zlist is None:\n",
    "    Zs = None\n",
    "    DMs = None\n",
    "else:\n",
    "    Zs = s.Zs[s.zlist]\n",
    "    DMs = s.DMEGs[s.zlist]\n",
    "\n",
    "if s.nozlist is not None:\n",
    "    DMlines = s.DMEGs[s.nozlist]\n",
    "else:\n",
    "    DMlines = None\n",
    "\n",
    "mf.plot_grid_2(\n",
    "    zDMgrid=g.rates,\n",
    "    zvals=g.zvals,\n",
    "    dmvals=g.dmvals,\n",
    "    zmax=2.5,\n",
    "    DMmax=3500,\n",
    "    norm=0,\n",
    "    log=True,\n",
    "    project=False,\n",
    "    Aconts=[0.01,0.1,0.5],\n",
    "    showplot=True,\n",
    "    save=False,\n",
    "    name=file + \".pdf\",\n",
    "    DMlines=DMlines,\n",
    "    DMlims=[s.max_dm],\n",
    "    FRBZ=Zs,\n",
    "    FRBDM=DMs,\n",
    "    data_clr='r',\n",
    "    data_clr2='tab:blue'\n",
    ")"
   ]
  },
  {
   "cell_type": "code",
   "execution_count": null,
   "metadata": {},
   "outputs": [],
   "source": [
    "xedges = np.append(g.zvals[::10], g.zvals[-1])\n",
    "yedges = np.append(g.dmvals[::10], g.dmvals[-1])\n",
    "heatmap, xedges, yedges = np.histogram2d(Zs, DMs, bins=(xedges, yedges))\n",
    "dz = g.zvals[1] - g.zvals[0]\n",
    "ddm = g.dmvals[1] - g.dmvals[0]\n",
    "\n",
    "heatmap = heatmap\n",
    "rates = np.zeros([int(len(g.zvals)/10), int(len(g.dmvals)/10)])\n",
    "\n",
    "for i in range(g.rates.shape[0]):\n",
    "    for j in range(g.rates.shape[1]):\n",
    "        rates[i//10,j//10] += g.rates[i,j]\n",
    "\n",
    "rates = rates / np.sum(rates) / dz / ddm\n",
    "print(np.sum(np.abs(heatmap - rates)))\n",
    "\n",
    "mf.plot_grid_2(\n",
    "    zDMgrid= np.abs(heatmap),\n",
    "    zvals=g.zvals[5::10],\n",
    "    dmvals=g.dmvals[5::10],\n",
    "    zmax=2.5,\n",
    "    DMmax=3500,\n",
    "    norm=0,\n",
    "    log=True,\n",
    "    project=False,\n",
    "    showplot=True,\n",
    "    save=False,\n",
    "    name=file + \".pdf\",\n",
    "    DMlims=[s.max_dm],\n",
    "    data_clr='r',\n",
    "    data_clr2='tab:blue'\n",
    ")"
   ]
  },
  {
   "cell_type": "code",
   "execution_count": null,
   "metadata": {},
   "outputs": [],
   "source": [
    "pdm = np.sum(g.rates, axis=0)\n",
    "pz = np.sum(g.rates, axis=1)\n",
    "\n",
    "fig, axs = plt.subplots(2,1)\n",
    "dm_hist = axs[0].hist(s.DMEGs, bins=100)\n",
    "axs[0].plot(g.dmvals, pdm / np.max(pdm) * np.max(dm_hist[0]))\n",
    "axs[0].set_xlim(left=0, right=2000)\n",
    "\n",
    "z_hist = axs[1].hist(s.Zs, bins=100)\n",
    "axs[1].plot(g.zvals, pz / np.max(pz) * np.max(z_hist[0]))\n",
    "axs[1].set_xlim(left=0, right=2)"
   ]
  },
  {
   "cell_type": "code",
   "execution_count": null,
   "metadata": {},
   "outputs": [],
   "source": [
    "# s.Gbs = s.Gbs / np.pi * 180\n",
    "x = np.cos(s.Gls/180*np.pi) * np.cos(s.Gbs/180*np.pi)\n",
    "y = np.sin(s.Gls/180*np.pi) * np.cos(s.Gbs/180*np.pi)\n",
    "z = np.sin(s.Gbs/180*np.pi)\n",
    "\n",
    "fig = plt.figure()\n",
    "\n",
    "ax  = fig.add_subplot(1, 1, 1, projection='3d')\n",
    "\n",
    "ax.plot(x, y, z, '.k')\n",
    "\n",
    "ax.set_xlim(-1.1, 1.1)\n",
    "ax.set_ylim(-1.1, 1.1)\n",
    "ax.set_zlim(-1.1, 1.1)\n",
    "\n",
    "ax.view_init(elev=30, azim=15)"
   ]
  },
  {
   "cell_type": "code",
   "execution_count": null,
   "metadata": {},
   "outputs": [],
   "source": [
    "hist = plt.hist(s.DMGs, bins=100)\n",
    "\n",
    "# high = np.sin(s.Gbs[s.DMGs > 100]/180*np.pi)\n",
    "# plt.hist(high, bins=20)"
   ]
  },
  {
   "cell_type": "code",
   "execution_count": null,
   "metadata": {},
   "outputs": [],
   "source": [
    "plt.hist(np.sin(s.Gbs/180*np.pi), bins=20)"
   ]
  },
  {
   "cell_type": "code",
   "execution_count": null,
   "metadata": {},
   "outputs": [],
   "source": [
    "plt.hist(s.Gls)"
   ]
  },
  {
   "cell_type": "code",
   "execution_count": 10,
   "metadata": {},
   "outputs": [],
   "source": [
    "# uDMGs = 0.5\n",
    "# # DMhalo = 100.0\n",
    "\n",
    "# ax = plt.subplot()\n",
    "# plt.title(s.name)\n",
    "# ax.set_xlabel('DM')\n",
    "# ax.set_ylabel('Weight')\n",
    "\n",
    "# # s.DMhalo = DMhalo\n",
    "# # s.init_DMEG(DMhalo)\n",
    "\n",
    "# dmvals=g.dmvals\n",
    "# DMobs=s.DMEGs\n",
    "\n",
    "#     # calc_DMG_weights(DMEGs, DMhalos, DM_ISMs, dmvals, sigma_ISM=0.5, sigma_halo=15.0, percent_ISM=True)\n",
    "# dm_weights, iweights = iteration.calc_DMG_weights(DMobs, s.DMhalos, s.DMGs, dmvals, uDMGs)\n",
    "# print(s.DMEGs)\n",
    "\n",
    "# pdm = np.sum(g.rates, axis=0)\n",
    "# pdm = pdm / np.max(pdm) * np.max(dm_weights[0])\n",
    "\n",
    "# for i in range(len(DMobs)):\n",
    "#     ax.plot(dmvals[iweights[i]], dm_weights[i], '.-', label=s.frbs[\"TNS\"][i] + \" \" + str(s.DMGs[i]))\n",
    "\n",
    "# ax.plot(dmvals, pdm) # Upper limit is not correct because grid has not been updated so efficiencies have not been recalc'd\n",
    "# ax.set_xlim(right=3000)\n",
    "# # ax.legend()\n",
    "\n",
    "# iteration.get_log_likelihood(g,s)\n"
   ]
  }
 ],
 "metadata": {
  "kernelspec": {
   "display_name": ".zdm_env",
   "language": "python",
   "name": "python3"
  },
  "language_info": {
   "codemirror_mode": {
    "name": "ipython",
    "version": 3
   },
   "file_extension": ".py",
   "mimetype": "text/x-python",
   "name": "python",
   "nbconvert_exporter": "python",
   "pygments_lexer": "ipython3",
   "version": "3.9.18"
  }
 },
 "nbformat": 4,
 "nbformat_minor": 2
}
