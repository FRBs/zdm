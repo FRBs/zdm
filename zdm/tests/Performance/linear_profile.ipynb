{
 "cells": [
  {
   "cell_type": "markdown",
   "metadata": {},
   "source": [
    "# Calc_PDV speedup\n",
    "\n",
    "After time_profiling the different functions of grid.py, it was found that the main bottleneck was under calc_PDV, more specifically to the call to scipy's spline function, which took up almost more than 50% of the compuation time. We then proceeded to speed up the method by doing the following:\n",
    "\n",
    "- replacing every instance of the spline evaluation `scipy.interpolate.splev()` with linear interpolation `scipy.interpolate.interp1d()` \n",
    "- converting interpolation values to log space\n",
    "\n",
    "The following notebook was created to measure the results of the changes using the following criteria:\n",
    "- average speedup\n",
    "- accuracy"
   ]
  },
  {
   "cell_type": "markdown",
   "metadata": {},
   "source": [
    "### Importing specific packages\n",
    "\n",
    "`profile_linear.py` contains the following:\n",
    "- `run_spline()` for running the original `grid.update()` with spline interpolation\n",
    "- `run_linear()` for running `grid.update()` with linear interpolation\n",
    "- `run_linear_log10()` for running `grid.update()` with linear interpolation AND log10 space conversion\n",
    "\n",
    "The rest of the packages are for statistical plotting and analysis"
   ]
  },
  {
   "cell_type": "code",
   "execution_count": 1,
   "metadata": {},
   "outputs": [
    {
     "name": "stderr",
     "output_type": "stream",
     "text": [
      "/Users/ethandomingo/Documents/CODING/ZDM/FRB/frb/halos/hmf.py:51: UserWarning: hmf_emulator not imported.  Hope you are not intending to use the hmf.py module..\n",
      "  warnings.warn(\"hmf_emulator not imported.  Hope you are not intending to use the hmf.py module..\")\n"
     ]
    },
    {
     "name": "stdout",
     "output_type": "stream",
     "text": [
      "Loading survey: CRACO_std_May2022\n",
      "FRB survey sucessfully initialised with  100  FRBs starting from 100\n",
      "Initializing igamma_spline for gamma=-1.01\n",
      "Initialised grid\n",
      "Time to normal loop = 0:00:02.471023\n",
      "Time to normal loop = 0:00:02.334761\n",
      "Time to normal loop = 0:00:02.343381\n",
      "Time to normal loop = 0:00:02.331570\n",
      "Time to normal loop = 0:00:02.333930\n",
      "Time to normal loop = 0:00:02.325496\n",
      "Time to normal loop = 0:00:02.322971\n",
      "Time to normal loop = 0:00:02.318157\n",
      "Time to normal loop = 0:00:02.336194\n",
      "Time to normal loop = 0:00:02.332849\n",
      "0:00:02.345033\n",
      "Initializing igamma_linear for gamma=-1.01\n",
      "Time to normal loop = 0:00:01.757174\n",
      "Time to normal loop = 0:00:01.598226\n",
      "Time to normal loop = 0:00:01.598468\n",
      "Time to normal loop = 0:00:01.617744\n",
      "Time to normal loop = 0:00:01.598482\n",
      "Time to normal loop = 0:00:01.607455\n",
      "Time to normal loop = 0:00:01.600534\n",
      "Time to normal loop = 0:00:01.610886\n",
      "Time to normal loop = 0:00:01.600387\n",
      "Time to normal loop = 0:00:01.603870\n",
      "0:00:01.619323\n",
      "Initializing igamma_linear for gamma=-1.01 with log10\n",
      "Time to normal loop = 0:00:00.722244\n",
      "Time to normal loop = 0:00:00.579609\n",
      "Time to normal loop = 0:00:00.573401\n",
      "Time to normal loop = 0:00:00.567670\n",
      "Time to normal loop = 0:00:00.571821\n",
      "Time to normal loop = 0:00:00.572218\n",
      "Time to normal loop = 0:00:00.573391\n",
      "Time to normal loop = 0:00:00.572216\n",
      "Time to normal loop = 0:00:00.587283\n",
      "Time to normal loop = 0:00:00.574861\n",
      "0:00:00.589471\n"
     ]
    }
   ],
   "source": [
    "from profile_linear import *\n",
    "import matplotlib.pyplot as plt\n",
    "import numpy as np\n",
    "import statistics\n",
    "import seaborn\n",
    "from scipy.stats import norm\n"
   ]
  },
  {
   "cell_type": "markdown",
   "metadata": {},
   "source": [
    "## Analayzing the data\n"
   ]
  },
  {
   "cell_type": "markdown",
   "metadata": {},
   "source": [
    "### Speed-up\n",
    "\n",
    "`profile_linear.py` contains the follow time averages defined as `datetime.timedelta`\n",
    "\n",
    "- `splineAvg` for spline time average \n",
    "- `linearAvg` for linear time average\n",
    "- `linearLogAvg` for linear time w/ logspace conversion time average"
   ]
  },
  {
   "cell_type": "code",
   "execution_count": 20,
   "metadata": {},
   "outputs": [
    {
     "name": "stdout",
     "output_type": "stream",
     "text": [
      "Spline Time: 0:00:02.345033\n",
      "Linear Time: 0:00:01.619323\n",
      "Linear Speed-up: 1.45 times faster\n"
     ]
    }
   ],
   "source": [
    "print(\"Spline Time:\", splineAvg)\n",
    "print(\"Linear Time:\", linearAvg)\n",
    "print(f\"Linear Speed-up: {(splineAvg/linearAvg):.2f} times faster\")\n"
   ]
  },
  {
   "cell_type": "code",
   "execution_count": 21,
   "metadata": {},
   "outputs": [
    {
     "name": "stdout",
     "output_type": "stream",
     "text": [
      "Spline Time: 0:00:02.345033\n",
      "Linear Log Time: 0:00:00.589471\n",
      "Linear Log Speed-up: 3.98 times faster\n"
     ]
    }
   ],
   "source": [
    "print(\"Spline Time:\", splineAvg)\n",
    "print(\"Linear Log Time:\", linearAvgLog)\n",
    "print(f\"Linear Log Speed-up: {(splineAvg/linearAvgLog):.2f} times faster\")"
   ]
  },
  {
   "cell_type": "markdown",
   "metadata": {},
   "source": [
    "### Accuracy\n",
    "\n",
    "Importing the data from `profile_linear.py`, we use the following calculation for relative accuracy:\n",
    "\n",
    "\\begin{align}\n",
    "\\frac{|spline - speedup|}{spline}\n",
    "\\end{align}"
   ]
  },
  {
   "cell_type": "code",
   "execution_count": 14,
   "metadata": {},
   "outputs": [
    {
     "data": {
      "text/plain": [
       "700000"
      ]
     },
     "execution_count": 14,
     "metadata": {},
     "output_type": "execute_result"
    }
   ],
   "source": [
    "splineLinear = relative_acc_array.flatten()\n",
    "splineLinear.size\n",
    "splineLinearLog = relative_acc_array2.flatten()\n",
    "splineLinearLog.size"
   ]
  },
  {
   "cell_type": "markdown",
   "metadata": {},
   "source": [
    "Plotting both sets of data on a histogram yields the following result"
   ]
  },
  {
   "cell_type": "code",
   "execution_count": 15,
   "metadata": {},
   "outputs": [
    {
     "data": {
      "image/png": "[encoded data removed]",
      "text/plain": [
       "<Figure size 432x288 with 1 Axes>"
      ]
     },
     "metadata": {},
     "output_type": "display_data"
    }
   ],
   "source": [
    "fig = plt.figure()\n",
    "fig.patch.set_facecolor('white')\n",
    "plot = plt.hist(splineLinear, bins=100)\n",
    "\n",
    "plt.ylabel(\"Number of values\")\n",
    "plt.xlabel(\"Accuracy Percentage\")\n",
    "plt.title(\"Accuracy % spline vs. linear \")\n",
    "plt.savefig(\"Accuracy_spline_linear_.png\")\n"
   ]
  },
  {
   "cell_type": "code",
   "execution_count": 19,
   "metadata": {},
   "outputs": [
    {
     "data": {
      "image/png": "[encoded data removed]",
      "text/plain": [
       "<Figure size 432x288 with 1 Axes>"
      ]
     },
     "metadata": {},
     "output_type": "display_data"
    }
   ],
   "source": [
    "fig = plt.figure()\n",
    "fig.patch.set_facecolor('white')\n",
    "plot = plt.hist(splineLinearLog, bins=100)\n",
    "\n",
    "plt.ylabel(\"Number of values\")\n",
    "plt.xlabel(\"Accuracy Percentage\")\n",
    "plt.title(\"Accuracy % spline vs. Linear Log\")\n",
    "plt.savefig(\"Accuracy_spline_linear_Log_.png\")"
   ]
  },
  {
   "cell_type": "markdown",
   "metadata": {},
   "source": [
    "And calculating other values with accuracies"
   ]
  },
  {
   "cell_type": "code",
   "execution_count": 6,
   "metadata": {},
   "outputs": [
    {
     "name": "stdout",
     "output_type": "stream",
     "text": [
      "MEAN: 0.0016211265540896714\n",
      "STDEV: 0.0016785839647129389\n",
      "MEDIAN: 0.0009653076914118014\n",
      "MINIMUM: 3.490627605245515e-05\n",
      "MAXIMUM: 0.009467970353336382\n"
     ]
    }
   ],
   "source": [
    "mean = statistics.mean(splineLinear)\n",
    "stdev = statistics.stdev(splineLinear)\n",
    "median = statistics.median(splineLinear)\n",
    "\n",
    "print(\"MEAN:\", mean)\n",
    "print(\"STDEV:\", stdev)\n",
    "print(\"MEDIAN:\", median)\n",
    "print(\"MINIMUM:\", min(splineLinear))\n",
    "print(\"MAXIMUM:\", max(splineLinear))"
   ]
  },
  {
   "cell_type": "code",
   "execution_count": 7,
   "metadata": {},
   "outputs": [
    {
     "name": "stdout",
     "output_type": "stream",
     "text": [
      "MEAN: 0.0013483201465521754\n",
      "STDEV: 0.0015182031848972517\n",
      "MEDIAN: 0.0007317795663838841\n",
      "MINIMUM: 1.767777776321799e-05\n",
      "MAXIMUM: 0.008601693214460623\n"
     ]
    }
   ],
   "source": [
    "mean = statistics.mean(splineLinearLog)\n",
    "stdev = statistics.stdev(splineLinearLog)\n",
    "median = statistics.median(splineLinearLog)\n",
    "\n",
    "print(\"MEAN:\", mean)\n",
    "print(\"STDEV:\", stdev)\n",
    "print(\"MEDIAN:\", median)\n",
    "print(\"MINIMUM:\", min(splineLinearLog))\n",
    "print(\"MAXIMUM:\", max(splineLinearLog))"
   ]
  }
 ],
 "metadata": {
  "kernelspec": {
   "display_name": "Python 3.9.7 ('base')",
   "language": "python",
   "name": "python3"
  },
  "language_info": {
   "codemirror_mode": {
    "name": "ipython",
    "version": 3
   },
   "file_extension": ".py",
   "mimetype": "text/x-python",
   "name": "python",
   "nbconvert_exporter": "python",
   "pygments_lexer": "ipython3",
   "version": "3.9.7"
  },
  "orig_nbformat": 4,
  "vscode": {
   "interpreter": {
    "hash": "0d4397f28a53cbce0d6a03358e2baad1194adb363516cfcc3153fa630ceeb8c4"
   }
  }
 },
 "nbformat": 4,
 "nbformat_minor": 2
}
