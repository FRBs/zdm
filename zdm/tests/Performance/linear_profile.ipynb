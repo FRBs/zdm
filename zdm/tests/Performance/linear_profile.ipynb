{
 "cells": [
  {
   "cell_type": "code",
   "execution_count": 1,
   "metadata": {},
   "outputs": [
    {
     "name": "stderr",
     "output_type": "stream",
     "text": [
      "/Users/ethandomingo/Documents/CODING/ZDM/FRB/frb/halos/hmf.py:51: UserWarning: hmf_emulator not imported.  Hope you are not intending to use the hmf.py module..\n",
      "  warnings.warn(\"hmf_emulator not imported.  Hope you are not intending to use the hmf.py module..\")\n"
     ]
    },
    {
     "name": "stdout",
     "output_type": "stream",
     "text": [
      "Loading survey: CRACO_std_May2022\n",
      "FRB survey sucessfully initialised with  100  FRBs starting from 100\n",
      "Initializing igamma_spline for gamma=-1.01\n",
      "Time to normal loop = 0:00:02.376227\n",
      "Initialised grid\n",
      "Time to normal loop = 0:00:02.391452\n",
      "Initializing igamma_linear for gamma=-1.01\n",
      "Time to normal loop = 0:00:01.770719\n"
     ]
    }
   ],
   "source": [
    "from profile_linear import *"
   ]
  },
  {
   "cell_type": "code",
   "execution_count": 24,
   "metadata": {},
   "outputs": [],
   "source": [
    "import matplotlib.pyplot as plt\n",
    "import numpy as np\n",
    "import statistics\n",
    "import seaborn\n",
    "from scipy.stats import norm\n"
   ]
  },
  {
   "cell_type": "code",
   "execution_count": 39,
   "metadata": {},
   "outputs": [
    {
     "data": {
      "text/plain": [
       "700000"
      ]
     },
     "execution_count": 39,
     "metadata": {},
     "output_type": "execute_result"
    }
   ],
   "source": [
    "mainData = relative_acc_array.flatten()\n",
    "mainData.size"
   ]
  },
  {
   "cell_type": "code",
   "execution_count": 59,
   "metadata": {},
   "outputs": [
    {
     "data": {
      "text/plain": [
       "Text(0.5, 1.0, 'Accuracy % spline vs. linear ')"
      ]
     },
     "execution_count": 59,
     "metadata": {},
     "output_type": "execute_result"
    },
    {
     "data": {
      "image/png": "[encoded data removed]",
      "text/plain": [
       "<Figure size 432x288 with 1 Axes>"
      ]
     },
     "metadata": {},
     "output_type": "display_data"
    }
   ],
   "source": [
    "fig = plt.figure()\n",
    "\n",
    "fig.patch.set_facecolor('white')\n",
    "\n",
    "plot = plt.hist(mainData, bins=100)\n",
    "\n",
    "plt.title(\"Accuracy % spline vs. linear \")\n"
   ]
  },
  {
   "cell_type": "code",
   "execution_count": 60,
   "metadata": {},
   "outputs": [
    {
     "name": "stdout",
     "output_type": "stream",
     "text": [
      "MEAN: 0.0016211265540896714\n",
      "STDEV: 0.0016785839647129389\n",
      "MEDIAN: 0.0009653076914118014\n",
      "MINIMUM: 3.490627605245515e-05\n",
      "MAXIMUM: 0.009467970353336382\n"
     ]
    }
   ],
   "source": [
    "\n",
    "mean = statistics.mean(mainData)\n",
    "stdev = statistics.stdev(mainData)\n",
    "median = statistics.median(mainData)\n",
    "\n",
    "print(\"MEAN:\", mean)\n",
    "print(\"STDEV:\", stdev)\n",
    "print(\"MEDIAN:\", median)\n",
    "print(\"MINIMUM:\", min(mainData))\n",
    "print(\"MAXIMUM:\", max(mainData))"
   ]
  },
  {
   "cell_type": "code",
   "execution_count": null,
   "metadata": {},
   "outputs": [],
   "source": []
  }
 ],
 "metadata": {
  "kernelspec": {
   "display_name": "Python 3.9.7 ('base')",
   "language": "python",
   "name": "python3"
  },
  "language_info": {
   "codemirror_mode": {
    "name": "ipython",
    "version": 3
   },
   "file_extension": ".py",
   "mimetype": "text/x-python",
   "name": "python",
   "nbconvert_exporter": "python",
   "pygments_lexer": "ipython3",
   "version": "3.9.7"
  },
  "orig_nbformat": 4,
  "vscode": {
   "interpreter": {
    "hash": "0d4397f28a53cbce0d6a03358e2baad1194adb363516cfcc3153fa630ceeb8c4"
   }
  }
 },
 "nbformat": 4,
 "nbformat_minor": 2
}
