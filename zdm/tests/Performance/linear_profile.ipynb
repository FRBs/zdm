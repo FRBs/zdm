{
 "cells": [
  {
   "cell_type": "markdown",
   "metadata": {},
   "source": [
    "# Calc_PDV speedup\n",
    "\n",
    "After time_profiling the different functions of grid.py, it was found that the main bottleneck was under calc_PDV, more specifically to the call to scipy's spline function, which took up almost more than 50% of the compuation time. We then proceeded to speed up the method by doing the following:\n",
    "\n",
    "- replacing every instance of the spline evaluation `scipy.interpolate.splev()` with linear interpolation `scipy.interpolate.interp1d()` \n",
    "- converting interpolation values to log space\n",
    "\n",
    "The following notebook was created to measure the results of the changes using the following criteria:\n",
    "- average speedup\n",
    "- accuracy"
   ]
  },
  {
   "cell_type": "markdown",
   "metadata": {},
   "source": [
    "### Importing specific packages\n",
    "\n",
    "`profile_linear.py` contains the following:\n",
    "- `run_spline()` for running the original `grid.update()` with spline interpolation\n",
    "- `run_linear()` for running `grid.update()` with linear interpolation\n",
    "- `run_linear_log10()` for running `grid.update()` with linear interpolation AND log10 space conversion\n",
    "\n",
    "The rest of the packages are for statistical plotting and analysis"
   ]
  },
  {
   "cell_type": "code",
   "execution_count": 2,
   "metadata": {},
   "outputs": [
    {
     "name": "stderr",
     "output_type": "stream",
     "text": [
      "/Users/ethandomingo/Documents/CODING/ZDM/FRB/frb/halos/hmf.py:51: UserWarning: hmf_emulator not imported.  Hope you are not intending to use the hmf.py module..\n",
      "  warnings.warn(\"hmf_emulator not imported.  Hope you are not intending to use the hmf.py module..\")\n"
     ]
    },
    {
     "name": "stdout",
     "output_type": "stream",
     "text": [
      "Loading survey: CRACO_std_May2022\n",
      "FRB survey sucessfully initialised with  100  FRBs starting from 100\n",
      "Initializing igamma_spline for gamma=-1.01\n",
      "Initialised grid\n",
      "Time to normal loop = 0:00:02.448253\n",
      "Time to normal loop = 0:00:02.285633\n",
      "Time to normal loop = 0:00:02.282392\n",
      "Time to normal loop = 0:00:02.327803\n",
      "Time to normal loop = 0:00:02.314856\n",
      "Time to normal loop = 0:00:02.270598\n",
      "Time to normal loop = 0:00:02.269234\n",
      "Time to normal loop = 0:00:02.349119\n",
      "Time to normal loop = 0:00:02.295221\n",
      "Time to normal loop = 0:00:02.320023\n",
      "0:00:02.316313\n",
      "Initializing igamma_linear for gamma=-1.01\n",
      "Time to normal loop = 0:00:01.722815\n",
      "Time to normal loop = 0:00:01.586218\n",
      "Time to normal loop = 0:00:01.563783\n",
      "Time to normal loop = 0:00:01.601894\n",
      "Time to normal loop = 0:00:01.608206\n",
      "Time to normal loop = 0:00:01.602565\n",
      "Time to normal loop = 0:00:01.602405\n",
      "Time to normal loop = 0:00:01.598291\n",
      "Time to normal loop = 0:00:01.591059\n",
      "Time to normal loop = 0:00:01.577664\n",
      "0:00:01.605490\n",
      "Initializing igamma_linear for gamma=-1.01 with log10\n",
      "Time to normal loop = 0:00:01.768497\n",
      "Time to normal loop = 0:00:01.609621\n",
      "Time to normal loop = 0:00:01.601624\n",
      "Time to normal loop = 0:00:01.602011\n",
      "Time to normal loop = 0:00:01.615856\n",
      "Time to normal loop = 0:00:01.602597\n",
      "Time to normal loop = 0:00:01.600586\n",
      "Time to normal loop = 0:00:01.607334\n",
      "Time to normal loop = 0:00:01.594961\n",
      "Time to normal loop = 0:00:01.596733\n",
      "0:00:01.619982\n",
      "Python 3.9.7 (default, Sep 16 2021, 08:50:36) \n",
      "Type 'copyright', 'credits' or 'license' for more information\n",
      "IPython 7.29.0 -- An enhanced Interactive Python. Type '?' for help.\n",
      "\n",
      "\n",
      "\n"
     ]
    }
   ],
   "source": [
    "from profile_linear import *\n",
    "import matplotlib.pyplot as plt\n",
    "import numpy as np\n",
    "import statistics\n",
    "import seaborn\n",
    "from scipy.stats import norm\n"
   ]
  },
  {
   "cell_type": "markdown",
   "metadata": {},
   "source": [
    "## Analayzing the data\n"
   ]
  },
  {
   "cell_type": "markdown",
   "metadata": {},
   "source": [
    "### Speed-up\n",
    "\n",
    "`profile_linear.py` contains the follow time averages defined as `datetime.timedelta`\n",
    "\n",
    "- `splineAvg` for spline time average \n",
    "- `linearAvg` for linear time average\n",
    "- `linearLogAvg` for linear time w/ logspace conversion time average"
   ]
  },
  {
   "cell_type": "code",
   "execution_count": 10,
   "metadata": {},
   "outputs": [
    {
     "name": "stdout",
     "output_type": "stream",
     "text": [
      "Spline Time: 0:00:02.316313\n",
      "Linear Time: 0:00:01.605490\n",
      "Linear Speed-up: 0.30687692034712066 faster\n",
      "Linear Log Time: 0:00:01.619982\n",
      "Linear Log Speed-up: 0.3006204256505921 faster\n"
     ]
    }
   ],
   "source": [
    "print(\"Spline Time:\", splineAvg)\n",
    "print(\"Linear Time:\", linearAvg)\n",
    "print(\"Linear Speed-up:\", 1 - (linearAvg/splineAvg), \"faster\" )\n",
    "print(\"Linear Log Time:\", linearAvgLog)\n",
    "print(\"Linear Log Speed-up:\", 1 - (linearAvgLog/splineAvg), \"faster\")"
   ]
  },
  {
   "cell_type": "markdown",
   "metadata": {},
   "source": [
    "### Accuracy\n",
    "\n",
    "Importing the data from `profile_linear.py`, we use the following calculation for relative accuracy:\n",
    "\n",
    "\\begin{align}\n",
    "\\frac{|spline - speedup|}{spline}\n",
    "\\end{align}"
   ]
  },
  {
   "cell_type": "code",
   "execution_count": 4,
   "metadata": {},
   "outputs": [
    {
     "data": {
      "text/plain": [
       "700000"
      ]
     },
     "execution_count": 4,
     "metadata": {},
     "output_type": "execute_result"
    }
   ],
   "source": [
    "splineLinear = relative_acc_array.flatten()\n",
    "splineLinear.size\n",
    "splineLinearLog = relative_acc_array2.flatten()\n",
    "splineLinearLog.size"
   ]
  },
  {
   "cell_type": "markdown",
   "metadata": {},
   "source": [
    "Plotting both sets of data on a histogram yields the following result"
   ]
  },
  {
   "cell_type": "code",
   "execution_count": 11,
   "metadata": {},
   "outputs": [
    {
     "data": {
      "image/png": "[encoded data removed]",
      "text/plain": [
       "<Figure size 432x288 with 1 Axes>"
      ]
     },
     "metadata": {},
     "output_type": "display_data"
    }
   ],
   "source": [
    "fig = plt.figure()\n",
    "fig.patch.set_facecolor('white')\n",
    "plot = plt.hist(splineLinear, bins=100)\n",
    "\n",
    "plt.ylabel(\"Number of values\")\n",
    "plt.xlabel(\"Accuracy Percentage\")\n",
    "plt.title(\"Accuracy % spline vs. linear \")\n",
    "plt.savefig(\"Accuracy_spline_linear_.png\")\n"
   ]
  },
  {
   "cell_type": "code",
   "execution_count": 6,
   "metadata": {},
   "outputs": [
    {
     "data": {
      "image/png": "[encoded data removed]",
      "text/plain": [
       "<Figure size 432x288 with 1 Axes>"
      ]
     },
     "metadata": {},
     "output_type": "display_data"
    }
   ],
   "source": [
    "fig = plt.figure()\n",
    "fig.patch.set_facecolor('white')\n",
    "plot = plt.hist(splineLinearLog, bins=100)\n",
    "\n",
    "plt.ylabel(\"Number of values\")\n",
    "plt.xlabel(\"Accuracy Percentage\")\n",
    "plt.title(\"Accuracy % spline vs. linear \")\n",
    "plt.savefig(\"Accuracy_spline_linear_.png\")"
   ]
  },
  {
   "cell_type": "markdown",
   "metadata": {},
   "source": [
    "And calculating other values with accuracies"
   ]
  },
  {
   "cell_type": "code",
   "execution_count": 7,
   "metadata": {},
   "outputs": [
    {
     "name": "stdout",
     "output_type": "stream",
     "text": [
      "MEAN: 0.0016211265540896714\n",
      "STDEV: 0.0016785839647129389\n",
      "MEDIAN: 0.0009653076914118014\n",
      "MINIMUM: 3.490627605245515e-05\n",
      "MAXIMUM: 0.009467970353336382\n"
     ]
    }
   ],
   "source": [
    "mean = statistics.mean(splineLinear)\n",
    "stdev = statistics.stdev(splineLinear)\n",
    "median = statistics.median(splineLinear)\n",
    "\n",
    "print(\"MEAN:\", mean)\n",
    "print(\"STDEV:\", stdev)\n",
    "print(\"MEDIAN:\", median)\n",
    "print(\"MINIMUM:\", min(splineLinear))\n",
    "print(\"MAXIMUM:\", max(splineLinear))"
   ]
  },
  {
   "cell_type": "code",
   "execution_count": 8,
   "metadata": {},
   "outputs": [
    {
     "name": "stdout",
     "output_type": "stream",
     "text": [
      "MEAN: 1.394666222670439e+16\n",
      "STDEV: 6.415349859877155e+16\n",
      "MEDIAN: 63373157577686.97\n",
      "MINIMUM: 33075357.95197776\n",
      "MAXIMUM: 1.188263749171341e+18\n"
     ]
    }
   ],
   "source": [
    "mean = statistics.mean(splineLinearLog)\n",
    "stdev = statistics.stdev(splineLinearLog)\n",
    "median = statistics.median(splineLinearLog)\n",
    "\n",
    "print(\"MEAN:\", mean)\n",
    "print(\"STDEV:\", stdev)\n",
    "print(\"MEDIAN:\", median)\n",
    "print(\"MINIMUM:\", min(splineLinearLog))\n",
    "print(\"MAXIMUM:\", max(splineLinearLog))"
   ]
  },
  {
   "cell_type": "code",
   "execution_count": 9,
   "metadata": {},
   "outputs": [
    {
     "name": "stdout",
     "output_type": "stream",
     "text": [
      "spline [[6.55887634e-10 6.55481295e-10 6.55054386e-10 ... 1.17965104e-10\n",
      "  1.17889475e-10 1.17813941e-10]\n",
      " [1.62148028e-10 1.62047384e-10 1.61941645e-10 ... 2.89645869e-11\n",
      "  2.89458834e-11 2.89272032e-11]\n",
      " [7.16162193e-11 7.15716511e-11 7.15248266e-11 ... 1.26759501e-11\n",
      "  1.26676880e-11 1.26594362e-11]\n",
      " ...\n",
      " [1.75685180e-15 1.75283264e-15 1.74861618e-15 ... 1.91122948e-20\n",
      "  1.89682763e-20 1.88253550e-20]\n",
      " [1.75085226e-15 1.74684350e-15 1.74263798e-15 ... 1.88214351e-20\n",
      "  1.86794443e-20 1.85385362e-20]\n",
      " [1.74488889e-15 1.74089050e-15 1.73669584e-15 ... 1.85355772e-20\n",
      "  1.83955811e-20 1.82566530e-20]]\n",
      "linear [[6.55970961e-10 6.55563661e-10 6.55134816e-10 ... 1.17980118e-10\n",
      "  1.17903660e-10 1.17827197e-10]\n",
      " [1.62169819e-10 1.62069201e-10 1.61963266e-10 ... 2.89686604e-11\n",
      "  2.89497946e-11 2.89309290e-11]\n",
      " [7.16235215e-11 7.15786202e-11 7.15318202e-11 ... 1.26773533e-11\n",
      "  1.26690943e-11 1.26608347e-11]\n",
      " ...\n",
      " [1.75786206e-15 1.75383316e-15 1.74959176e-15 ... 1.92778852e-20\n",
      "  1.91320894e-20 1.89862892e-20]\n",
      " [1.75190198e-15 1.74786758e-15 1.74362042e-15 ... 1.89833983e-20\n",
      "  1.88374041e-20 1.86914054e-20]\n",
      " [1.74595260e-15 1.74191274e-15 1.73765981e-15 ... 1.86894409e-20\n",
      "  1.85432485e-20 1.83970518e-20]]\n",
      "log [[0.02169372 0.02169372 0.02169372 ... 0.02169372 0.02169372 0.02169372]\n",
      " [0.02169372 0.02169372 0.02169372 ... 0.02169372 0.02169372 0.02169372]\n",
      " [0.02169372 0.02169372 0.02169372 ... 0.02169372 0.02169372 0.02169372]\n",
      " ...\n",
      " [0.02169372 0.02169372 0.02169372 ... 0.02169372 0.02169372 0.02169372]\n",
      " [0.02169372 0.02169372 0.02169372 ... 0.02169372 0.02169372 0.02169372]\n",
      " [0.02169372 0.02169372 0.02169372 ... 0.02169372 0.02169372 0.02169372]]\n"
     ]
    }
   ],
   "source": [
    "print(\"spline\",frac1)\n",
    "print(\"linear\",frac2)\n",
    "print(\"log\", frac3)"
   ]
  }
 ],
 "metadata": {
  "kernelspec": {
   "display_name": "Python 3.9.7 ('base')",
   "language": "python",
   "name": "python3"
  },
  "language_info": {
   "codemirror_mode": {
    "name": "ipython",
    "version": 3
   },
   "file_extension": ".py",
   "mimetype": "text/x-python",
   "name": "python",
   "nbconvert_exporter": "python",
   "pygments_lexer": "ipython3",
   "version": "3.9.7"
  },
  "orig_nbformat": 4,
  "vscode": {
   "interpreter": {
    "hash": "0d4397f28a53cbce0d6a03358e2baad1194adb363516cfcc3153fa630ceeb8c4"
   }
  }
 },
 "nbformat": 4,
 "nbformat_minor": 2
}
