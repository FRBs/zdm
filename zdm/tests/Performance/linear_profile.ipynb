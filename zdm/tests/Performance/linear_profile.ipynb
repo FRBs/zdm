{
 "cells": [
  {
   "cell_type": "code",
   "execution_count": 1,
   "metadata": {},
   "outputs": [
    {
     "name": "stderr",
     "output_type": "stream",
     "text": [
      "/Users/ethandomingo/Documents/CODING/ZDM/FRB/frb/halos/hmf.py:51: UserWarning: hmf_emulator not imported.  Hope you are not intending to use the hmf.py module..\n",
      "  warnings.warn(\"hmf_emulator not imported.  Hope you are not intending to use the hmf.py module..\")\n"
     ]
    },
    {
     "name": "stdout",
     "output_type": "stream",
     "text": [
      "Loading survey: CRACO_std_May2022\n",
      "FRB survey sucessfully initialised with  100  FRBs starting from 100\n",
      "Initializing igamma_spline for gamma=-1.01\n",
      "Time to normal loop = 0:00:02.376227\n",
      "Initialised grid\n",
      "Time to normal loop = 0:00:02.391452\n",
      "Initializing igamma_linear for gamma=-1.01\n",
      "Time to normal loop = 0:00:01.770719\n"
     ]
    }
   ],
   "source": [
    "from profile_linear import *"
   ]
  },
  {
   "cell_type": "code",
   "execution_count": 20,
   "metadata": {},
   "outputs": [],
   "source": [
    "import matplotlib.pyplot as plt\n",
    "import numpy as np\n",
    "import statistics\n",
    "from scipy.stats import norm"
   ]
  },
  {
   "cell_type": "code",
   "execution_count": 22,
   "metadata": {},
   "outputs": [
    {
     "name": "stdout",
     "output_type": "stream",
     "text": [
      "700000\n"
     ]
    }
   ],
   "source": [
    "print(relative_acc_array.size)"
   ]
  },
  {
   "cell_type": "code",
   "execution_count": 23,
   "metadata": {},
   "outputs": [],
   "source": [
    "fig = plt.figure()\n",
    "\n",
    "fig.patch.set_facecolor('white')\n",
    "\n",
    "# hist = plt.hist(relative_acc_array)"
   ]
  },
  {
   "cell_type": "code",
   "execution_count": null,
   "metadata": {},
   "outputs": [],
   "source": []
  }
 ],
 "metadata": {
  "kernelspec": {
   "display_name": "Python 3.9.7 ('base')",
   "language": "python",
   "name": "python3"
  },
  "language_info": {
   "codemirror_mode": {
    "name": "ipython",
    "version": 3
   },
   "file_extension": ".py",
   "mimetype": "text/x-python",
   "name": "python",
   "nbconvert_exporter": "python",
   "pygments_lexer": "ipython3",
   "version": "3.9.7"
  },
  "orig_nbformat": 4,
  "vscode": {
   "interpreter": {
    "hash": "0d4397f28a53cbce0d6a03358e2baad1194adb363516cfcc3153fa630ceeb8c4"
   }
  }
 },
 "nbformat": 4,
 "nbformat_minor": 2
}
