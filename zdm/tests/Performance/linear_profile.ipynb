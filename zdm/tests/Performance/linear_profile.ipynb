{
 "cells": [
  {
   "cell_type": "markdown",
   "metadata": {},
   "source": [
    "# Calc_PDV speedup\n",
    "\n",
    "After time_profiling the different functions of grid.py, it was found that the main bottleneck was under calc_PDV, more specifically to the call to scipy's spline function, which took up almost more than 50% of the compuation time. We then proceeded to speed up the method by doing the following:\n",
    "\n",
    "- replacing every instance of the spline evaluation `scipy.interpolate.splev()` with linear interpolation `scipy.interpolate.interp1d()` \n",
    "- converting interpolation values to log space\n",
    "\n",
    "The following notebook was created to measure the results of the changes using the following criteria:\n",
    "- average speedup\n",
    "- accuracy"
   ]
  },
  {
   "cell_type": "markdown",
   "metadata": {},
   "source": [
    "### Importing specific packages\n",
    "\n",
    "`profile_linear.py` contains the following:\n",
    "- `run_spline()` for running the original `grid.update()` with spline interpolation\n",
    "- `run_linear()` for running `grid.update()` with linear interpolation\n",
    "- `run_linear_log10()` for running `grid.update()` with linear interpolation AND log10 space conversion\n",
    "\n",
    "The rest of the packages are for statistical plotting and analysis"
   ]
  },
  {
   "cell_type": "code",
   "execution_count": 68,
   "metadata": {},
   "outputs": [],
   "source": [
    "from profile_linear import *\n",
    "import matplotlib.pyplot as plt\n",
    "import numpy as np\n",
    "import statistics\n",
    "import seaborn\n",
    "from scipy.stats import norm\n"
   ]
  },
  {
   "cell_type": "markdown",
   "metadata": {},
   "source": [
    "## Analayzing the data\n"
   ]
  },
  {
   "cell_type": "markdown",
   "metadata": {},
   "source": [
    "### Speed-up\n",
    "\n",
    "`profile_linear.py` contains the follow time averages defined as `datetime.timedelta`\n",
    "\n",
    "- `splineAvg` for spline time average \n",
    "- `linearAvg` for linear time average\n",
    "- `linearLogAvg` for linear time w/ logspace conversion time average"
   ]
  },
  {
   "cell_type": "code",
   "execution_count": null,
   "metadata": {},
   "outputs": [],
   "source": [
    "print(splineAvg)\n",
    "print(linearAvg)\n",
    "print(linearLogAvg)"
   ]
  },
  {
   "cell_type": "markdown",
   "metadata": {},
   "source": [
    "### Accuracy\n",
    "\n",
    "Importing the data from `profile_linear.py`, we have `relative_acc_array` which is a `np.array` that is derived from the following calculation for relative accuracy:\n",
    "\n",
    "\\begin{align}\n",
    "\\frac{|spline - linear|}{spline}\n",
    "\\end{align}"
   ]
  },
  {
   "cell_type": "code",
   "execution_count": 70,
   "metadata": {},
   "outputs": [
    {
     "data": {
      "text/plain": [
       "700000"
      ]
     },
     "execution_count": 70,
     "metadata": {},
     "output_type": "execute_result"
    }
   ],
   "source": [
    "mainData = relative_acc_array.flatten()\n",
    "mainData.size"
   ]
  },
  {
   "cell_type": "markdown",
   "metadata": {},
   "source": [
    "Plotting `mainData` on a histogram yields the following result"
   ]
  },
  {
   "cell_type": "code",
   "execution_count": 66,
   "metadata": {},
   "outputs": [
    {
     "data": {
      "image/png": "[encoded data removed]",
      "text/plain": [
       "<Figure size 432x288 with 1 Axes>"
      ]
     },
     "metadata": {},
     "output_type": "display_data"
    }
   ],
   "source": [
    "fig = plt.figure()\n",
    "fig.patch.set_facecolor('white')\n",
    "plot = plt.hist(mainData, bins=100)\n",
    "\n",
    "plt.ylabel(\"Number of values\")\n",
    "plt.xlabel(\"Accuracy Percentage\")\n",
    "plt.title(\"Accuracy % spline vs. linear \")\n",
    "plt.savefig(\"Accuracy_spline_linear_.png\")\n"
   ]
  },
  {
   "cell_type": "markdown",
   "metadata": {},
   "source": [
    "And calculating other values with accuracies"
   ]
  },
  {
   "cell_type": "code",
   "execution_count": 67,
   "metadata": {},
   "outputs": [
    {
     "name": "stdout",
     "output_type": "stream",
     "text": [
      "MEAN: 0.0016211265540896714\n",
      "STDEV: 0.0016785839647129389\n",
      "MEDIAN: 0.0009653076914118014\n",
      "MINIMUM: 3.490627605245515e-05\n",
      "MAXIMUM: 0.009467970353336382\n"
     ]
    }
   ],
   "source": [
    "\n",
    "mean = statistics.mean(mainData)\n",
    "stdev = statistics.stdev(mainData)\n",
    "median = statistics.median(mainData)\n",
    "\n",
    "print(\"MEAN:\", mean)\n",
    "print(\"STDEV:\", stdev)\n",
    "print(\"MEDIAN:\", median)\n",
    "print(\"MINIMUM:\", min(mainData))\n",
    "print(\"MAXIMUM:\", max(mainData))"
   ]
  }
 ],
 "metadata": {
  "kernelspec": {
   "display_name": "Python 3.9.7 ('base')",
   "language": "python",
   "name": "python3"
  },
  "language_info": {
   "codemirror_mode": {
    "name": "ipython",
    "version": 3
   },
   "file_extension": ".py",
   "mimetype": "text/x-python",
   "name": "python",
   "nbconvert_exporter": "python",
   "pygments_lexer": "ipython3",
   "version": "3.9.7"
  },
  "orig_nbformat": 4,
  "vscode": {
   "interpreter": {
    "hash": "0d4397f28a53cbce0d6a03358e2baad1194adb363516cfcc3153fa630ceeb8c4"
   }
  }
 },
 "nbformat": 4,
 "nbformat_minor": 2
}
