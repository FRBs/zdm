{
 "cells": [
  {
   "cell_type": "code",
   "execution_count": 43,
   "metadata": {},
   "outputs": [],
   "source": [
    "from astropy.table import unique, Table\n",
    "import numpy as np\n",
    "\n",
    "surveys = [\n",
    "    \"CRAFT_class_I_and_II.ecsv\",\n",
    "    \"private_CRAFT_ICS_892.ecsv\",\n",
    "    \"private_CRAFT_ICS_1272.ecsv\",\n",
    "    \"private_CRAFT_ICS_1632.ecsv\",\n",
    "    \"parkes_mb_class_I_and_II.ecsv\"\n",
    "]"
   ]
  },
  {
   "cell_type": "code",
   "execution_count": 83,
   "metadata": {},
   "outputs": [
    {
     "name": "stdout",
     "output_type": "stream",
     "text": [
      " Z \n",
      "---\n",
      " --\n",
      " --\n",
      " --\n",
      " --\n",
      " --\n",
      " --\n",
      " --\n",
      " --\n",
      " --\n",
      " --\n",
      "...\n",
      " --\n",
      " --\n",
      " --\n",
      " --\n",
      " --\n",
      " --\n",
      " --\n",
      " --\n",
      " --\n",
      " --\n",
      " --\n",
      "Length = 26 rows\n",
      "   Z   \n",
      "-------\n",
      "   0.23\n",
      "  0.161\n",
      "   -1.0\n",
      "0.36879\n",
      "   0.28\n",
      "0.12969\n",
      "   -1.0\n",
      "0.34386\n",
      "  0.381\n",
      " 0.1926\n",
      "   Z    \n",
      "--------\n",
      "  0.3214\n",
      "  0.4755\n",
      "   0.291\n",
      "  0.1178\n",
      "   0.378\n",
      "   0.522\n",
      "   0.209\n",
      "   0.243\n",
      "   0.214\n",
      "    -1.0\n",
      "    -1.0\n",
      "    -1.0\n",
      "0.046946\n",
      "    -1.0\n",
      "   1.016\n",
      "    -1.0\n",
      "  Z   \n",
      "------\n",
      "0.0715\n",
      "0.2785\n",
      "  -1.0\n",
      " Z \n",
      "---\n",
      " --\n",
      " --\n",
      " --\n",
      " --\n",
      " --\n",
      " --\n",
      " --\n",
      " --\n",
      " --\n",
      " --\n",
      " --\n",
      " --\n",
      " --\n",
      " --\n",
      " --\n",
      " --\n",
      " --\n",
      " --\n",
      " --\n",
      " --\n",
      " --\n",
      " --\n",
      " --\n"
     ]
    }
   ],
   "source": [
    "survey_lengths = []\n",
    "redshifts = []\n",
    "for survey in surveys:\n",
    "    tb = Table.read(survey)\n",
    "    print(tb[\"Z\"])\n",
    "    if type(tb[\"Z\"].data) == np.ma.core.MaskedArray:\n",
    "        redshifts.append(tb['Z'].data.count())\n",
    "    else:\n",
    "        redshifts.append(sum(tb['Z'] != -1))\n",
    "    survey_lengths.append(len(Table.read(survey)))"
   ]
  },
  {
   "cell_type": "code",
   "execution_count": 81,
   "metadata": {},
   "outputs": [
    {
     "data": {
      "text/plain": [
       "[0, 8, 11, 2, 0]"
      ]
     },
     "execution_count": 81,
     "metadata": {},
     "output_type": "execute_result"
    }
   ],
   "source": []
  },
  {
   "cell_type": "code",
   "execution_count": 85,
   "metadata": {},
   "outputs": [
    {
     "data": {
      "text/plain": [
       "78"
      ]
     },
     "execution_count": 85,
     "metadata": {},
     "output_type": "execute_result"
    }
   ],
   "source": [
    "sum(survey_lengths)"
   ]
  },
  {
   "cell_type": "code",
   "execution_count": null,
   "metadata": {},
   "outputs": [],
   "source": []
  }
 ],
 "metadata": {
  "kernelspec": {
   "display_name": "base",
   "language": "python",
   "name": "python3"
  },
  "language_info": {
   "codemirror_mode": {
    "name": "ipython",
    "version": 3
   },
   "file_extension": ".py",
   "mimetype": "text/x-python",
   "name": "python",
   "nbconvert_exporter": "python",
   "pygments_lexer": "ipython3",
   "version": "3.8.5"
  },
  "orig_nbformat": 4
 },
 "nbformat": 4,
 "nbformat_minor": 2
}
