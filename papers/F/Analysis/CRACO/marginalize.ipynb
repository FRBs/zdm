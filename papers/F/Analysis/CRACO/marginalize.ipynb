{
 "cells": [
  {
   "cell_type": "code",
   "execution_count": 1,
   "metadata": {},
   "outputs": [],
   "source": [
    "import numpy as np\n",
    "import zdm.analyze_cube as ac"
   ]
  },
  {
   "cell_type": "code",
   "execution_count": 2,
   "metadata": {},
   "outputs": [],
   "source": [
    "cube_dir  = \"../CRACO/Cubes/craco_mini_cube.npz\"\n",
    "cube_data = np.load(cube_dir)"
   ]
  },
  {
   "cell_type": "code",
   "execution_count": 3,
   "metadata": {},
   "outputs": [],
   "source": [
    "def get_param_values(data,params):\n",
    "    \"\"\"\n",
    "    Gets the unique values of the data from a cube output\n",
    "    Currently the parameter order is hard-coded\n",
    "    \n",
    "    \"\"\"\n",
    "    # gets unique values for each axis\n",
    "    param_vals=[]\n",
    "    #param_list=[data[\"lEmax\"],data[\"H0\"],data[\"alpha\"],data[\"gamma\"],data[\"sfr_n\"],data[\"lmean\"],data[\"lsigma\"]]\n",
    "    #for col in param_list:\n",
    "    for param in params:\n",
    "        col=data[param]\n",
    "        unique=np.unique(col)\n",
    "        param_vals.append(unique)  \n",
    "    return param_vals"
   ]
  },
  {
   "cell_type": "code",
   "execution_count": 4,
   "metadata": {},
   "outputs": [],
   "source": [
    "ll = cube_data[\"ll\"]\n",
    "params = cube_data[\"params\"]\n",
    "param_vals = get_param_values(cube_data, params)"
   ]
  },
  {
   "cell_type": "code",
   "execution_count": 12,
   "metadata": {},
   "outputs": [],
   "source": [
    "uvals=[]\n",
    "latexnames=[]\n",
    "for ip,param in enumerate(cube_data[\"params\"]):\n",
    "    # switches for alpha\n",
    "    if param==\"alpha\":\n",
    "        uvals.append(cube_data[param]*-1.)\n",
    "    else:\n",
    "        uvals.append(cube_data[param])\n",
    "    if param==\"alpha\":\n",
    "        latexnames.append('$\\\\alpha$')\n",
    "        ialpha=ip\n",
    "    elif param==\"F\":\n",
    "        latexnames.append('$F$')\n",
    "    elif param==\"lEmax\":\n",
    "        latexnames.append('$\\\\log_{10} E_{\\\\rm max}$')\n",
    "    elif param==\"H0\":\n",
    "        latexnames.append('$H_0$')\n",
    "    elif param==\"gamma\":\n",
    "        latexnames.append('$\\\\gamma$')\n",
    "    elif param==\"sfr_n\":\n",
    "        latexnames.append('$n_{\\\\rm sfr}$')\n",
    "    elif param==\"lmean\":\n",
    "        latexnames.append('$\\\\mu_{\\\\rm host}$')\n",
    "    elif param==\"lsigma\":\n",
    "        latexnames.append('$\\\\sigma_{\\\\rm host}$')"
   ]
  },
  {
   "cell_type": "code",
   "execution_count": 6,
   "metadata": {},
   "outputs": [],
   "source": [
    "deprecated, uw_vectors, wvectors=ac.get_bayesian_data(cube_data[\"ll\"])"
   ]
  },
  {
   "cell_type": "code",
   "execution_count": 7,
   "metadata": {},
   "outputs": [],
   "source": [
    "list2 = []\n",
    "vals2 = []\n",
    "\n",
    "for i, vec in enumerate(wvectors):\n",
    "  n_idx = np.argmax(vec)\n",
    "  val = uvals[i][n_idx]\n",
    "\n",
    "  if params[i] != \"F\":\n",
    "    list2.append(params[i])\n",
    "    vals2.append(val)\n",
    "  else:\n",
    "    iF = i\n"
   ]
  },
  {
   "cell_type": "code",
   "execution_count": 14,
   "metadata": {},
   "outputs": [],
   "source": [
    "for i, p in enumerate(list2):\n",
    "  list3 = np.concatenate((list2[0:i], list2[i+1:]))\n",
    "  vals3 = np.concatenate((vals2[0:i], vals2[i+1:]))\n",
    "  arr = ac.get_slice_from_parameters(cube_data, list3, vals3)\n",
    "\n",
    "  nans = np.isnan(arr)\n",
    "  arr[nans] = -9e9\n",
    "\n",
    "  arr -= np.max(arr)\n",
    "  arr = 10**arr\n",
    "  arr /= np.sum(arr)\n",
    "\n",
    "  if i < iF:\n",
    "    modi = i\n",
    "  else:\n",
    "    modi = i+1\n",
    "    arr = arr.swapaxes(0,1)\n",
    "\n",
    "  savename = f\"2D Plots/{params[iF]}_{params[modi]}.pdf\"\n",
    "\n",
    "  if params[modi] == \"alpha\":\n",
    "    arr = np.flip(arr, axis=0)\n",
    "    ac.make_2d_plot(arr, latexnames[modi], latexnames[iF], -param_vals[modi], param_vals[iF], savename=savename, norm=1)\n",
    "  else:\n",
    "    ac.make_2d_plot(arr, latexnames[modi], latexnames[iF], param_vals[modi], param_vals[iF], savename=savename, norm=1)"
   ]
  },
  {
   "cell_type": "code",
   "execution_count": null,
   "metadata": {},
   "outputs": [],
   "source": []
  }
 ],
 "metadata": {
  "kernelspec": {
   "display_name": "Python 3.8.5 ('base')",
   "language": "python",
   "name": "python3"
  },
  "language_info": {
   "codemirror_mode": {
    "name": "ipython",
    "version": 3
   },
   "file_extension": ".py",
   "mimetype": "text/x-python",
   "name": "python",
   "nbconvert_exporter": "python",
   "pygments_lexer": "ipython3",
   "version": "3.8.5"
  },
  "orig_nbformat": 4,
  "vscode": {
   "interpreter": {
    "hash": "9731a3b7ebb41545a410367c249afbc4842fd5740da82f1bd29e6ac1d7253e6e"
   }
  }
 },
 "nbformat": 4,
 "nbformat_minor": 2
}
