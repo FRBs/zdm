{
 "cells": [
  {
   "cell_type": "markdown",
   "id": "8e9d01fb-000b-4558-80e8-27688eafa19e",
   "metadata": {},
   "source": [
    "# Quick check"
   ]
  },
  {
   "cell_type": "code",
   "execution_count": 1,
   "id": "7a372b56-1bb5-40be-bdf8-4129f926399e",
   "metadata": {},
   "outputs": [],
   "source": [
    "# imports\n",
    "import numpy as np\n",
    "import pandas\n",
    "\n",
    "import seaborn as sns\n",
    "\n",
    "from IPython.display import display, HTML\n",
    "\n",
    "from matplotlib import pyplot as plt"
   ]
  },
  {
   "cell_type": "markdown",
   "id": "d5e74992-02f4-4cf5-a9af-6672bb8d5b4d",
   "metadata": {},
   "source": [
    "# Read one"
   ]
  },
  {
   "cell_type": "code",
   "execution_count": 2,
   "id": "4df320dd-109c-4c74-bc35-760d3d4f07ee",
   "metadata": {},
   "outputs": [],
   "source": [
    "df_1 = pandas.read_csv(f'Cloud/OutputFull/craco_full1.csv')"
   ]
  },
  {
   "cell_type": "markdown",
   "id": "142de13b-5614-457f-b5f1-3cb1151da683",
   "metadata": {},
   "source": [
    "## Cut on 55"
   ]
  },
  {
   "cell_type": "code",
   "execution_count": 9,
   "id": "cecb85bb-319b-401a-8fb7-f8a6fe944c00",
   "metadata": {},
   "outputs": [],
   "source": [
    "idx_55 = np.isclose(df_1.H0, 60.)"
   ]
  },
  {
   "cell_type": "code",
   "execution_count": 10,
   "id": "1bc8924e-98b4-4891-8e15-8d52fd12e4db",
   "metadata": {},
   "outputs": [],
   "source": [
    "df_55 = df_1[idx_55].copy()"
   ]
  },
  {
   "cell_type": "code",
   "execution_count": 11,
   "id": "985660e4-16e2-4cd2-8090-bd0700fe17db",
   "metadata": {},
   "outputs": [
    {
     "data": {
      "text/html": [
       "<div>\n",
       "<style scoped>\n",
       "    .dataframe tbody tr th:only-of-type {\n",
       "        vertical-align: middle;\n",
       "    }\n",
       "\n",
       "    .dataframe tbody tr th {\n",
       "        vertical-align: top;\n",
       "    }\n",
       "\n",
       "    .dataframe thead th {\n",
       "        text-align: right;\n",
       "    }\n",
       "</style>\n",
       "<table border=\"1\" class=\"dataframe\">\n",
       "  <thead>\n",
       "    <tr style=\"text-align: right;\">\n",
       "      <th></th>\n",
       "      <th>n</th>\n",
       "      <th>H0</th>\n",
       "      <th>lmean</th>\n",
       "      <th>lsigma</th>\n",
       "      <th>logF</th>\n",
       "      <th>lC</th>\n",
       "      <th>lls0</th>\n",
       "      <th>P_zDM0</th>\n",
       "      <th>P_n0</th>\n",
       "      <th>P_s0</th>\n",
       "      <th>N0</th>\n",
       "      <th>lls</th>\n",
       "      <th>P_zDM</th>\n",
       "      <th>P_n</th>\n",
       "      <th>P_s</th>\n",
       "      <th>p_zgDM</th>\n",
       "      <th>p_DM</th>\n",
       "      <th>p_DMgz</th>\n",
       "      <th>p_z</th>\n",
       "    </tr>\n",
       "  </thead>\n",
       "  <tbody>\n",
       "    <tr>\n",
       "      <th>0</th>\n",
       "      <td>0</td>\n",
       "      <td>60.0</td>\n",
       "      <td>1.700000</td>\n",
       "      <td>0.2</td>\n",
       "      <td>-1.7</td>\n",
       "      <td>3.602315</td>\n",
       "      <td>NaN</td>\n",
       "      <td>NaN</td>\n",
       "      <td>-1.899126</td>\n",
       "      <td>NaN</td>\n",
       "      <td>1000.0</td>\n",
       "      <td>NaN</td>\n",
       "      <td>NaN</td>\n",
       "      <td>-1.899126</td>\n",
       "      <td>NaN</td>\n",
       "      <td>-3518.772936</td>\n",
       "      <td>-248.218411</td>\n",
       "      <td>-3553.960341</td>\n",
       "      <td>-213.031007</td>\n",
       "    </tr>\n",
       "    <tr>\n",
       "      <th>1</th>\n",
       "      <td>1</td>\n",
       "      <td>60.0</td>\n",
       "      <td>1.788889</td>\n",
       "      <td>0.2</td>\n",
       "      <td>-1.7</td>\n",
       "      <td>3.604302</td>\n",
       "      <td>NaN</td>\n",
       "      <td>NaN</td>\n",
       "      <td>-1.899126</td>\n",
       "      <td>NaN</td>\n",
       "      <td>1000.0</td>\n",
       "      <td>NaN</td>\n",
       "      <td>NaN</td>\n",
       "      <td>-1.899126</td>\n",
       "      <td>NaN</td>\n",
       "      <td>-3531.023333</td>\n",
       "      <td>-247.577938</td>\n",
       "      <td>-3565.561590</td>\n",
       "      <td>-213.039681</td>\n",
       "    </tr>\n",
       "    <tr>\n",
       "      <th>2</th>\n",
       "      <td>2</td>\n",
       "      <td>60.0</td>\n",
       "      <td>1.877778</td>\n",
       "      <td>0.2</td>\n",
       "      <td>-1.7</td>\n",
       "      <td>3.606771</td>\n",
       "      <td>NaN</td>\n",
       "      <td>NaN</td>\n",
       "      <td>-1.899126</td>\n",
       "      <td>NaN</td>\n",
       "      <td>1000.0</td>\n",
       "      <td>NaN</td>\n",
       "      <td>NaN</td>\n",
       "      <td>-1.899126</td>\n",
       "      <td>NaN</td>\n",
       "      <td>-3549.620662</td>\n",
       "      <td>-246.983542</td>\n",
       "      <td>-3583.554654</td>\n",
       "      <td>-213.049550</td>\n",
       "    </tr>\n",
       "    <tr>\n",
       "      <th>3</th>\n",
       "      <td>3</td>\n",
       "      <td>60.0</td>\n",
       "      <td>1.966667</td>\n",
       "      <td>0.2</td>\n",
       "      <td>-1.7</td>\n",
       "      <td>3.609845</td>\n",
       "      <td>NaN</td>\n",
       "      <td>NaN</td>\n",
       "      <td>-1.899126</td>\n",
       "      <td>NaN</td>\n",
       "      <td>1000.0</td>\n",
       "      <td>NaN</td>\n",
       "      <td>NaN</td>\n",
       "      <td>-1.899126</td>\n",
       "      <td>NaN</td>\n",
       "      <td>-3574.878377</td>\n",
       "      <td>-246.528137</td>\n",
       "      <td>-3608.345899</td>\n",
       "      <td>-213.060615</td>\n",
       "    </tr>\n",
       "    <tr>\n",
       "      <th>4</th>\n",
       "      <td>4</td>\n",
       "      <td>60.0</td>\n",
       "      <td>2.055556</td>\n",
       "      <td>0.2</td>\n",
       "      <td>-1.7</td>\n",
       "      <td>3.613675</td>\n",
       "      <td>NaN</td>\n",
       "      <td>NaN</td>\n",
       "      <td>-1.899126</td>\n",
       "      <td>NaN</td>\n",
       "      <td>1000.0</td>\n",
       "      <td>NaN</td>\n",
       "      <td>NaN</td>\n",
       "      <td>-1.899126</td>\n",
       "      <td>NaN</td>\n",
       "      <td>-3606.500502</td>\n",
       "      <td>-246.367388</td>\n",
       "      <td>-3639.795115</td>\n",
       "      <td>-213.072774</td>\n",
       "    </tr>\n",
       "  </tbody>\n",
       "</table>\n",
       "</div>"
      ],
      "text/plain": [
       "   n    H0     lmean  lsigma  logF        lC  lls0  P_zDM0      P_n0  P_s0  \\\n",
       "0  0  60.0  1.700000     0.2  -1.7  3.602315   NaN     NaN -1.899126   NaN   \n",
       "1  1  60.0  1.788889     0.2  -1.7  3.604302   NaN     NaN -1.899126   NaN   \n",
       "2  2  60.0  1.877778     0.2  -1.7  3.606771   NaN     NaN -1.899126   NaN   \n",
       "3  3  60.0  1.966667     0.2  -1.7  3.609845   NaN     NaN -1.899126   NaN   \n",
       "4  4  60.0  2.055556     0.2  -1.7  3.613675   NaN     NaN -1.899126   NaN   \n",
       "\n",
       "       N0  lls  P_zDM       P_n  P_s       p_zgDM        p_DM       p_DMgz  \\\n",
       "0  1000.0  NaN    NaN -1.899126  NaN -3518.772936 -248.218411 -3553.960341   \n",
       "1  1000.0  NaN    NaN -1.899126  NaN -3531.023333 -247.577938 -3565.561590   \n",
       "2  1000.0  NaN    NaN -1.899126  NaN -3549.620662 -246.983542 -3583.554654   \n",
       "3  1000.0  NaN    NaN -1.899126  NaN -3574.878377 -246.528137 -3608.345899   \n",
       "4  1000.0  NaN    NaN -1.899126  NaN -3606.500502 -246.367388 -3639.795115   \n",
       "\n",
       "          p_z  \n",
       "0 -213.031007  \n",
       "1 -213.039681  \n",
       "2 -213.049550  \n",
       "3 -213.060615  \n",
       "4 -213.072774  "
      ]
     },
     "execution_count": 11,
     "metadata": {},
     "output_type": "execute_result"
    }
   ],
   "source": [
    "df_55.head()"
   ]
  },
  {
   "cell_type": "markdown",
   "id": "15e51cbd-f8bf-472e-90cb-8fa693a1caa2",
   "metadata": {},
   "source": [
    "## Plot"
   ]
  },
  {
   "cell_type": "code",
   "execution_count": 12,
   "id": "f3e01d8b-9ef2-43a7-9a85-0aa979ddac0c",
   "metadata": {},
   "outputs": [
    {
     "data": {
      "text/plain": [
       "<AxesSubplot:xlabel='logF', ylabel='lls'>"
      ]
     },
     "execution_count": 12,
     "metadata": {},
     "output_type": "execute_result"
    },
    {
     "data": {
      "image/png": "[encoded data removed]",
      "text/plain": [
       "<Figure size 432x288 with 1 Axes>"
      ]
     },
     "metadata": {
      "needs_background": "light"
     },
     "output_type": "display_data"
    }
   ],
   "source": [
    "sns.scatterplot(data=df_55, x='logF', y='lls')"
   ]
  },
  {
   "cell_type": "code",
   "execution_count": 13,
   "id": "eff127b9-c39e-4a21-a9bc-d5000c0108f6",
   "metadata": {},
   "outputs": [
    {
     "data": {
      "text/plain": [
       "-566.1687574183746"
      ]
     },
     "execution_count": 13,
     "metadata": {},
     "output_type": "execute_result"
    }
   ],
   "source": [
    "df_55.lls.max()"
   ]
  },
  {
   "cell_type": "markdown",
   "id": "04a0a7f3-2923-43af-8fcf-a54136806a9c",
   "metadata": {},
   "source": [
    "# Higher $H_0$"
   ]
  },
  {
   "cell_type": "code",
   "execution_count": 14,
   "id": "bc0a42a4-d85e-4bad-93b8-802a010c31a5",
   "metadata": {},
   "outputs": [],
   "source": [
    "df_6 = pandas.read_csv('Cloud/OutputFull/craco_full6.csv')"
   ]
  },
  {
   "cell_type": "code",
   "execution_count": 15,
   "id": "a2e1727f-fad2-40a1-8f0f-63b7541666ed",
   "metadata": {},
   "outputs": [
    {
     "data": {
      "text/html": [
       "<div>\n",
       "<style scoped>\n",
       "    .dataframe tbody tr th:only-of-type {\n",
       "        vertical-align: middle;\n",
       "    }\n",
       "\n",
       "    .dataframe tbody tr th {\n",
       "        vertical-align: top;\n",
       "    }\n",
       "\n",
       "    .dataframe thead th {\n",
       "        text-align: right;\n",
       "    }\n",
       "</style>\n",
       "<table border=\"1\" class=\"dataframe\">\n",
       "  <thead>\n",
       "    <tr style=\"text-align: right;\">\n",
       "      <th></th>\n",
       "      <th>n</th>\n",
       "      <th>H0</th>\n",
       "      <th>lmean</th>\n",
       "      <th>lsigma</th>\n",
       "      <th>logF</th>\n",
       "      <th>lC</th>\n",
       "      <th>lls0</th>\n",
       "      <th>P_zDM0</th>\n",
       "      <th>P_n0</th>\n",
       "      <th>P_s0</th>\n",
       "      <th>N0</th>\n",
       "      <th>lls</th>\n",
       "      <th>P_zDM</th>\n",
       "      <th>P_n</th>\n",
       "      <th>P_s</th>\n",
       "      <th>p_zgDM</th>\n",
       "      <th>p_DM</th>\n",
       "      <th>p_DMgz</th>\n",
       "      <th>p_z</th>\n",
       "    </tr>\n",
       "  </thead>\n",
       "  <tbody>\n",
       "    <tr>\n",
       "      <th>0</th>\n",
       "      <td>15000</td>\n",
       "      <td>65.0</td>\n",
       "      <td>1.700000</td>\n",
       "      <td>0.2</td>\n",
       "      <td>-1.7</td>\n",
       "      <td>3.604749</td>\n",
       "      <td>-2528.555818</td>\n",
       "      <td>-2389.721168</td>\n",
       "      <td>-1.899126</td>\n",
       "      <td>-136.935524</td>\n",
       "      <td>1000.0</td>\n",
       "      <td>-2528.555818</td>\n",
       "      <td>-2389.721168</td>\n",
       "      <td>-1.899126</td>\n",
       "      <td>-136.935524</td>\n",
       "      <td>-2141.448538</td>\n",
       "      <td>-248.272630</td>\n",
       "      <td>-2177.664558</td>\n",
       "      <td>-212.056610</td>\n",
       "    </tr>\n",
       "    <tr>\n",
       "      <th>1</th>\n",
       "      <td>15001</td>\n",
       "      <td>65.0</td>\n",
       "      <td>1.788889</td>\n",
       "      <td>0.2</td>\n",
       "      <td>-1.7</td>\n",
       "      <td>3.606677</td>\n",
       "      <td>-2529.497269</td>\n",
       "      <td>-2390.655305</td>\n",
       "      <td>-1.899126</td>\n",
       "      <td>-136.942838</td>\n",
       "      <td>1000.0</td>\n",
       "      <td>-2529.497269</td>\n",
       "      <td>-2390.655305</td>\n",
       "      <td>-1.899126</td>\n",
       "      <td>-136.942838</td>\n",
       "      <td>-2143.037752</td>\n",
       "      <td>-247.617553</td>\n",
       "      <td>-2178.593204</td>\n",
       "      <td>-212.062100</td>\n",
       "    </tr>\n",
       "    <tr>\n",
       "      <th>2</th>\n",
       "      <td>15002</td>\n",
       "      <td>65.0</td>\n",
       "      <td>1.877778</td>\n",
       "      <td>0.2</td>\n",
       "      <td>-1.7</td>\n",
       "      <td>3.609075</td>\n",
       "      <td>-2536.536738</td>\n",
       "      <td>-2397.687077</td>\n",
       "      <td>-1.899126</td>\n",
       "      <td>-136.950535</td>\n",
       "      <td>1000.0</td>\n",
       "      <td>-2536.536738</td>\n",
       "      <td>-2397.687077</td>\n",
       "      <td>-1.899126</td>\n",
       "      <td>-136.950535</td>\n",
       "      <td>-2150.683298</td>\n",
       "      <td>-247.003779</td>\n",
       "      <td>-2185.618798</td>\n",
       "      <td>-212.068279</td>\n",
       "    </tr>\n",
       "    <tr>\n",
       "      <th>3</th>\n",
       "      <td>15003</td>\n",
       "      <td>65.0</td>\n",
       "      <td>1.966667</td>\n",
       "      <td>0.2</td>\n",
       "      <td>-1.7</td>\n",
       "      <td>3.612061</td>\n",
       "      <td>-2550.325947</td>\n",
       "      <td>-2411.468768</td>\n",
       "      <td>-1.899126</td>\n",
       "      <td>-136.958052</td>\n",
       "      <td>1000.0</td>\n",
       "      <td>-2550.325947</td>\n",
       "      <td>-2411.468768</td>\n",
       "      <td>-1.899126</td>\n",
       "      <td>-136.958052</td>\n",
       "      <td>-2164.946656</td>\n",
       "      <td>-246.522112</td>\n",
       "      <td>-2199.393663</td>\n",
       "      <td>-212.075105</td>\n",
       "    </tr>\n",
       "    <tr>\n",
       "      <th>4</th>\n",
       "      <td>15004</td>\n",
       "      <td>65.0</td>\n",
       "      <td>2.055556</td>\n",
       "      <td>0.2</td>\n",
       "      <td>-1.7</td>\n",
       "      <td>3.615784</td>\n",
       "      <td>-2571.122245</td>\n",
       "      <td>-2432.257919</td>\n",
       "      <td>-1.899126</td>\n",
       "      <td>-136.965200</td>\n",
       "      <td>1000.0</td>\n",
       "      <td>-2571.122245</td>\n",
       "      <td>-2432.257919</td>\n",
       "      <td>-1.899126</td>\n",
       "      <td>-136.965200</td>\n",
       "      <td>-2185.932142</td>\n",
       "      <td>-246.325778</td>\n",
       "      <td>-2220.175469</td>\n",
       "      <td>-212.082451</td>\n",
       "    </tr>\n",
       "  </tbody>\n",
       "</table>\n",
       "</div>"
      ],
      "text/plain": [
       "       n    H0     lmean  lsigma  logF        lC         lls0       P_zDM0  \\\n",
       "0  15000  65.0  1.700000     0.2  -1.7  3.604749 -2528.555818 -2389.721168   \n",
       "1  15001  65.0  1.788889     0.2  -1.7  3.606677 -2529.497269 -2390.655305   \n",
       "2  15002  65.0  1.877778     0.2  -1.7  3.609075 -2536.536738 -2397.687077   \n",
       "3  15003  65.0  1.966667     0.2  -1.7  3.612061 -2550.325947 -2411.468768   \n",
       "4  15004  65.0  2.055556     0.2  -1.7  3.615784 -2571.122245 -2432.257919   \n",
       "\n",
       "       P_n0        P_s0      N0          lls        P_zDM       P_n  \\\n",
       "0 -1.899126 -136.935524  1000.0 -2528.555818 -2389.721168 -1.899126   \n",
       "1 -1.899126 -136.942838  1000.0 -2529.497269 -2390.655305 -1.899126   \n",
       "2 -1.899126 -136.950535  1000.0 -2536.536738 -2397.687077 -1.899126   \n",
       "3 -1.899126 -136.958052  1000.0 -2550.325947 -2411.468768 -1.899126   \n",
       "4 -1.899126 -136.965200  1000.0 -2571.122245 -2432.257919 -1.899126   \n",
       "\n",
       "          P_s       p_zgDM        p_DM       p_DMgz         p_z  \n",
       "0 -136.935524 -2141.448538 -248.272630 -2177.664558 -212.056610  \n",
       "1 -136.942838 -2143.037752 -247.617553 -2178.593204 -212.062100  \n",
       "2 -136.950535 -2150.683298 -247.003779 -2185.618798 -212.068279  \n",
       "3 -136.958052 -2164.946656 -246.522112 -2199.393663 -212.075105  \n",
       "4 -136.965200 -2185.932142 -246.325778 -2220.175469 -212.082451  "
      ]
     },
     "execution_count": 15,
     "metadata": {},
     "output_type": "execute_result"
    }
   ],
   "source": [
    "df_6.head()"
   ]
  },
  {
   "cell_type": "code",
   "execution_count": 17,
   "id": "494bcf9a-bbe4-45c8-b1bc-34e2122dac9e",
   "metadata": {},
   "outputs": [],
   "source": [
    "idx_677 = np.isclose(df_6.H0, 65.)"
   ]
  },
  {
   "cell_type": "code",
   "execution_count": 18,
   "id": "acd86e1b-528d-4462-9eb4-43d79a8167fb",
   "metadata": {},
   "outputs": [],
   "source": [
    "df_677 = df_6[idx_677].copy()"
   ]
  },
  {
   "cell_type": "markdown",
   "id": "3568f064-24f7-4737-8c80-fd0b10274d1e",
   "metadata": {},
   "source": [
    "## Plot"
   ]
  },
  {
   "cell_type": "code",
   "execution_count": 20,
   "id": "bc61ed97-e0b2-4ddc-afc5-665bca2869f1",
   "metadata": {},
   "outputs": [
    {
     "data": {
      "text/plain": [
       "<AxesSubplot:xlabel='logF', ylabel='lls'>"
      ]
     },
     "execution_count": 20,
     "metadata": {},
     "output_type": "execute_result"
    },
    {
     "data": {
      "image/png": "[encoded data removed]",
      "text/plain": [
       "<Figure size 432x288 with 1 Axes>"
      ]
     },
     "metadata": {
      "needs_background": "light"
     },
     "output_type": "display_data"
    }
   ],
   "source": [
    "sns.scatterplot(data=df_677, x='logF', y='lls', color='g')"
   ]
  },
  {
   "cell_type": "code",
   "execution_count": 21,
   "id": "73c61b97-257e-457e-a2b4-070d91b7dcba",
   "metadata": {},
   "outputs": [
    {
     "data": {
      "text/plain": [
       "-565.5764019866576"
      ]
     },
     "execution_count": 21,
     "metadata": {},
     "output_type": "execute_result"
    }
   ],
   "source": [
    "df_677.lls.max()"
   ]
  },
  {
   "cell_type": "markdown",
   "id": "5827e776-2421-4feb-a712-6ff84290ed6a",
   "metadata": {},
   "source": [
    "# Combine"
   ]
  },
  {
   "cell_type": "code",
   "execution_count": 22,
   "id": "f7dbe41d-7c8b-4238-9dbf-774e92b9b507",
   "metadata": {},
   "outputs": [],
   "source": [
    "df_comb = pandas.concat([df_55, df_677])"
   ]
  },
  {
   "cell_type": "code",
   "execution_count": 23,
   "id": "1b838f32-4a7d-4cf6-9a64-b10bc54d92ae",
   "metadata": {},
   "outputs": [
    {
     "data": {
      "text/html": [
       "<div>\n",
       "<style scoped>\n",
       "    .dataframe tbody tr th:only-of-type {\n",
       "        vertical-align: middle;\n",
       "    }\n",
       "\n",
       "    .dataframe tbody tr th {\n",
       "        vertical-align: top;\n",
       "    }\n",
       "\n",
       "    .dataframe thead th {\n",
       "        text-align: right;\n",
       "    }\n",
       "</style>\n",
       "<table border=\"1\" class=\"dataframe\">\n",
       "  <thead>\n",
       "    <tr style=\"text-align: right;\">\n",
       "      <th></th>\n",
       "      <th>n</th>\n",
       "      <th>H0</th>\n",
       "      <th>lmean</th>\n",
       "      <th>lsigma</th>\n",
       "      <th>logF</th>\n",
       "      <th>lC</th>\n",
       "      <th>lls0</th>\n",
       "      <th>P_zDM0</th>\n",
       "      <th>P_n0</th>\n",
       "      <th>P_s0</th>\n",
       "      <th>N0</th>\n",
       "      <th>lls</th>\n",
       "      <th>P_zDM</th>\n",
       "      <th>P_n</th>\n",
       "      <th>P_s</th>\n",
       "      <th>p_zgDM</th>\n",
       "      <th>p_DM</th>\n",
       "      <th>p_DMgz</th>\n",
       "      <th>p_z</th>\n",
       "    </tr>\n",
       "  </thead>\n",
       "  <tbody>\n",
       "    <tr>\n",
       "      <th>0</th>\n",
       "      <td>0</td>\n",
       "      <td>60.0</td>\n",
       "      <td>1.700000</td>\n",
       "      <td>0.2</td>\n",
       "      <td>-1.7</td>\n",
       "      <td>3.602315</td>\n",
       "      <td>NaN</td>\n",
       "      <td>NaN</td>\n",
       "      <td>-1.899126</td>\n",
       "      <td>NaN</td>\n",
       "      <td>1000.0</td>\n",
       "      <td>NaN</td>\n",
       "      <td>NaN</td>\n",
       "      <td>-1.899126</td>\n",
       "      <td>NaN</td>\n",
       "      <td>-3518.772936</td>\n",
       "      <td>-248.218411</td>\n",
       "      <td>-3553.960341</td>\n",
       "      <td>-213.031007</td>\n",
       "    </tr>\n",
       "    <tr>\n",
       "      <th>1</th>\n",
       "      <td>1</td>\n",
       "      <td>60.0</td>\n",
       "      <td>1.788889</td>\n",
       "      <td>0.2</td>\n",
       "      <td>-1.7</td>\n",
       "      <td>3.604302</td>\n",
       "      <td>NaN</td>\n",
       "      <td>NaN</td>\n",
       "      <td>-1.899126</td>\n",
       "      <td>NaN</td>\n",
       "      <td>1000.0</td>\n",
       "      <td>NaN</td>\n",
       "      <td>NaN</td>\n",
       "      <td>-1.899126</td>\n",
       "      <td>NaN</td>\n",
       "      <td>-3531.023333</td>\n",
       "      <td>-247.577938</td>\n",
       "      <td>-3565.561590</td>\n",
       "      <td>-213.039681</td>\n",
       "    </tr>\n",
       "    <tr>\n",
       "      <th>2</th>\n",
       "      <td>2</td>\n",
       "      <td>60.0</td>\n",
       "      <td>1.877778</td>\n",
       "      <td>0.2</td>\n",
       "      <td>-1.7</td>\n",
       "      <td>3.606771</td>\n",
       "      <td>NaN</td>\n",
       "      <td>NaN</td>\n",
       "      <td>-1.899126</td>\n",
       "      <td>NaN</td>\n",
       "      <td>1000.0</td>\n",
       "      <td>NaN</td>\n",
       "      <td>NaN</td>\n",
       "      <td>-1.899126</td>\n",
       "      <td>NaN</td>\n",
       "      <td>-3549.620662</td>\n",
       "      <td>-246.983542</td>\n",
       "      <td>-3583.554654</td>\n",
       "      <td>-213.049550</td>\n",
       "    </tr>\n",
       "    <tr>\n",
       "      <th>3</th>\n",
       "      <td>3</td>\n",
       "      <td>60.0</td>\n",
       "      <td>1.966667</td>\n",
       "      <td>0.2</td>\n",
       "      <td>-1.7</td>\n",
       "      <td>3.609845</td>\n",
       "      <td>NaN</td>\n",
       "      <td>NaN</td>\n",
       "      <td>-1.899126</td>\n",
       "      <td>NaN</td>\n",
       "      <td>1000.0</td>\n",
       "      <td>NaN</td>\n",
       "      <td>NaN</td>\n",
       "      <td>-1.899126</td>\n",
       "      <td>NaN</td>\n",
       "      <td>-3574.878377</td>\n",
       "      <td>-246.528137</td>\n",
       "      <td>-3608.345899</td>\n",
       "      <td>-213.060615</td>\n",
       "    </tr>\n",
       "    <tr>\n",
       "      <th>4</th>\n",
       "      <td>4</td>\n",
       "      <td>60.0</td>\n",
       "      <td>2.055556</td>\n",
       "      <td>0.2</td>\n",
       "      <td>-1.7</td>\n",
       "      <td>3.613675</td>\n",
       "      <td>NaN</td>\n",
       "      <td>NaN</td>\n",
       "      <td>-1.899126</td>\n",
       "      <td>NaN</td>\n",
       "      <td>1000.0</td>\n",
       "      <td>NaN</td>\n",
       "      <td>NaN</td>\n",
       "      <td>-1.899126</td>\n",
       "      <td>NaN</td>\n",
       "      <td>-3606.500502</td>\n",
       "      <td>-246.367388</td>\n",
       "      <td>-3639.795115</td>\n",
       "      <td>-213.072774</td>\n",
       "    </tr>\n",
       "    <tr>\n",
       "      <th>...</th>\n",
       "      <td>...</td>\n",
       "      <td>...</td>\n",
       "      <td>...</td>\n",
       "      <td>...</td>\n",
       "      <td>...</td>\n",
       "      <td>...</td>\n",
       "      <td>...</td>\n",
       "      <td>...</td>\n",
       "      <td>...</td>\n",
       "      <td>...</td>\n",
       "      <td>...</td>\n",
       "      <td>...</td>\n",
       "      <td>...</td>\n",
       "      <td>...</td>\n",
       "      <td>...</td>\n",
       "      <td>...</td>\n",
       "      <td>...</td>\n",
       "      <td>...</td>\n",
       "      <td>...</td>\n",
       "    </tr>\n",
       "    <tr>\n",
       "      <th>2995</th>\n",
       "      <td>17995</td>\n",
       "      <td>65.0</td>\n",
       "      <td>2.144444</td>\n",
       "      <td>0.9</td>\n",
       "      <td>0.0</td>\n",
       "      <td>3.646298</td>\n",
       "      <td>-575.011344</td>\n",
       "      <td>-436.277294</td>\n",
       "      <td>-1.899126</td>\n",
       "      <td>-136.834924</td>\n",
       "      <td>1000.0</td>\n",
       "      <td>-575.011344</td>\n",
       "      <td>-436.277294</td>\n",
       "      <td>-1.899126</td>\n",
       "      <td>-136.834924</td>\n",
       "      <td>-190.715459</td>\n",
       "      <td>-245.561835</td>\n",
       "      <td>-224.616985</td>\n",
       "      <td>-211.660308</td>\n",
       "    </tr>\n",
       "    <tr>\n",
       "      <th>2996</th>\n",
       "      <td>17996</td>\n",
       "      <td>65.0</td>\n",
       "      <td>2.233333</td>\n",
       "      <td>0.9</td>\n",
       "      <td>0.0</td>\n",
       "      <td>3.654531</td>\n",
       "      <td>-574.667140</td>\n",
       "      <td>-435.932770</td>\n",
       "      <td>-1.899126</td>\n",
       "      <td>-136.835244</td>\n",
       "      <td>1000.0</td>\n",
       "      <td>-574.667140</td>\n",
       "      <td>-435.932770</td>\n",
       "      <td>-1.899126</td>\n",
       "      <td>-136.835244</td>\n",
       "      <td>-190.547491</td>\n",
       "      <td>-245.385280</td>\n",
       "      <td>-224.262260</td>\n",
       "      <td>-211.670511</td>\n",
       "    </tr>\n",
       "    <tr>\n",
       "      <th>2997</th>\n",
       "      <td>17997</td>\n",
       "      <td>65.0</td>\n",
       "      <td>2.322222</td>\n",
       "      <td>0.9</td>\n",
       "      <td>0.0</td>\n",
       "      <td>3.663436</td>\n",
       "      <td>-574.479291</td>\n",
       "      <td>-435.744608</td>\n",
       "      <td>-1.899126</td>\n",
       "      <td>-136.835556</td>\n",
       "      <td>1000.0</td>\n",
       "      <td>-574.479291</td>\n",
       "      <td>-435.744608</td>\n",
       "      <td>-1.899126</td>\n",
       "      <td>-136.835556</td>\n",
       "      <td>-190.436765</td>\n",
       "      <td>-245.307844</td>\n",
       "      <td>-224.062327</td>\n",
       "      <td>-211.682281</td>\n",
       "    </tr>\n",
       "    <tr>\n",
       "      <th>2998</th>\n",
       "      <td>17998</td>\n",
       "      <td>65.0</td>\n",
       "      <td>2.411111</td>\n",
       "      <td>0.9</td>\n",
       "      <td>0.0</td>\n",
       "      <td>3.673009</td>\n",
       "      <td>-574.453230</td>\n",
       "      <td>-435.718242</td>\n",
       "      <td>-1.899126</td>\n",
       "      <td>-136.835862</td>\n",
       "      <td>1000.0</td>\n",
       "      <td>-574.453230</td>\n",
       "      <td>-435.718242</td>\n",
       "      <td>-1.899126</td>\n",
       "      <td>-136.835862</td>\n",
       "      <td>-190.380587</td>\n",
       "      <td>-245.337655</td>\n",
       "      <td>-224.022429</td>\n",
       "      <td>-211.695812</td>\n",
       "    </tr>\n",
       "    <tr>\n",
       "      <th>2999</th>\n",
       "      <td>17999</td>\n",
       "      <td>65.0</td>\n",
       "      <td>2.500000</td>\n",
       "      <td>0.9</td>\n",
       "      <td>0.0</td>\n",
       "      <td>3.683238</td>\n",
       "      <td>-574.593090</td>\n",
       "      <td>-435.857803</td>\n",
       "      <td>-1.899126</td>\n",
       "      <td>-136.836162</td>\n",
       "      <td>1000.0</td>\n",
       "      <td>-574.593090</td>\n",
       "      <td>-435.857803</td>\n",
       "      <td>-1.899126</td>\n",
       "      <td>-136.836162</td>\n",
       "      <td>-190.376258</td>\n",
       "      <td>-245.481544</td>\n",
       "      <td>-224.146496</td>\n",
       "      <td>-211.711306</td>\n",
       "    </tr>\n",
       "  </tbody>\n",
       "</table>\n",
       "<p>6000 rows × 19 columns</p>\n",
       "</div>"
      ],
      "text/plain": [
       "          n    H0     lmean  lsigma  logF        lC        lls0      P_zDM0  \\\n",
       "0         0  60.0  1.700000     0.2  -1.7  3.602315         NaN         NaN   \n",
       "1         1  60.0  1.788889     0.2  -1.7  3.604302         NaN         NaN   \n",
       "2         2  60.0  1.877778     0.2  -1.7  3.606771         NaN         NaN   \n",
       "3         3  60.0  1.966667     0.2  -1.7  3.609845         NaN         NaN   \n",
       "4         4  60.0  2.055556     0.2  -1.7  3.613675         NaN         NaN   \n",
       "...     ...   ...       ...     ...   ...       ...         ...         ...   \n",
       "2995  17995  65.0  2.144444     0.9   0.0  3.646298 -575.011344 -436.277294   \n",
       "2996  17996  65.0  2.233333     0.9   0.0  3.654531 -574.667140 -435.932770   \n",
       "2997  17997  65.0  2.322222     0.9   0.0  3.663436 -574.479291 -435.744608   \n",
       "2998  17998  65.0  2.411111     0.9   0.0  3.673009 -574.453230 -435.718242   \n",
       "2999  17999  65.0  2.500000     0.9   0.0  3.683238 -574.593090 -435.857803   \n",
       "\n",
       "          P_n0        P_s0      N0         lls       P_zDM       P_n  \\\n",
       "0    -1.899126         NaN  1000.0         NaN         NaN -1.899126   \n",
       "1    -1.899126         NaN  1000.0         NaN         NaN -1.899126   \n",
       "2    -1.899126         NaN  1000.0         NaN         NaN -1.899126   \n",
       "3    -1.899126         NaN  1000.0         NaN         NaN -1.899126   \n",
       "4    -1.899126         NaN  1000.0         NaN         NaN -1.899126   \n",
       "...        ...         ...     ...         ...         ...       ...   \n",
       "2995 -1.899126 -136.834924  1000.0 -575.011344 -436.277294 -1.899126   \n",
       "2996 -1.899126 -136.835244  1000.0 -574.667140 -435.932770 -1.899126   \n",
       "2997 -1.899126 -136.835556  1000.0 -574.479291 -435.744608 -1.899126   \n",
       "2998 -1.899126 -136.835862  1000.0 -574.453230 -435.718242 -1.899126   \n",
       "2999 -1.899126 -136.836162  1000.0 -574.593090 -435.857803 -1.899126   \n",
       "\n",
       "             P_s       p_zgDM        p_DM       p_DMgz         p_z  \n",
       "0            NaN -3518.772936 -248.218411 -3553.960341 -213.031007  \n",
       "1            NaN -3531.023333 -247.577938 -3565.561590 -213.039681  \n",
       "2            NaN -3549.620662 -246.983542 -3583.554654 -213.049550  \n",
       "3            NaN -3574.878377 -246.528137 -3608.345899 -213.060615  \n",
       "4            NaN -3606.500502 -246.367388 -3639.795115 -213.072774  \n",
       "...          ...          ...         ...          ...         ...  \n",
       "2995 -136.834924  -190.715459 -245.561835  -224.616985 -211.660308  \n",
       "2996 -136.835244  -190.547491 -245.385280  -224.262260 -211.670511  \n",
       "2997 -136.835556  -190.436765 -245.307844  -224.062327 -211.682281  \n",
       "2998 -136.835862  -190.380587 -245.337655  -224.022429 -211.695812  \n",
       "2999 -136.836162  -190.376258 -245.481544  -224.146496 -211.711306  \n",
       "\n",
       "[6000 rows x 19 columns]"
      ]
     },
     "execution_count": 23,
     "metadata": {},
     "output_type": "execute_result"
    }
   ],
   "source": [
    "df_comb"
   ]
  },
  {
   "cell_type": "markdown",
   "id": "d719515b-7638-4207-838c-5fd2b6604af4",
   "metadata": {},
   "source": [
    "## Plot"
   ]
  },
  {
   "cell_type": "code",
   "execution_count": 30,
   "id": "393b4c6e-9c8e-4fbb-9b1a-3302d08420cb",
   "metadata": {},
   "outputs": [
    {
     "data": {
      "text/plain": [
       "[<matplotlib.lines.Line2D at 0x7f6b84aec730>]"
      ]
     },
     "execution_count": 30,
     "metadata": {},
     "output_type": "execute_result"
    },
    {
     "data": {
      "image/png": "[encoded data removed]",
      "text/plain": [
       "<Figure size 432x288 with 1 Axes>"
      ]
     },
     "metadata": {
      "needs_background": "light"
     },
     "output_type": "display_data"
    }
   ],
   "source": [
    "ax = sns.scatterplot(data=df_comb, x='logF', y='lls', hue='H0')\n",
    "\n",
    "xlim = [-1, 0]\n",
    "ax.set_xlim(xlim)\n",
    "ax.set_ylim(-600., -550.)\n",
    "\n",
    "# Max line\n",
    "max_LL =  df_comb.lls.max()\n",
    "ax.plot(xlim, [max_LL]*2, 'g--')"
   ]
  },
  {
   "cell_type": "markdown",
   "id": "b5df69af-6901-40c2-beba-0212182bdd16",
   "metadata": {},
   "source": [
    "# I am suspecting a slurp bug.."
   ]
  },
  {
   "cell_type": "markdown",
   "id": "f5438dc7-61d6-4a67-9aaa-3248fbdc4a5b",
   "metadata": {},
   "source": [
    "# I slurped, now am examining the slurped file"
   ]
  },
  {
   "cell_type": "markdown",
   "id": "8ef3b730-fea3-40aa-9b7d-34814e9c2024",
   "metadata": {},
   "source": [
    "## Load"
   ]
  },
  {
   "cell_type": "code",
   "execution_count": 31,
   "id": "654b497a-e590-4762-a0d2-4ce1c84306dc",
   "metadata": {},
   "outputs": [
    {
     "data": {
      "text/plain": [
       "['ll',\n",
       " 'lC',\n",
       " 'params',\n",
       " 'pzDM',\n",
       " 'pDM',\n",
       " 'pDMz',\n",
       " 'pz',\n",
       " 'H0',\n",
       " 'lmean',\n",
       " 'lsigma',\n",
       " 'logF',\n",
       " 'lls0',\n",
       " 'P_zDM0',\n",
       " 'P_n0',\n",
       " 'P_s0',\n",
       " 'N0']"
      ]
     },
     "execution_count": 31,
     "metadata": {},
     "output_type": "execute_result"
    }
   ],
   "source": [
    "cube = np.load('Cubes/craco_full_cube.npz')\n",
    "list(cube.keys())"
   ]
  },
  {
   "cell_type": "code",
   "execution_count": 32,
   "id": "5a1f38c3-2276-4db4-8b85-b562c218f260",
   "metadata": {},
   "outputs": [
    {
     "data": {
      "text/plain": [
       "(21, 10, 10, 30)"
      ]
     },
     "execution_count": 32,
     "metadata": {},
     "output_type": "execute_result"
    }
   ],
   "source": [
    "LL = cube['ll']\n",
    "LL.shape"
   ]
  },
  {
   "cell_type": "code",
   "execution_count": 33,
   "id": "ffb3969c-843c-4186-8e8b-71132b959441",
   "metadata": {},
   "outputs": [
    {
     "data": {
      "text/plain": [
       "-569.1069"
      ]
     },
     "execution_count": 33,
     "metadata": {},
     "output_type": "execute_result"
    }
   ],
   "source": [
    "np.nanmax(LL[:,0])"
   ]
  },
  {
   "cell_type": "markdown",
   "id": "77e3c617-d266-4a7f-940f-170549619732",
   "metadata": {},
   "source": [
    "## Parse"
   ]
  },
  {
   "cell_type": "code",
   "execution_count": 34,
   "id": "b7267261-fb2f-4686-9521-559730c3b3ed",
   "metadata": {},
   "outputs": [],
   "source": [
    "F = cube['logF']\n",
    "H0 = cube['H0']\n",
    "#\n",
    "dF = F[1]-F[0]\n",
    "dH = H0[1] - H0[0]"
   ]
  },
  {
   "cell_type": "markdown",
   "id": "59934a22-f603-4c5a-b5b1-86b4cf7b0ac8",
   "metadata": {},
   "source": [
    "## Plot"
   ]
  },
  {
   "cell_type": "code",
   "execution_count": 35,
   "id": "adf1fdda-aa1c-4ee2-850d-82f36e5835c3",
   "metadata": {},
   "outputs": [
    {
     "ename": "ValueError",
     "evalue": "x and y can be no greater than 2D, but have shapes (21,) and (21, 10, 30)",
     "output_type": "error",
     "traceback": [
      "\u001b[0;31m---------------------------------------------------------------------------\u001b[0m",
      "\u001b[0;31mValueError\u001b[0m                                Traceback (most recent call last)",
      "Input \u001b[0;32mIn [35]\u001b[0m, in \u001b[0;36m<cell line: 3>\u001b[0;34m()\u001b[0m\n\u001b[1;32m      1\u001b[0m plt\u001b[38;5;241m.\u001b[39mclf()\n\u001b[1;32m      2\u001b[0m ax \u001b[38;5;241m=\u001b[39m plt\u001b[38;5;241m.\u001b[39mgca()\n\u001b[0;32m----> 3\u001b[0m \u001b[43max\u001b[49m\u001b[38;5;241;43m.\u001b[39;49m\u001b[43mplot\u001b[49m\u001b[43m(\u001b[49m\u001b[43mLL\u001b[49m\u001b[43m[\u001b[49m\u001b[43m:\u001b[49m\u001b[43m,\u001b[49m\u001b[38;5;241;43m0\u001b[39;49m\u001b[43m]\u001b[49m\u001b[43m)\u001b[49m\n\u001b[1;32m      4\u001b[0m plt\u001b[38;5;241m.\u001b[39mshow()\n",
      "File \u001b[0;32m/opt/conda/lib/python3.9/site-packages/matplotlib/axes/_axes.py:1632\u001b[0m, in \u001b[0;36mAxes.plot\u001b[0;34m(self, scalex, scaley, data, *args, **kwargs)\u001b[0m\n\u001b[1;32m   1390\u001b[0m \u001b[38;5;124;03m\"\"\"\u001b[39;00m\n\u001b[1;32m   1391\u001b[0m \u001b[38;5;124;03mPlot y versus x as lines and/or markers.\u001b[39;00m\n\u001b[1;32m   1392\u001b[0m \n\u001b[0;32m   (...)\u001b[0m\n\u001b[1;32m   1629\u001b[0m \u001b[38;5;124;03m(``'green'``) or hex strings (``'#008000'``).\u001b[39;00m\n\u001b[1;32m   1630\u001b[0m \u001b[38;5;124;03m\"\"\"\u001b[39;00m\n\u001b[1;32m   1631\u001b[0m kwargs \u001b[38;5;241m=\u001b[39m cbook\u001b[38;5;241m.\u001b[39mnormalize_kwargs(kwargs, mlines\u001b[38;5;241m.\u001b[39mLine2D)\n\u001b[0;32m-> 1632\u001b[0m lines \u001b[38;5;241m=\u001b[39m [\u001b[38;5;241m*\u001b[39m\u001b[38;5;28mself\u001b[39m\u001b[38;5;241m.\u001b[39m_get_lines(\u001b[38;5;241m*\u001b[39margs, data\u001b[38;5;241m=\u001b[39mdata, \u001b[38;5;241m*\u001b[39m\u001b[38;5;241m*\u001b[39mkwargs)]\n\u001b[1;32m   1633\u001b[0m \u001b[38;5;28;01mfor\u001b[39;00m line \u001b[38;5;129;01min\u001b[39;00m lines:\n\u001b[1;32m   1634\u001b[0m     \u001b[38;5;28mself\u001b[39m\u001b[38;5;241m.\u001b[39madd_line(line)\n",
      "File \u001b[0;32m/opt/conda/lib/python3.9/site-packages/matplotlib/axes/_base.py:312\u001b[0m, in \u001b[0;36m_process_plot_var_args.__call__\u001b[0;34m(self, data, *args, **kwargs)\u001b[0m\n\u001b[1;32m    310\u001b[0m     this \u001b[38;5;241m+\u001b[39m\u001b[38;5;241m=\u001b[39m args[\u001b[38;5;241m0\u001b[39m],\n\u001b[1;32m    311\u001b[0m     args \u001b[38;5;241m=\u001b[39m args[\u001b[38;5;241m1\u001b[39m:]\n\u001b[0;32m--> 312\u001b[0m \u001b[38;5;28;01myield from\u001b[39;00m \u001b[38;5;28;43mself\u001b[39;49m\u001b[38;5;241;43m.\u001b[39;49m\u001b[43m_plot_args\u001b[49m\u001b[43m(\u001b[49m\u001b[43mthis\u001b[49m\u001b[43m,\u001b[49m\u001b[43m \u001b[49m\u001b[43mkwargs\u001b[49m\u001b[43m)\u001b[49m\n",
      "File \u001b[0;32m/opt/conda/lib/python3.9/site-packages/matplotlib/axes/_base.py:501\u001b[0m, in \u001b[0;36m_process_plot_var_args._plot_args\u001b[0;34m(self, tup, kwargs, return_kwargs)\u001b[0m\n\u001b[1;32m    498\u001b[0m     \u001b[38;5;28;01mraise\u001b[39;00m \u001b[38;5;167;01mValueError\u001b[39;00m(\u001b[38;5;124mf\u001b[39m\u001b[38;5;124m\"\u001b[39m\u001b[38;5;124mx and y must have same first dimension, but \u001b[39m\u001b[38;5;124m\"\u001b[39m\n\u001b[1;32m    499\u001b[0m                      \u001b[38;5;124mf\u001b[39m\u001b[38;5;124m\"\u001b[39m\u001b[38;5;124mhave shapes \u001b[39m\u001b[38;5;132;01m{\u001b[39;00mx\u001b[38;5;241m.\u001b[39mshape\u001b[38;5;132;01m}\u001b[39;00m\u001b[38;5;124m and \u001b[39m\u001b[38;5;132;01m{\u001b[39;00my\u001b[38;5;241m.\u001b[39mshape\u001b[38;5;132;01m}\u001b[39;00m\u001b[38;5;124m\"\u001b[39m)\n\u001b[1;32m    500\u001b[0m \u001b[38;5;28;01mif\u001b[39;00m x\u001b[38;5;241m.\u001b[39mndim \u001b[38;5;241m>\u001b[39m \u001b[38;5;241m2\u001b[39m \u001b[38;5;129;01mor\u001b[39;00m y\u001b[38;5;241m.\u001b[39mndim \u001b[38;5;241m>\u001b[39m \u001b[38;5;241m2\u001b[39m:\n\u001b[0;32m--> 501\u001b[0m     \u001b[38;5;28;01mraise\u001b[39;00m \u001b[38;5;167;01mValueError\u001b[39;00m(\u001b[38;5;124mf\u001b[39m\u001b[38;5;124m\"\u001b[39m\u001b[38;5;124mx and y can be no greater than 2D, but have \u001b[39m\u001b[38;5;124m\"\u001b[39m\n\u001b[1;32m    502\u001b[0m                      \u001b[38;5;124mf\u001b[39m\u001b[38;5;124m\"\u001b[39m\u001b[38;5;124mshapes \u001b[39m\u001b[38;5;132;01m{\u001b[39;00mx\u001b[38;5;241m.\u001b[39mshape\u001b[38;5;132;01m}\u001b[39;00m\u001b[38;5;124m and \u001b[39m\u001b[38;5;132;01m{\u001b[39;00my\u001b[38;5;241m.\u001b[39mshape\u001b[38;5;132;01m}\u001b[39;00m\u001b[38;5;124m\"\u001b[39m)\n\u001b[1;32m    503\u001b[0m \u001b[38;5;28;01mif\u001b[39;00m x\u001b[38;5;241m.\u001b[39mndim \u001b[38;5;241m==\u001b[39m \u001b[38;5;241m1\u001b[39m:\n\u001b[1;32m    504\u001b[0m     x \u001b[38;5;241m=\u001b[39m x[:, np\u001b[38;5;241m.\u001b[39mnewaxis]\n",
      "\u001b[0;31mValueError\u001b[0m: x and y can be no greater than 2D, but have shapes (21,) and (21, 10, 30)"
     ]
    },
    {
     "data": {
      "image/png": "[encoded data removed]",
      "text/plain": [
       "<Figure size 432x288 with 1 Axes>"
      ]
     },
     "metadata": {
      "needs_background": "light"
     },
     "output_type": "display_data"
    }
   ],
   "source": [
    "plt.clf()\n",
    "ax = plt.gca()\n",
    "ax.plot(LL[:,0])\n",
    "plt.show()"
   ]
  },
  {
   "cell_type": "markdown",
   "id": "9b85c517-7fcc-408c-bc68-8f85639b5201",
   "metadata": {},
   "source": [
    "## Show it all"
   ]
  },
  {
   "cell_type": "code",
   "execution_count": 54,
   "id": "24b700b6-1433-4a73-bde8-b5f9f9b5fd9c",
   "metadata": {},
   "outputs": [],
   "source": [
    "nans = np.isnan(LL)\n",
    "LL_clean = LL.copy()\n",
    "LL_clean[nans] = -9e9\n",
    "#\n",
    "LL_clean -= LL_clean.max()"
   ]
  },
  {
   "cell_type": "code",
   "execution_count": 59,
   "id": "493e0416-168e-438a-9d29-40b095dbccbf",
   "metadata": {},
   "outputs": [
    {
     "data": {
      "text/plain": [
       "Text(0, 0.5, 'H0 (km/s/Mpc)')"
      ]
     },
     "execution_count": 59,
     "metadata": {},
     "output_type": "execute_result"
    },
    {
     "data": {
      "image/png": "[encoded data removed]",
      "text/plain": [
       "<Figure size 432x288 with 2 Axes>"
      ]
     },
     "metadata": {
      "needs_background": "light"
     },
     "output_type": "display_data"
    }
   ],
   "source": [
    "plt.clf()\n",
    "ax=plt.gca()\n",
    "#\n",
    "im = plt.imshow(LL_clean.T, origin='lower', vmin=-4., vmax=0., cmap='jet',\n",
    "          extent=[F.min()-dF/2, F.max()+dF/2, 55.-dH/2, 80+dH/2], aspect='auto')\n",
    "# Color bar\n",
    "cbar=plt.colorbar(im,fraction=0.046, shrink=1.2,aspect=15,pad=0.05)\n",
    "cbar.set_label(r'$\\Delta$ Log10 Likelihood')\n",
    "#\n",
    "ax.set_xlabel('F')\n",
    "ax.set_ylabel('H0 (km/s/Mpc)')"
   ]
  },
  {
   "cell_type": "code",
   "execution_count": null,
   "id": "1e57d2a5-f711-4e40-bcf0-4de0576ec60a",
   "metadata": {},
   "outputs": [],
   "source": []
  }
 ],
 "metadata": {
  "kernelspec": {
   "display_name": "Python 3 (ipykernel)",
   "language": "python",
   "name": "python3"
  },
  "language_info": {
   "codemirror_mode": {
    "name": "ipython",
    "version": 3
   },
   "file_extension": ".py",
   "mimetype": "text/x-python",
   "name": "python",
   "nbconvert_exporter": "python",
   "pygments_lexer": "ipython3",
   "version": "3.10.6"
  },
  "vscode": {
   "interpreter": {
    "hash": "9731a3b7ebb41545a410367c249afbc4842fd5740da82f1bd29e6ac1d7253e6e"
   }
  }
 },
 "nbformat": 4,
 "nbformat_minor": 5
}
