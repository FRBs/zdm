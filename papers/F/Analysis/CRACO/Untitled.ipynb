{
 "cells": [
  {
   "cell_type": "code",
   "execution_count": 1,
   "id": "91a1b4da-2807-4405-a42d-5879947cb622",
   "metadata": {},
   "outputs": [],
   "source": [
    "# imports\n",
    "import numpy as np\n",
    "import pandas\n",
    "import seaborn as sns\n",
    "from IPython.display import display, HTML\n",
    "from matplotlib import pyplot as plt"
   ]
  },
  {
   "cell_type": "code",
   "execution_count": 2,
   "id": "8cd6f4bd-4ea3-4e54-a560-8352aecee1e8",
   "metadata": {},
   "outputs": [
    {
     "data": {
      "text/plain": [
       "['ll',\n",
       " 'lC',\n",
       " 'params',\n",
       " 'pzDM',\n",
       " 'pDM',\n",
       " 'pDMz',\n",
       " 'pz',\n",
       " 'H0',\n",
       " 'lmean',\n",
       " 'lsigma',\n",
       " 'logF',\n",
       " 'lls0',\n",
       " 'P_zDM0',\n",
       " 'P_n0',\n",
       " 'P_s0',\n",
       " 'N0']"
      ]
     },
     "execution_count": 2,
     "metadata": {},
     "output_type": "execute_result"
    }
   ],
   "source": [
    "cube = np.load('Cubes/craco_full_cube.npz')\n",
    "list(cube.keys())"
   ]
  },
  {
   "cell_type": "code",
   "execution_count": 3,
   "id": "b001182e-48bb-4a3c-827f-3538c261bb6c",
   "metadata": {},
   "outputs": [
    {
     "data": {
      "text/plain": [
       "(21, 10, 10, 30)"
      ]
     },
     "execution_count": 3,
     "metadata": {},
     "output_type": "execute_result"
    }
   ],
   "source": [
    "LL = cube['ll']\n",
    "LL.shape"
   ]
  },
  {
   "cell_type": "code",
   "execution_count": 14,
   "id": "d2d17e43-8ed2-4fdc-b1aa-68247d0a283f",
   "metadata": {},
   "outputs": [],
   "source": [
    "best_lmean = cube['lmean'][np.isclose(cube['lmean'], 2.16, atol=.05)][0]\n",
    "best_lsigma = cube['lsigma'][np.isclose(cube['lsigma'], .51, atol=.05)][0]"
   ]
  },
  {
   "cell_type": "code",
   "execution_count": 16,
   "id": "8cc16752-a1b5-4753-8181-9b9c933a74ae",
   "metadata": {},
   "outputs": [
    {
     "data": {
      "text/plain": [
       "array(['H0', 'lmean', 'lsigma', 'logF'], dtype='<U6')"
      ]
     },
     "execution_count": 16,
     "metadata": {},
     "output_type": "execute_result"
    }
   ],
   "source": [
    "cube['params']"
   ]
  },
  {
   "cell_type": "code",
   "execution_count": 17,
   "id": "a7265608-d2ca-45d1-ae05-db185ce6ed7c",
   "metadata": {},
   "outputs": [
    {
     "data": {
      "text/plain": [
       "(2.1444444444444444, 0.5111111111111111)"
      ]
     },
     "execution_count": 17,
     "metadata": {},
     "output_type": "execute_result"
    }
   ],
   "source": [
    "best_lmean, best_lsigma"
   ]
  },
  {
   "cell_type": "code",
   "execution_count": null,
   "id": "2bdb5e4b-c0f4-4a74-b26f-6097365ea5b6",
   "metadata": {},
   "outputs": [],
   "source": [
    "# 45, "
   ]
  }
 ],
 "metadata": {
  "kernelspec": {
   "display_name": "Python 3 (ipykernel)",
   "language": "python",
   "name": "python3"
  },
  "language_info": {
   "codemirror_mode": {
    "name": "ipython",
    "version": 3
   },
   "file_extension": ".py",
   "mimetype": "text/x-python",
   "name": "python",
   "nbconvert_exporter": "python",
   "pygments_lexer": "ipython3",
   "version": "3.10.6"
  }
 },
 "nbformat": 4,
 "nbformat_minor": 5
}
