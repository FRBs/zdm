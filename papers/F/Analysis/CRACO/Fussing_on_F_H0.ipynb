{
 "cells": [
  {
   "cell_type": "markdown",
   "id": "8e9d01fb-000b-4558-80e8-27688eafa19e",
   "metadata": {},
   "source": [
    "# Quick check"
   ]
  },
  {
   "cell_type": "code",
   "execution_count": 33,
   "id": "7a372b56-1bb5-40be-bdf8-4129f926399e",
   "metadata": {},
   "outputs": [],
   "source": [
    "# imports\n",
    "import numpy as np\n",
    "import pandas\n",
    "\n",
    "import seaborn as sns\n",
    "\n",
    "from matplotlib import pyplot as plt"
   ]
  },
  {
   "cell_type": "markdown",
   "id": "d5e74992-02f4-4cf5-a9af-6672bb8d5b4d",
   "metadata": {},
   "source": [
    "# Read one"
   ]
  },
  {
   "cell_type": "code",
   "execution_count": 2,
   "id": "4df320dd-109c-4c74-bc35-760d3d4f07ee",
   "metadata": {},
   "outputs": [],
   "source": [
    "df_1 = pandas.read_csv('Cloud/Output/craco_H0_F1.csv')"
   ]
  },
  {
   "cell_type": "code",
   "execution_count": 3,
   "id": "1a86735b-ab9e-464a-a4a1-576700653452",
   "metadata": {},
   "outputs": [
    {
     "data": {
      "text/html": [
       "<div>\n",
       "<style scoped>\n",
       "    .dataframe tbody tr th:only-of-type {\n",
       "        vertical-align: middle;\n",
       "    }\n",
       "\n",
       "    .dataframe tbody tr th {\n",
       "        vertical-align: top;\n",
       "    }\n",
       "\n",
       "    .dataframe thead th {\n",
       "        text-align: right;\n",
       "    }\n",
       "</style>\n",
       "<table border=\"1\" class=\"dataframe\">\n",
       "  <thead>\n",
       "    <tr style=\"text-align: right;\">\n",
       "      <th></th>\n",
       "      <th>n</th>\n",
       "      <th>F</th>\n",
       "      <th>H0</th>\n",
       "      <th>lC</th>\n",
       "      <th>lls0</th>\n",
       "      <th>P_zDM0</th>\n",
       "      <th>P_n0</th>\n",
       "      <th>P_s0</th>\n",
       "      <th>N0</th>\n",
       "      <th>lls</th>\n",
       "      <th>P_zDM</th>\n",
       "      <th>P_n</th>\n",
       "      <th>P_s</th>\n",
       "      <th>p_zgDM</th>\n",
       "      <th>p_DM</th>\n",
       "      <th>p_DMgz</th>\n",
       "      <th>p_z</th>\n",
       "    </tr>\n",
       "  </thead>\n",
       "  <tbody>\n",
       "    <tr>\n",
       "      <th>0</th>\n",
       "      <td>0</td>\n",
       "      <td>0.010000</td>\n",
       "      <td>55.0</td>\n",
       "      <td>3.634974</td>\n",
       "      <td>NaN</td>\n",
       "      <td>NaN</td>\n",
       "      <td>-1.899126</td>\n",
       "      <td>NaN</td>\n",
       "      <td>1000.0</td>\n",
       "      <td>NaN</td>\n",
       "      <td>NaN</td>\n",
       "      <td>-1.899126</td>\n",
       "      <td>NaN</td>\n",
       "      <td>-3266.934553</td>\n",
       "      <td>-243.847383</td>\n",
       "      <td>-3295.945744</td>\n",
       "      <td>-214.836192</td>\n",
       "    </tr>\n",
       "    <tr>\n",
       "      <th>1</th>\n",
       "      <td>1</td>\n",
       "      <td>0.030204</td>\n",
       "      <td>55.0</td>\n",
       "      <td>3.634934</td>\n",
       "      <td>NaN</td>\n",
       "      <td>NaN</td>\n",
       "      <td>-1.899126</td>\n",
       "      <td>NaN</td>\n",
       "      <td>1000.0</td>\n",
       "      <td>NaN</td>\n",
       "      <td>NaN</td>\n",
       "      <td>-1.899126</td>\n",
       "      <td>NaN</td>\n",
       "      <td>-3471.574552</td>\n",
       "      <td>-243.865464</td>\n",
       "      <td>-3500.608486</td>\n",
       "      <td>-214.831531</td>\n",
       "    </tr>\n",
       "    <tr>\n",
       "      <th>2</th>\n",
       "      <td>2</td>\n",
       "      <td>0.050408</td>\n",
       "      <td>55.0</td>\n",
       "      <td>3.634838</td>\n",
       "      <td>-1904.922952</td>\n",
       "      <td>-1766.584676</td>\n",
       "      <td>-1.899126</td>\n",
       "      <td>-136.439149</td>\n",
       "      <td>1000.0</td>\n",
       "      <td>-1904.922952</td>\n",
       "      <td>-1766.584676</td>\n",
       "      <td>-1.899126</td>\n",
       "      <td>-136.439149</td>\n",
       "      <td>-1522.701662</td>\n",
       "      <td>-243.883014</td>\n",
       "      <td>-1551.763337</td>\n",
       "      <td>-214.821339</td>\n",
       "    </tr>\n",
       "    <tr>\n",
       "      <th>3</th>\n",
       "      <td>3</td>\n",
       "      <td>0.070612</td>\n",
       "      <td>55.0</td>\n",
       "      <td>3.634568</td>\n",
       "      <td>-1249.128201</td>\n",
       "      <td>-1110.810937</td>\n",
       "      <td>-1.899126</td>\n",
       "      <td>-136.418137</td>\n",
       "      <td>1000.0</td>\n",
       "      <td>-1249.128201</td>\n",
       "      <td>-1110.810937</td>\n",
       "      <td>-1.899126</td>\n",
       "      <td>-136.418137</td>\n",
       "      <td>-866.930740</td>\n",
       "      <td>-243.880197</td>\n",
       "      <td>-896.005319</td>\n",
       "      <td>-214.805619</td>\n",
       "    </tr>\n",
       "    <tr>\n",
       "      <th>4</th>\n",
       "      <td>4</td>\n",
       "      <td>0.090816</td>\n",
       "      <td>55.0</td>\n",
       "      <td>3.634009</td>\n",
       "      <td>-974.171611</td>\n",
       "      <td>-835.879314</td>\n",
       "      <td>-1.899126</td>\n",
       "      <td>-136.393171</td>\n",
       "      <td>1000.0</td>\n",
       "      <td>-974.171611</td>\n",
       "      <td>-835.879314</td>\n",
       "      <td>-1.899126</td>\n",
       "      <td>-136.393171</td>\n",
       "      <td>-592.021520</td>\n",
       "      <td>-243.857794</td>\n",
       "      <td>-621.100120</td>\n",
       "      <td>-214.779195</td>\n",
       "    </tr>\n",
       "  </tbody>\n",
       "</table>\n",
       "</div>"
      ],
      "text/plain": [
       "   n         F    H0        lC         lls0       P_zDM0      P_n0  \\\n",
       "0  0  0.010000  55.0  3.634974          NaN          NaN -1.899126   \n",
       "1  1  0.030204  55.0  3.634934          NaN          NaN -1.899126   \n",
       "2  2  0.050408  55.0  3.634838 -1904.922952 -1766.584676 -1.899126   \n",
       "3  3  0.070612  55.0  3.634568 -1249.128201 -1110.810937 -1.899126   \n",
       "4  4  0.090816  55.0  3.634009  -974.171611  -835.879314 -1.899126   \n",
       "\n",
       "         P_s0      N0          lls        P_zDM       P_n         P_s  \\\n",
       "0         NaN  1000.0          NaN          NaN -1.899126         NaN   \n",
       "1         NaN  1000.0          NaN          NaN -1.899126         NaN   \n",
       "2 -136.439149  1000.0 -1904.922952 -1766.584676 -1.899126 -136.439149   \n",
       "3 -136.418137  1000.0 -1249.128201 -1110.810937 -1.899126 -136.418137   \n",
       "4 -136.393171  1000.0  -974.171611  -835.879314 -1.899126 -136.393171   \n",
       "\n",
       "        p_zgDM        p_DM       p_DMgz         p_z  \n",
       "0 -3266.934553 -243.847383 -3295.945744 -214.836192  \n",
       "1 -3471.574552 -243.865464 -3500.608486 -214.831531  \n",
       "2 -1522.701662 -243.883014 -1551.763337 -214.821339  \n",
       "3  -866.930740 -243.880197  -896.005319 -214.805619  \n",
       "4  -592.021520 -243.857794  -621.100120 -214.779195  "
      ]
     },
     "execution_count": 3,
     "metadata": {},
     "output_type": "execute_result"
    }
   ],
   "source": [
    "df_1.head()"
   ]
  },
  {
   "cell_type": "markdown",
   "id": "142de13b-5614-457f-b5f1-3cb1151da683",
   "metadata": {},
   "source": [
    "## Cut on 55"
   ]
  },
  {
   "cell_type": "code",
   "execution_count": 6,
   "id": "cecb85bb-319b-401a-8fb7-f8a6fe944c00",
   "metadata": {},
   "outputs": [],
   "source": [
    "idx_55 = np.isclose(df_1.H0, 55.)"
   ]
  },
  {
   "cell_type": "code",
   "execution_count": 7,
   "id": "1bc8924e-98b4-4891-8e15-8d52fd12e4db",
   "metadata": {},
   "outputs": [],
   "source": [
    "df_55 = df_1[idx_55].copy()"
   ]
  },
  {
   "cell_type": "code",
   "execution_count": 9,
   "id": "985660e4-16e2-4cd2-8090-bd0700fe17db",
   "metadata": {},
   "outputs": [
    {
     "data": {
      "text/html": [
       "<div>\n",
       "<style scoped>\n",
       "    .dataframe tbody tr th:only-of-type {\n",
       "        vertical-align: middle;\n",
       "    }\n",
       "\n",
       "    .dataframe tbody tr th {\n",
       "        vertical-align: top;\n",
       "    }\n",
       "\n",
       "    .dataframe thead th {\n",
       "        text-align: right;\n",
       "    }\n",
       "</style>\n",
       "<table border=\"1\" class=\"dataframe\">\n",
       "  <thead>\n",
       "    <tr style=\"text-align: right;\">\n",
       "      <th></th>\n",
       "      <th>n</th>\n",
       "      <th>F</th>\n",
       "      <th>H0</th>\n",
       "      <th>lC</th>\n",
       "      <th>lls0</th>\n",
       "      <th>P_zDM0</th>\n",
       "      <th>P_n0</th>\n",
       "      <th>P_s0</th>\n",
       "      <th>N0</th>\n",
       "      <th>lls</th>\n",
       "      <th>P_zDM</th>\n",
       "      <th>P_n</th>\n",
       "      <th>P_s</th>\n",
       "      <th>p_zgDM</th>\n",
       "      <th>p_DM</th>\n",
       "      <th>p_DMgz</th>\n",
       "      <th>p_z</th>\n",
       "    </tr>\n",
       "  </thead>\n",
       "  <tbody>\n",
       "    <tr>\n",
       "      <th>0</th>\n",
       "      <td>0</td>\n",
       "      <td>0.010000</td>\n",
       "      <td>55.0</td>\n",
       "      <td>3.634974</td>\n",
       "      <td>NaN</td>\n",
       "      <td>NaN</td>\n",
       "      <td>-1.899126</td>\n",
       "      <td>NaN</td>\n",
       "      <td>1000.0</td>\n",
       "      <td>NaN</td>\n",
       "      <td>NaN</td>\n",
       "      <td>-1.899126</td>\n",
       "      <td>NaN</td>\n",
       "      <td>-3266.934553</td>\n",
       "      <td>-243.847383</td>\n",
       "      <td>-3295.945744</td>\n",
       "      <td>-214.836192</td>\n",
       "    </tr>\n",
       "    <tr>\n",
       "      <th>1</th>\n",
       "      <td>1</td>\n",
       "      <td>0.030204</td>\n",
       "      <td>55.0</td>\n",
       "      <td>3.634934</td>\n",
       "      <td>NaN</td>\n",
       "      <td>NaN</td>\n",
       "      <td>-1.899126</td>\n",
       "      <td>NaN</td>\n",
       "      <td>1000.0</td>\n",
       "      <td>NaN</td>\n",
       "      <td>NaN</td>\n",
       "      <td>-1.899126</td>\n",
       "      <td>NaN</td>\n",
       "      <td>-3471.574552</td>\n",
       "      <td>-243.865464</td>\n",
       "      <td>-3500.608486</td>\n",
       "      <td>-214.831531</td>\n",
       "    </tr>\n",
       "    <tr>\n",
       "      <th>2</th>\n",
       "      <td>2</td>\n",
       "      <td>0.050408</td>\n",
       "      <td>55.0</td>\n",
       "      <td>3.634838</td>\n",
       "      <td>-1904.922952</td>\n",
       "      <td>-1766.584676</td>\n",
       "      <td>-1.899126</td>\n",
       "      <td>-136.439149</td>\n",
       "      <td>1000.0</td>\n",
       "      <td>-1904.922952</td>\n",
       "      <td>-1766.584676</td>\n",
       "      <td>-1.899126</td>\n",
       "      <td>-136.439149</td>\n",
       "      <td>-1522.701662</td>\n",
       "      <td>-243.883014</td>\n",
       "      <td>-1551.763337</td>\n",
       "      <td>-214.821339</td>\n",
       "    </tr>\n",
       "    <tr>\n",
       "      <th>3</th>\n",
       "      <td>3</td>\n",
       "      <td>0.070612</td>\n",
       "      <td>55.0</td>\n",
       "      <td>3.634568</td>\n",
       "      <td>-1249.128201</td>\n",
       "      <td>-1110.810937</td>\n",
       "      <td>-1.899126</td>\n",
       "      <td>-136.418137</td>\n",
       "      <td>1000.0</td>\n",
       "      <td>-1249.128201</td>\n",
       "      <td>-1110.810937</td>\n",
       "      <td>-1.899126</td>\n",
       "      <td>-136.418137</td>\n",
       "      <td>-866.930740</td>\n",
       "      <td>-243.880197</td>\n",
       "      <td>-896.005319</td>\n",
       "      <td>-214.805619</td>\n",
       "    </tr>\n",
       "    <tr>\n",
       "      <th>4</th>\n",
       "      <td>4</td>\n",
       "      <td>0.090816</td>\n",
       "      <td>55.0</td>\n",
       "      <td>3.634009</td>\n",
       "      <td>-974.171611</td>\n",
       "      <td>-835.879314</td>\n",
       "      <td>-1.899126</td>\n",
       "      <td>-136.393171</td>\n",
       "      <td>1000.0</td>\n",
       "      <td>-974.171611</td>\n",
       "      <td>-835.879314</td>\n",
       "      <td>-1.899126</td>\n",
       "      <td>-136.393171</td>\n",
       "      <td>-592.021520</td>\n",
       "      <td>-243.857794</td>\n",
       "      <td>-621.100120</td>\n",
       "      <td>-214.779195</td>\n",
       "    </tr>\n",
       "  </tbody>\n",
       "</table>\n",
       "</div>"
      ],
      "text/plain": [
       "   n         F    H0        lC         lls0       P_zDM0      P_n0  \\\n",
       "0  0  0.010000  55.0  3.634974          NaN          NaN -1.899126   \n",
       "1  1  0.030204  55.0  3.634934          NaN          NaN -1.899126   \n",
       "2  2  0.050408  55.0  3.634838 -1904.922952 -1766.584676 -1.899126   \n",
       "3  3  0.070612  55.0  3.634568 -1249.128201 -1110.810937 -1.899126   \n",
       "4  4  0.090816  55.0  3.634009  -974.171611  -835.879314 -1.899126   \n",
       "\n",
       "         P_s0      N0          lls        P_zDM       P_n         P_s  \\\n",
       "0         NaN  1000.0          NaN          NaN -1.899126         NaN   \n",
       "1         NaN  1000.0          NaN          NaN -1.899126         NaN   \n",
       "2 -136.439149  1000.0 -1904.922952 -1766.584676 -1.899126 -136.439149   \n",
       "3 -136.418137  1000.0 -1249.128201 -1110.810937 -1.899126 -136.418137   \n",
       "4 -136.393171  1000.0  -974.171611  -835.879314 -1.899126 -136.393171   \n",
       "\n",
       "        p_zgDM        p_DM       p_DMgz         p_z  \n",
       "0 -3266.934553 -243.847383 -3295.945744 -214.836192  \n",
       "1 -3471.574552 -243.865464 -3500.608486 -214.831531  \n",
       "2 -1522.701662 -243.883014 -1551.763337 -214.821339  \n",
       "3  -866.930740 -243.880197  -896.005319 -214.805619  \n",
       "4  -592.021520 -243.857794  -621.100120 -214.779195  "
      ]
     },
     "execution_count": 9,
     "metadata": {},
     "output_type": "execute_result"
    }
   ],
   "source": [
    "df_55.head()"
   ]
  },
  {
   "cell_type": "markdown",
   "id": "15e51cbd-f8bf-472e-90cb-8fa693a1caa2",
   "metadata": {},
   "source": [
    "## Plot"
   ]
  },
  {
   "cell_type": "code",
   "execution_count": 11,
   "id": "f3e01d8b-9ef2-43a7-9a85-0aa979ddac0c",
   "metadata": {},
   "outputs": [
    {
     "data": {
      "text/plain": [
       "<AxesSubplot:xlabel='F', ylabel='lls'>"
      ]
     },
     "execution_count": 11,
     "metadata": {},
     "output_type": "execute_result"
    },
    {
     "data": {
      "image/png": "[encoded data removed]",
      "text/plain": [
       "<Figure size 432x288 with 1 Axes>"
      ]
     },
     "metadata": {
      "needs_background": "light"
     },
     "output_type": "display_data"
    }
   ],
   "source": [
    "sns.scatterplot(data=df_55, x='F', y='lls')"
   ]
  },
  {
   "cell_type": "code",
   "execution_count": 12,
   "id": "eff127b9-c39e-4a21-a9bc-d5000c0108f6",
   "metadata": {},
   "outputs": [
    {
     "data": {
      "text/plain": [
       "-567.7769774840856"
      ]
     },
     "execution_count": 12,
     "metadata": {},
     "output_type": "execute_result"
    }
   ],
   "source": [
    "df_55.lls.max()"
   ]
  },
  {
   "cell_type": "markdown",
   "id": "04a0a7f3-2923-43af-8fcf-a54136806a9c",
   "metadata": {},
   "source": [
    "# Higher $H_0$"
   ]
  },
  {
   "cell_type": "code",
   "execution_count": 13,
   "id": "bc0a42a4-d85e-4bad-93b8-802a010c31a5",
   "metadata": {},
   "outputs": [],
   "source": [
    "df_6 = pandas.read_csv('Cloud/Output/craco_H0_F6.csv')"
   ]
  },
  {
   "cell_type": "code",
   "execution_count": 14,
   "id": "a2e1727f-fad2-40a1-8f0f-63b7541666ed",
   "metadata": {},
   "outputs": [
    {
     "data": {
      "text/html": [
       "<div>\n",
       "<style scoped>\n",
       "    .dataframe tbody tr th:only-of-type {\n",
       "        vertical-align: middle;\n",
       "    }\n",
       "\n",
       "    .dataframe tbody tr th {\n",
       "        vertical-align: top;\n",
       "    }\n",
       "\n",
       "    .dataframe thead th {\n",
       "        text-align: right;\n",
       "    }\n",
       "</style>\n",
       "<table border=\"1\" class=\"dataframe\">\n",
       "  <thead>\n",
       "    <tr style=\"text-align: right;\">\n",
       "      <th></th>\n",
       "      <th>n</th>\n",
       "      <th>F</th>\n",
       "      <th>H0</th>\n",
       "      <th>lC</th>\n",
       "      <th>lls0</th>\n",
       "      <th>P_zDM0</th>\n",
       "      <th>P_n0</th>\n",
       "      <th>P_s0</th>\n",
       "      <th>N0</th>\n",
       "      <th>lls</th>\n",
       "      <th>P_zDM</th>\n",
       "      <th>P_n</th>\n",
       "      <th>P_s</th>\n",
       "      <th>p_zgDM</th>\n",
       "      <th>p_DM</th>\n",
       "      <th>p_DMgz</th>\n",
       "      <th>p_z</th>\n",
       "    </tr>\n",
       "  </thead>\n",
       "  <tbody>\n",
       "    <tr>\n",
       "      <th>0</th>\n",
       "      <td>1250</td>\n",
       "      <td>0.010000</td>\n",
       "      <td>67.755102</td>\n",
       "      <td>3.638780</td>\n",
       "      <td>NaN</td>\n",
       "      <td>NaN</td>\n",
       "      <td>-1.899126</td>\n",
       "      <td>NaN</td>\n",
       "      <td>1000.0</td>\n",
       "      <td>NaN</td>\n",
       "      <td>NaN</td>\n",
       "      <td>-1.899126</td>\n",
       "      <td>NaN</td>\n",
       "      <td>-2428.536339</td>\n",
       "      <td>-243.864877</td>\n",
       "      <td>-2460.644205</td>\n",
       "      <td>-211.757011</td>\n",
       "    </tr>\n",
       "    <tr>\n",
       "      <th>1</th>\n",
       "      <td>1251</td>\n",
       "      <td>0.030204</td>\n",
       "      <td>67.755102</td>\n",
       "      <td>3.638756</td>\n",
       "      <td>-1060.233287</td>\n",
       "      <td>-921.233641</td>\n",
       "      <td>-1.899126</td>\n",
       "      <td>-137.100520</td>\n",
       "      <td>1000.0</td>\n",
       "      <td>-1060.233287</td>\n",
       "      <td>-921.233641</td>\n",
       "      <td>-1.899126</td>\n",
       "      <td>-137.100520</td>\n",
       "      <td>-677.361891</td>\n",
       "      <td>-243.871750</td>\n",
       "      <td>-709.478045</td>\n",
       "      <td>-211.755596</td>\n",
       "    </tr>\n",
       "    <tr>\n",
       "      <th>2</th>\n",
       "      <td>1252</td>\n",
       "      <td>0.050408</td>\n",
       "      <td>67.755102</td>\n",
       "      <td>3.638688</td>\n",
       "      <td>-748.237080</td>\n",
       "      <td>-609.270396</td>\n",
       "      <td>-1.899126</td>\n",
       "      <td>-137.067558</td>\n",
       "      <td>1000.0</td>\n",
       "      <td>-748.237080</td>\n",
       "      <td>-609.270396</td>\n",
       "      <td>-1.899126</td>\n",
       "      <td>-137.067558</td>\n",
       "      <td>-365.371886</td>\n",
       "      <td>-243.898510</td>\n",
       "      <td>-397.516358</td>\n",
       "      <td>-211.754038</td>\n",
       "    </tr>\n",
       "    <tr>\n",
       "      <th>3</th>\n",
       "      <td>1253</td>\n",
       "      <td>0.070612</td>\n",
       "      <td>67.755102</td>\n",
       "      <td>3.638512</td>\n",
       "      <td>-656.932604</td>\n",
       "      <td>-517.984536</td>\n",
       "      <td>-1.899126</td>\n",
       "      <td>-137.048942</td>\n",
       "      <td>1000.0</td>\n",
       "      <td>-656.932604</td>\n",
       "      <td>-517.984536</td>\n",
       "      <td>-1.899126</td>\n",
       "      <td>-137.048942</td>\n",
       "      <td>-274.066399</td>\n",
       "      <td>-243.918137</td>\n",
       "      <td>-306.233153</td>\n",
       "      <td>-211.751383</td>\n",
       "    </tr>\n",
       "    <tr>\n",
       "      <th>4</th>\n",
       "      <td>1254</td>\n",
       "      <td>0.090816</td>\n",
       "      <td>67.755102</td>\n",
       "      <td>3.638133</td>\n",
       "      <td>-617.001910</td>\n",
       "      <td>-478.065409</td>\n",
       "      <td>-1.899126</td>\n",
       "      <td>-137.037374</td>\n",
       "      <td>1000.0</td>\n",
       "      <td>-617.001910</td>\n",
       "      <td>-478.065409</td>\n",
       "      <td>-1.899126</td>\n",
       "      <td>-137.037374</td>\n",
       "      <td>-234.150685</td>\n",
       "      <td>-243.914725</td>\n",
       "      <td>-266.319632</td>\n",
       "      <td>-211.745778</td>\n",
       "    </tr>\n",
       "  </tbody>\n",
       "</table>\n",
       "</div>"
      ],
      "text/plain": [
       "      n         F         H0        lC         lls0      P_zDM0      P_n0  \\\n",
       "0  1250  0.010000  67.755102  3.638780          NaN         NaN -1.899126   \n",
       "1  1251  0.030204  67.755102  3.638756 -1060.233287 -921.233641 -1.899126   \n",
       "2  1252  0.050408  67.755102  3.638688  -748.237080 -609.270396 -1.899126   \n",
       "3  1253  0.070612  67.755102  3.638512  -656.932604 -517.984536 -1.899126   \n",
       "4  1254  0.090816  67.755102  3.638133  -617.001910 -478.065409 -1.899126   \n",
       "\n",
       "         P_s0      N0          lls       P_zDM       P_n         P_s  \\\n",
       "0         NaN  1000.0          NaN         NaN -1.899126         NaN   \n",
       "1 -137.100520  1000.0 -1060.233287 -921.233641 -1.899126 -137.100520   \n",
       "2 -137.067558  1000.0  -748.237080 -609.270396 -1.899126 -137.067558   \n",
       "3 -137.048942  1000.0  -656.932604 -517.984536 -1.899126 -137.048942   \n",
       "4 -137.037374  1000.0  -617.001910 -478.065409 -1.899126 -137.037374   \n",
       "\n",
       "        p_zgDM        p_DM       p_DMgz         p_z  \n",
       "0 -2428.536339 -243.864877 -2460.644205 -211.757011  \n",
       "1  -677.361891 -243.871750  -709.478045 -211.755596  \n",
       "2  -365.371886 -243.898510  -397.516358 -211.754038  \n",
       "3  -274.066399 -243.918137  -306.233153 -211.751383  \n",
       "4  -234.150685 -243.914725  -266.319632 -211.745778  "
      ]
     },
     "execution_count": 14,
     "metadata": {},
     "output_type": "execute_result"
    }
   ],
   "source": [
    "df_6.head()"
   ]
  },
  {
   "cell_type": "code",
   "execution_count": 15,
   "id": "494bcf9a-bbe4-45c8-b1bc-34e2122dac9e",
   "metadata": {},
   "outputs": [],
   "source": [
    "idx_677 = np.isclose(df_6.H0, 67.755102)"
   ]
  },
  {
   "cell_type": "code",
   "execution_count": 16,
   "id": "acd86e1b-528d-4462-9eb4-43d79a8167fb",
   "metadata": {},
   "outputs": [],
   "source": [
    "df_677 = df_6[idx_677].copy()"
   ]
  },
  {
   "cell_type": "markdown",
   "id": "3568f064-24f7-4737-8c80-fd0b10274d1e",
   "metadata": {},
   "source": [
    "## Plot"
   ]
  },
  {
   "cell_type": "code",
   "execution_count": 19,
   "id": "bc61ed97-e0b2-4ddc-afc5-665bca2869f1",
   "metadata": {},
   "outputs": [
    {
     "data": {
      "text/plain": [
       "<AxesSubplot:xlabel='F', ylabel='lls'>"
      ]
     },
     "execution_count": 19,
     "metadata": {},
     "output_type": "execute_result"
    },
    {
     "data": {
      "image/png": "[encoded data removed]",
      "text/plain": [
       "<Figure size 432x288 with 1 Axes>"
      ]
     },
     "metadata": {
      "needs_background": "light"
     },
     "output_type": "display_data"
    }
   ],
   "source": [
    "sns.scatterplot(data=df_677, x='F', y='lls', color='g')"
   ]
  },
  {
   "cell_type": "code",
   "execution_count": 20,
   "id": "73c61b97-257e-457e-a2b4-070d91b7dcba",
   "metadata": {},
   "outputs": [
    {
     "data": {
      "text/plain": [
       "-565.461537710296"
      ]
     },
     "execution_count": 20,
     "metadata": {},
     "output_type": "execute_result"
    }
   ],
   "source": [
    "df_677.lls.max()"
   ]
  },
  {
   "cell_type": "markdown",
   "id": "5827e776-2421-4feb-a712-6ff84290ed6a",
   "metadata": {},
   "source": [
    "# Combine"
   ]
  },
  {
   "cell_type": "code",
   "execution_count": 21,
   "id": "f7dbe41d-7c8b-4238-9dbf-774e92b9b507",
   "metadata": {},
   "outputs": [],
   "source": [
    "df_comb = pandas.concat([df_55, df_677])"
   ]
  },
  {
   "cell_type": "code",
   "execution_count": 22,
   "id": "1b838f32-4a7d-4cf6-9a64-b10bc54d92ae",
   "metadata": {},
   "outputs": [
    {
     "data": {
      "text/html": [
       "<div>\n",
       "<style scoped>\n",
       "    .dataframe tbody tr th:only-of-type {\n",
       "        vertical-align: middle;\n",
       "    }\n",
       "\n",
       "    .dataframe tbody tr th {\n",
       "        vertical-align: top;\n",
       "    }\n",
       "\n",
       "    .dataframe thead th {\n",
       "        text-align: right;\n",
       "    }\n",
       "</style>\n",
       "<table border=\"1\" class=\"dataframe\">\n",
       "  <thead>\n",
       "    <tr style=\"text-align: right;\">\n",
       "      <th></th>\n",
       "      <th>n</th>\n",
       "      <th>F</th>\n",
       "      <th>H0</th>\n",
       "      <th>lC</th>\n",
       "      <th>lls0</th>\n",
       "      <th>P_zDM0</th>\n",
       "      <th>P_n0</th>\n",
       "      <th>P_s0</th>\n",
       "      <th>N0</th>\n",
       "      <th>lls</th>\n",
       "      <th>P_zDM</th>\n",
       "      <th>P_n</th>\n",
       "      <th>P_s</th>\n",
       "      <th>p_zgDM</th>\n",
       "      <th>p_DM</th>\n",
       "      <th>p_DMgz</th>\n",
       "      <th>p_z</th>\n",
       "    </tr>\n",
       "  </thead>\n",
       "  <tbody>\n",
       "    <tr>\n",
       "      <th>0</th>\n",
       "      <td>0</td>\n",
       "      <td>0.010000</td>\n",
       "      <td>55.000000</td>\n",
       "      <td>3.634974</td>\n",
       "      <td>NaN</td>\n",
       "      <td>NaN</td>\n",
       "      <td>-1.899126</td>\n",
       "      <td>NaN</td>\n",
       "      <td>1000.0</td>\n",
       "      <td>NaN</td>\n",
       "      <td>NaN</td>\n",
       "      <td>-1.899126</td>\n",
       "      <td>NaN</td>\n",
       "      <td>-3266.934553</td>\n",
       "      <td>-243.847383</td>\n",
       "      <td>-3295.945744</td>\n",
       "      <td>-214.836192</td>\n",
       "    </tr>\n",
       "    <tr>\n",
       "      <th>1</th>\n",
       "      <td>1</td>\n",
       "      <td>0.030204</td>\n",
       "      <td>55.000000</td>\n",
       "      <td>3.634934</td>\n",
       "      <td>NaN</td>\n",
       "      <td>NaN</td>\n",
       "      <td>-1.899126</td>\n",
       "      <td>NaN</td>\n",
       "      <td>1000.0</td>\n",
       "      <td>NaN</td>\n",
       "      <td>NaN</td>\n",
       "      <td>-1.899126</td>\n",
       "      <td>NaN</td>\n",
       "      <td>-3471.574552</td>\n",
       "      <td>-243.865464</td>\n",
       "      <td>-3500.608486</td>\n",
       "      <td>-214.831531</td>\n",
       "    </tr>\n",
       "    <tr>\n",
       "      <th>2</th>\n",
       "      <td>2</td>\n",
       "      <td>0.050408</td>\n",
       "      <td>55.000000</td>\n",
       "      <td>3.634838</td>\n",
       "      <td>-1904.922952</td>\n",
       "      <td>-1766.584676</td>\n",
       "      <td>-1.899126</td>\n",
       "      <td>-136.439149</td>\n",
       "      <td>1000.0</td>\n",
       "      <td>-1904.922952</td>\n",
       "      <td>-1766.584676</td>\n",
       "      <td>-1.899126</td>\n",
       "      <td>-136.439149</td>\n",
       "      <td>-1522.701662</td>\n",
       "      <td>-243.883014</td>\n",
       "      <td>-1551.763337</td>\n",
       "      <td>-214.821339</td>\n",
       "    </tr>\n",
       "    <tr>\n",
       "      <th>3</th>\n",
       "      <td>3</td>\n",
       "      <td>0.070612</td>\n",
       "      <td>55.000000</td>\n",
       "      <td>3.634568</td>\n",
       "      <td>-1249.128201</td>\n",
       "      <td>-1110.810937</td>\n",
       "      <td>-1.899126</td>\n",
       "      <td>-136.418137</td>\n",
       "      <td>1000.0</td>\n",
       "      <td>-1249.128201</td>\n",
       "      <td>-1110.810937</td>\n",
       "      <td>-1.899126</td>\n",
       "      <td>-136.418137</td>\n",
       "      <td>-866.930740</td>\n",
       "      <td>-243.880197</td>\n",
       "      <td>-896.005319</td>\n",
       "      <td>-214.805619</td>\n",
       "    </tr>\n",
       "    <tr>\n",
       "      <th>4</th>\n",
       "      <td>4</td>\n",
       "      <td>0.090816</td>\n",
       "      <td>55.000000</td>\n",
       "      <td>3.634009</td>\n",
       "      <td>-974.171611</td>\n",
       "      <td>-835.879314</td>\n",
       "      <td>-1.899126</td>\n",
       "      <td>-136.393171</td>\n",
       "      <td>1000.0</td>\n",
       "      <td>-974.171611</td>\n",
       "      <td>-835.879314</td>\n",
       "      <td>-1.899126</td>\n",
       "      <td>-136.393171</td>\n",
       "      <td>-592.021520</td>\n",
       "      <td>-243.857794</td>\n",
       "      <td>-621.100120</td>\n",
       "      <td>-214.779195</td>\n",
       "    </tr>\n",
       "    <tr>\n",
       "      <th>...</th>\n",
       "      <td>...</td>\n",
       "      <td>...</td>\n",
       "      <td>...</td>\n",
       "      <td>...</td>\n",
       "      <td>...</td>\n",
       "      <td>...</td>\n",
       "      <td>...</td>\n",
       "      <td>...</td>\n",
       "      <td>...</td>\n",
       "      <td>...</td>\n",
       "      <td>...</td>\n",
       "      <td>...</td>\n",
       "      <td>...</td>\n",
       "      <td>...</td>\n",
       "      <td>...</td>\n",
       "      <td>...</td>\n",
       "      <td>...</td>\n",
       "    </tr>\n",
       "    <tr>\n",
       "      <th>45</th>\n",
       "      <td>1295</td>\n",
       "      <td>0.919184</td>\n",
       "      <td>67.755102</td>\n",
       "      <td>3.622326</td>\n",
       "      <td>-571.006866</td>\n",
       "      <td>-432.099504</td>\n",
       "      <td>-1.899126</td>\n",
       "      <td>-137.008235</td>\n",
       "      <td>1000.0</td>\n",
       "      <td>-571.006866</td>\n",
       "      <td>-432.099504</td>\n",
       "      <td>-1.899126</td>\n",
       "      <td>-137.008235</td>\n",
       "      <td>-188.146426</td>\n",
       "      <td>-243.953078</td>\n",
       "      <td>-220.613589</td>\n",
       "      <td>-211.485915</td>\n",
       "    </tr>\n",
       "    <tr>\n",
       "      <th>46</th>\n",
       "      <td>1296</td>\n",
       "      <td>0.939388</td>\n",
       "      <td>67.755102</td>\n",
       "      <td>3.622201</td>\n",
       "      <td>-571.125649</td>\n",
       "      <td>-432.218285</td>\n",
       "      <td>-1.899126</td>\n",
       "      <td>-137.008237</td>\n",
       "      <td>1000.0</td>\n",
       "      <td>-571.125649</td>\n",
       "      <td>-432.218285</td>\n",
       "      <td>-1.899126</td>\n",
       "      <td>-137.008237</td>\n",
       "      <td>-188.260453</td>\n",
       "      <td>-243.957832</td>\n",
       "      <td>-220.733398</td>\n",
       "      <td>-211.484887</td>\n",
       "    </tr>\n",
       "    <tr>\n",
       "      <th>47</th>\n",
       "      <td>1297</td>\n",
       "      <td>0.959592</td>\n",
       "      <td>67.755102</td>\n",
       "      <td>3.622079</td>\n",
       "      <td>-571.240417</td>\n",
       "      <td>-432.333052</td>\n",
       "      <td>-1.899126</td>\n",
       "      <td>-137.008239</td>\n",
       "      <td>1000.0</td>\n",
       "      <td>-571.240417</td>\n",
       "      <td>-432.333052</td>\n",
       "      <td>-1.899126</td>\n",
       "      <td>-137.008239</td>\n",
       "      <td>-188.370561</td>\n",
       "      <td>-243.962490</td>\n",
       "      <td>-220.849135</td>\n",
       "      <td>-211.483917</td>\n",
       "    </tr>\n",
       "    <tr>\n",
       "      <th>48</th>\n",
       "      <td>1298</td>\n",
       "      <td>0.979796</td>\n",
       "      <td>67.755102</td>\n",
       "      <td>3.621962</td>\n",
       "      <td>-571.351341</td>\n",
       "      <td>-432.443973</td>\n",
       "      <td>-1.899126</td>\n",
       "      <td>-137.008242</td>\n",
       "      <td>1000.0</td>\n",
       "      <td>-571.351341</td>\n",
       "      <td>-432.443973</td>\n",
       "      <td>-1.899126</td>\n",
       "      <td>-137.008242</td>\n",
       "      <td>-188.476918</td>\n",
       "      <td>-243.967055</td>\n",
       "      <td>-220.960972</td>\n",
       "      <td>-211.483001</td>\n",
       "    </tr>\n",
       "    <tr>\n",
       "      <th>49</th>\n",
       "      <td>1299</td>\n",
       "      <td>1.000000</td>\n",
       "      <td>67.755102</td>\n",
       "      <td>3.621848</td>\n",
       "      <td>-571.458582</td>\n",
       "      <td>-432.551211</td>\n",
       "      <td>-1.899126</td>\n",
       "      <td>-137.008244</td>\n",
       "      <td>1000.0</td>\n",
       "      <td>-571.458582</td>\n",
       "      <td>-432.551211</td>\n",
       "      <td>-1.899126</td>\n",
       "      <td>-137.008244</td>\n",
       "      <td>-188.579683</td>\n",
       "      <td>-243.971529</td>\n",
       "      <td>-221.069076</td>\n",
       "      <td>-211.482135</td>\n",
       "    </tr>\n",
       "  </tbody>\n",
       "</table>\n",
       "<p>100 rows × 17 columns</p>\n",
       "</div>"
      ],
      "text/plain": [
       "       n         F         H0        lC         lls0       P_zDM0      P_n0  \\\n",
       "0      0  0.010000  55.000000  3.634974          NaN          NaN -1.899126   \n",
       "1      1  0.030204  55.000000  3.634934          NaN          NaN -1.899126   \n",
       "2      2  0.050408  55.000000  3.634838 -1904.922952 -1766.584676 -1.899126   \n",
       "3      3  0.070612  55.000000  3.634568 -1249.128201 -1110.810937 -1.899126   \n",
       "4      4  0.090816  55.000000  3.634009  -974.171611  -835.879314 -1.899126   \n",
       "..   ...       ...        ...       ...          ...          ...       ...   \n",
       "45  1295  0.919184  67.755102  3.622326  -571.006866  -432.099504 -1.899126   \n",
       "46  1296  0.939388  67.755102  3.622201  -571.125649  -432.218285 -1.899126   \n",
       "47  1297  0.959592  67.755102  3.622079  -571.240417  -432.333052 -1.899126   \n",
       "48  1298  0.979796  67.755102  3.621962  -571.351341  -432.443973 -1.899126   \n",
       "49  1299  1.000000  67.755102  3.621848  -571.458582  -432.551211 -1.899126   \n",
       "\n",
       "          P_s0      N0          lls        P_zDM       P_n         P_s  \\\n",
       "0          NaN  1000.0          NaN          NaN -1.899126         NaN   \n",
       "1          NaN  1000.0          NaN          NaN -1.899126         NaN   \n",
       "2  -136.439149  1000.0 -1904.922952 -1766.584676 -1.899126 -136.439149   \n",
       "3  -136.418137  1000.0 -1249.128201 -1110.810937 -1.899126 -136.418137   \n",
       "4  -136.393171  1000.0  -974.171611  -835.879314 -1.899126 -136.393171   \n",
       "..         ...     ...          ...          ...       ...         ...   \n",
       "45 -137.008235  1000.0  -571.006866  -432.099504 -1.899126 -137.008235   \n",
       "46 -137.008237  1000.0  -571.125649  -432.218285 -1.899126 -137.008237   \n",
       "47 -137.008239  1000.0  -571.240417  -432.333052 -1.899126 -137.008239   \n",
       "48 -137.008242  1000.0  -571.351341  -432.443973 -1.899126 -137.008242   \n",
       "49 -137.008244  1000.0  -571.458582  -432.551211 -1.899126 -137.008244   \n",
       "\n",
       "         p_zgDM        p_DM       p_DMgz         p_z  \n",
       "0  -3266.934553 -243.847383 -3295.945744 -214.836192  \n",
       "1  -3471.574552 -243.865464 -3500.608486 -214.831531  \n",
       "2  -1522.701662 -243.883014 -1551.763337 -214.821339  \n",
       "3   -866.930740 -243.880197  -896.005319 -214.805619  \n",
       "4   -592.021520 -243.857794  -621.100120 -214.779195  \n",
       "..          ...         ...          ...         ...  \n",
       "45  -188.146426 -243.953078  -220.613589 -211.485915  \n",
       "46  -188.260453 -243.957832  -220.733398 -211.484887  \n",
       "47  -188.370561 -243.962490  -220.849135 -211.483917  \n",
       "48  -188.476918 -243.967055  -220.960972 -211.483001  \n",
       "49  -188.579683 -243.971529  -221.069076 -211.482135  \n",
       "\n",
       "[100 rows x 17 columns]"
      ]
     },
     "execution_count": 22,
     "metadata": {},
     "output_type": "execute_result"
    }
   ],
   "source": [
    "df_comb"
   ]
  },
  {
   "cell_type": "markdown",
   "id": "d719515b-7638-4207-838c-5fd2b6604af4",
   "metadata": {},
   "source": [
    "## Plot"
   ]
  },
  {
   "cell_type": "code",
   "execution_count": 29,
   "id": "393b4c6e-9c8e-4fbb-9b1a-3302d08420cb",
   "metadata": {},
   "outputs": [
    {
     "data": {
      "text/plain": [
       "[<matplotlib.lines.Line2D at 0x7fc1c1e813a0>]"
      ]
     },
     "execution_count": 29,
     "metadata": {},
     "output_type": "execute_result"
    },
    {
     "data": {
      "image/png": "[encoded data removed]",
      "text/plain": [
       "<Figure size 432x288 with 1 Axes>"
      ]
     },
     "metadata": {
      "needs_background": "light"
     },
     "output_type": "display_data"
    }
   ],
   "source": [
    "ax = sns.scatterplot(data=df_comb, x='F', y='lls', hue='H0')\n",
    "\n",
    "xlim = [0.1, 1.]\n",
    "ax.set_xlim(xlim)\n",
    "ax.set_ylim(-600., -550.)\n",
    "\n",
    "# Max line\n",
    "max_LL =  df_comb.lls.max()\n",
    "ax.plot(xlim, [max_LL]*2, 'g--')"
   ]
  },
  {
   "cell_type": "markdown",
   "id": "b5df69af-6901-40c2-beba-0212182bdd16",
   "metadata": {},
   "source": [
    "# I am suspecting a slurp bug.."
   ]
  },
  {
   "cell_type": "markdown",
   "id": "f5438dc7-61d6-4a67-9aaa-3248fbdc4a5b",
   "metadata": {},
   "source": [
    "# I slurped, now am examining the slurped file"
   ]
  },
  {
   "cell_type": "markdown",
   "id": "8ef3b730-fea3-40aa-9b7d-34814e9c2024",
   "metadata": {},
   "source": [
    "## Load"
   ]
  },
  {
   "cell_type": "code",
   "execution_count": 31,
   "id": "654b497a-e590-4762-a0d2-4ce1c84306dc",
   "metadata": {},
   "outputs": [
    {
     "data": {
      "text/plain": [
       "['ll',\n",
       " 'lC',\n",
       " 'params',\n",
       " 'pzDM',\n",
       " 'pDM',\n",
       " 'pDMz',\n",
       " 'pz',\n",
       " 'F',\n",
       " 'H0',\n",
       " 'lls0',\n",
       " 'P_zDM0',\n",
       " 'P_n0',\n",
       " 'P_s0',\n",
       " 'N0']"
      ]
     },
     "execution_count": 31,
     "metadata": {},
     "output_type": "execute_result"
    }
   ],
   "source": [
    "cube = np.load('Cubes/craco_H0_F_cube.npz')\n",
    "list(cube.keys())"
   ]
  },
  {
   "cell_type": "code",
   "execution_count": 32,
   "id": "5a1f38c3-2276-4db4-8b85-b562c218f260",
   "metadata": {},
   "outputs": [
    {
     "data": {
      "text/plain": [
       "(50, 50)"
      ]
     },
     "execution_count": 32,
     "metadata": {},
     "output_type": "execute_result"
    }
   ],
   "source": [
    "LL = cube['ll']\n",
    "LL.shape"
   ]
  },
  {
   "cell_type": "code",
   "execution_count": 41,
   "id": "ffb3969c-843c-4186-8e8b-71132b959441",
   "metadata": {},
   "outputs": [
    {
     "data": {
      "text/plain": [
       "-567.777"
      ]
     },
     "execution_count": 41,
     "metadata": {},
     "output_type": "execute_result"
    }
   ],
   "source": [
    "np.nanmax(LL[:,0])"
   ]
  },
  {
   "cell_type": "markdown",
   "id": "77e3c617-d266-4a7f-940f-170549619732",
   "metadata": {},
   "source": [
    "## Parse"
   ]
  },
  {
   "cell_type": "code",
   "execution_count": 53,
   "id": "b7267261-fb2f-4686-9521-559730c3b3ed",
   "metadata": {},
   "outputs": [],
   "source": [
    "F = cube['F']\n",
    "H0 = cube['H0']\n",
    "#\n",
    "dF = F[1]-F[0]\n",
    "dH = H0[1] - H0[0]"
   ]
  },
  {
   "cell_type": "markdown",
   "id": "59934a22-f603-4c5a-b5b1-86b4cf7b0ac8",
   "metadata": {},
   "source": [
    "## Plot"
   ]
  },
  {
   "cell_type": "code",
   "execution_count": 37,
   "id": "adf1fdda-aa1c-4ee2-850d-82f36e5835c3",
   "metadata": {},
   "outputs": [
    {
     "data": {
      "image/png": "[encoded data removed]",
      "text/plain": [
       "<Figure size 432x288 with 1 Axes>"
      ]
     },
     "metadata": {
      "needs_background": "light"
     },
     "output_type": "display_data"
    }
   ],
   "source": [
    "plt.clf()\n",
    "ax = plt.gca()\n",
    "ax.plot(LL[:,0])\n",
    "plt.show()"
   ]
  },
  {
   "cell_type": "markdown",
   "id": "9b85c517-7fcc-408c-bc68-8f85639b5201",
   "metadata": {},
   "source": [
    "## Show it all"
   ]
  },
  {
   "cell_type": "code",
   "execution_count": 54,
   "id": "24b700b6-1433-4a73-bde8-b5f9f9b5fd9c",
   "metadata": {},
   "outputs": [],
   "source": [
    "nans = np.isnan(LL)\n",
    "LL_clean = LL.copy()\n",
    "LL_clean[nans] = -9e9\n",
    "#\n",
    "LL_clean -= LL_clean.max()"
   ]
  },
  {
   "cell_type": "code",
   "execution_count": 59,
   "id": "493e0416-168e-438a-9d29-40b095dbccbf",
   "metadata": {},
   "outputs": [
    {
     "data": {
      "text/plain": [
       "Text(0, 0.5, 'H0 (km/s/Mpc)')"
      ]
     },
     "execution_count": 59,
     "metadata": {},
     "output_type": "execute_result"
    },
    {
     "data": {
      "image/png": "[encoded data removed]",
      "text/plain": [
       "<Figure size 432x288 with 2 Axes>"
      ]
     },
     "metadata": {
      "needs_background": "light"
     },
     "output_type": "display_data"
    }
   ],
   "source": [
    "plt.clf()\n",
    "ax=plt.gca()\n",
    "#\n",
    "im = plt.imshow(LL_clean.T, origin='lower', vmin=-4., vmax=0., cmap='jet',\n",
    "          extent=[F.min()-dF/2, F.max()+dF/2, 55.-dH/2, 80+dH/2], aspect='auto')\n",
    "# Color bar\n",
    "cbar=plt.colorbar(im,fraction=0.046, shrink=1.2,aspect=15,pad=0.05)\n",
    "cbar.set_label(r'$\\Delta$ Log10 Likelihood')\n",
    "#\n",
    "ax.set_xlabel('F')\n",
    "ax.set_ylabel('H0 (km/s/Mpc)')"
   ]
  },
  {
   "cell_type": "code",
   "execution_count": null,
   "id": "1e57d2a5-f711-4e40-bcf0-4de0576ec60a",
   "metadata": {},
   "outputs": [],
   "source": []
  }
 ],
 "metadata": {
  "kernelspec": {
   "display_name": "Python 3.8.5 ('base')",
   "language": "python",
   "name": "python3"
  },
  "language_info": {
   "codemirror_mode": {
    "name": "ipython",
    "version": 3
   },
   "file_extension": ".py",
   "mimetype": "text/x-python",
   "name": "python",
   "nbconvert_exporter": "python",
   "pygments_lexer": "ipython3",
   "version": "3.8.5"
  },
  "vscode": {
   "interpreter": {
    "hash": "9731a3b7ebb41545a410367c249afbc4842fd5740da82f1bd29e6ac1d7253e6e"
   }
  }
 },
 "nbformat": 4,
 "nbformat_minor": 5
}
