{
 "cells": [
  {
   "cell_type": "markdown",
   "id": "8e9d01fb-000b-4558-80e8-27688eafa19e",
   "metadata": {},
   "source": [
    "# Quick check"
   ]
  },
  {
   "cell_type": "code",
   "execution_count": 1,
   "id": "7a372b56-1bb5-40be-bdf8-4129f926399e",
   "metadata": {},
   "outputs": [],
   "source": [
    "# imports\n",
    "import numpy as np\n",
    "import pandas\n",
    "\n",
    "import seaborn as sns\n",
    "\n",
    "from matplotlib import pyplot as plt"
   ]
  },
  {
   "cell_type": "markdown",
   "id": "8ef3b730-fea3-40aa-9b7d-34814e9c2024",
   "metadata": {},
   "source": [
    "## Load"
   ]
  },
  {
   "cell_type": "code",
   "execution_count": 2,
   "id": "654b497a-e590-4762-a0d2-4ce1c84306dc",
   "metadata": {},
   "outputs": [
    {
     "data": {
      "text/plain": [
       "['ll',\n",
       " 'lC',\n",
       " 'params',\n",
       " 'pzDM',\n",
       " 'pDM',\n",
       " 'pDMz',\n",
       " 'pz',\n",
       " 'F',\n",
       " 'lmean',\n",
       " 'lls0',\n",
       " 'P_zDM0',\n",
       " 'P_n0',\n",
       " 'P_s0',\n",
       " 'N0']"
      ]
     },
     "execution_count": 2,
     "metadata": {},
     "output_type": "execute_result"
    }
   ],
   "source": [
    "cube = np.load('Cubes/craco_lm_F_cube.npz')\n",
    "list(cube.keys())"
   ]
  },
  {
   "cell_type": "code",
   "execution_count": 3,
   "id": "5a1f38c3-2276-4db4-8b85-b562c218f260",
   "metadata": {},
   "outputs": [
    {
     "data": {
      "text/plain": [
       "(50, 50)"
      ]
     },
     "execution_count": 3,
     "metadata": {},
     "output_type": "execute_result"
    }
   ],
   "source": [
    "LL = cube['ll']\n",
    "LL.shape"
   ]
  },
  {
   "cell_type": "code",
   "execution_count": 4,
   "id": "ffb3969c-843c-4186-8e8b-71132b959441",
   "metadata": {},
   "outputs": [
    {
     "data": {
      "text/plain": [
       "-573.6371"
      ]
     },
     "execution_count": 4,
     "metadata": {},
     "output_type": "execute_result"
    }
   ],
   "source": [
    "np.nanmax(LL[:,0])"
   ]
  },
  {
   "cell_type": "markdown",
   "id": "77e3c617-d266-4a7f-940f-170549619732",
   "metadata": {},
   "source": [
    "## Parse"
   ]
  },
  {
   "cell_type": "code",
   "execution_count": 5,
   "id": "b7267261-fb2f-4686-9521-559730c3b3ed",
   "metadata": {},
   "outputs": [],
   "source": [
    "F = cube['F']\n",
    "lm = cube['lmean']\n",
    "#\n",
    "dF = F[1]-F[0]\n",
    "dlm = lm[1] - lm[0]"
   ]
  },
  {
   "cell_type": "markdown",
   "id": "59934a22-f603-4c5a-b5b1-86b4cf7b0ac8",
   "metadata": {},
   "source": [
    "## Plot"
   ]
  },
  {
   "cell_type": "code",
   "execution_count": 6,
   "id": "adf1fdda-aa1c-4ee2-850d-82f36e5835c3",
   "metadata": {},
   "outputs": [
    {
     "data": {
      "image/png": "[encoded data removed]",
      "text/plain": [
       "<Figure size 432x288 with 1 Axes>"
      ]
     },
     "metadata": {
      "needs_background": "light"
     },
     "output_type": "display_data"
    }
   ],
   "source": [
    "plt.clf()\n",
    "ax = plt.gca()\n",
    "ax.plot(LL[:,0])\n",
    "plt.show()"
   ]
  },
  {
   "cell_type": "markdown",
   "id": "9b85c517-7fcc-408c-bc68-8f85639b5201",
   "metadata": {},
   "source": [
    "## Show it all"
   ]
  },
  {
   "cell_type": "code",
   "execution_count": 7,
   "id": "24b700b6-1433-4a73-bde8-b5f9f9b5fd9c",
   "metadata": {},
   "outputs": [],
   "source": [
    "nans = np.isnan(LL)\n",
    "LL_clean = LL.copy()\n",
    "LL_clean[nans] = -9e9\n",
    "#\n",
    "LL_clean -= LL_clean.max()"
   ]
  },
  {
   "cell_type": "code",
   "execution_count": 8,
   "id": "493e0416-168e-438a-9d29-40b095dbccbf",
   "metadata": {},
   "outputs": [
    {
     "data": {
      "text/plain": [
       "Text(0, 0.5, 'lmean')"
      ]
     },
     "execution_count": 8,
     "metadata": {},
     "output_type": "execute_result"
    },
    {
     "data": {
      "image/png": "[encoded data removed]",
      "text/plain": [
       "<Figure size 432x288 with 2 Axes>"
      ]
     },
     "metadata": {
      "needs_background": "light"
     },
     "output_type": "display_data"
    }
   ],
   "source": [
    "plt.clf()\n",
    "ax=plt.gca()\n",
    "#\n",
    "im = plt.imshow(LL_clean.T, origin='lower', vmin=-4., vmax=0., cmap='jet',\n",
    "          extent=[F.min()-dF/2, F.max()+dF/2, 1.7-dlm/2, 2.5+dlm/2], aspect='auto')\n",
    "# Color bar\n",
    "cbar=plt.colorbar(im,fraction=0.046, shrink=1.2,aspect=15,pad=0.05)\n",
    "cbar.set_label(r'$\\Delta$ Log10 Likelihood')\n",
    "#\n",
    "ax.set_xlabel('F')\n",
    "ax.set_ylabel('lmean')"
   ]
  },
  {
   "cell_type": "code",
   "execution_count": null,
   "id": "1e57d2a5-f711-4e40-bcf0-4de0576ec60a",
   "metadata": {},
   "outputs": [],
   "source": []
  }
 ],
 "metadata": {
  "kernelspec": {
   "display_name": "Python 3.8.5 ('base')",
   "language": "python",
   "name": "python3"
  },
  "language_info": {
   "codemirror_mode": {
    "name": "ipython",
    "version": 3
   },
   "file_extension": ".py",
   "mimetype": "text/x-python",
   "name": "python",
   "nbconvert_exporter": "python",
   "pygments_lexer": "ipython3",
   "version": "3.8.5"
  },
  "vscode": {
   "interpreter": {
    "hash": "9731a3b7ebb41545a410367c249afbc4842fd5740da82f1bd29e6ac1d7253e6e"
   }
  }
 },
 "nbformat": 4,
 "nbformat_minor": 5
}
