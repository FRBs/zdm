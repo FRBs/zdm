{
 "cells": [
  {
   "cell_type": "code",
   "execution_count": 1,
   "metadata": {},
   "outputs": [],
   "source": [
    "import numpy as np\n",
    "import zdm.analyze_cube as ac"
   ]
  },
  {
   "cell_type": "code",
   "execution_count": 2,
   "metadata": {},
   "outputs": [],
   "source": [
    "cube_dir  = \"../CRACO/Cubes/craco_full_cube.npz\"\n",
    "cube=np.load(cube_dir)"
   ]
  },
  {
   "cell_type": "code",
   "execution_count": 6,
   "metadata": {},
   "outputs": [],
   "source": [
    "lls = ac.get_slice_from_parameters(cube, [\"H0\", \"lmean\", \"lsigma\"], [70, 2.16, .51], wanted=\"ll\")\n",
    "global_max = np.nanmax(lls)\n",
    "lls -= global_max\n"
   ]
  },
  {
   "cell_type": "code",
   "execution_count": 9,
   "metadata": {},
   "outputs": [],
   "source": [
    "NDIMS = len(lls.shape)\n",
    "big_slice = [slice(None, None, None)] * NDIMS"
   ]
  },
  {
   "cell_type": "code",
   "execution_count": 10,
   "metadata": {},
   "outputs": [],
   "source": [
    "test_lls = lls[tuple(big_slice)].flatten()"
   ]
  },
  {
   "cell_type": "code",
   "execution_count": 11,
   "metadata": {},
   "outputs": [
    {
     "data": {
      "text/plain": [
       "array([-7.4237268e+02, -5.7061609e+02, -4.3890594e+02, -3.3762085e+02,\n",
       "       -2.5949152e+02, -1.9904089e+02, -1.5214069e+02, -1.1566675e+02,\n",
       "       -8.7230286e+01, -6.4988464e+01, -4.7544739e+01, -3.3898193e+01,\n",
       "       -2.3339355e+01, -1.5324219e+01, -9.4163818e+00, -5.2522583e+00,\n",
       "       -2.5090942e+00, -8.9019775e-01, -1.2945557e-01,  0.0000000e+00,\n",
       "       -3.1677246e-01, -9.3414307e-01, -1.7406006e+00, -2.6526489e+00,\n",
       "       -3.6091919e+00, -4.5662231e+00, -5.4932251e+00, -6.3695679e+00,\n",
       "       -7.1822510e+00, -7.9241333e+00], dtype=float32)"
      ]
     },
     "execution_count": 11,
     "metadata": {},
     "output_type": "execute_result"
    }
   ],
   "source": [
    "test_lls"
   ]
  },
  {
   "cell_type": "code",
   "execution_count": 31,
   "metadata": {},
   "outputs": [],
   "source": [
    "ignore = np.where(test_lls == 0.0)[0]\n",
    "test_lls[ignore] = -99999"
   ]
  },
  {
   "cell_type": "code",
   "execution_count": 35,
   "metadata": {},
   "outputs": [
    {
     "data": {
      "text/plain": [
       "array([-7.4237268e+02, -5.7061609e+02, -4.3890594e+02, -3.3762085e+02,\n",
       "       -2.5949152e+02, -1.9904089e+02, -1.5214069e+02, -1.1566675e+02,\n",
       "       -8.7230286e+01, -6.4988464e+01, -4.7544739e+01, -3.3898193e+01,\n",
       "       -2.3339355e+01, -1.5324219e+01, -9.4163818e+00, -5.2522583e+00,\n",
       "       -2.5090942e+00, -8.9019775e-01, -1.2945557e-01, -9.9999000e+04,\n",
       "       -3.1677246e-01, -9.3414307e-01, -1.7406006e+00, -2.6526489e+00,\n",
       "       -3.6091919e+00, -4.5662231e+00, -5.4932251e+00, -6.3695679e+00,\n",
       "       -7.1822510e+00, -7.9241333e+00], dtype=float32)"
      ]
     },
     "execution_count": 35,
     "metadata": {},
     "output_type": "execute_result"
    }
   ],
   "source": [
    "lls"
   ]
  },
  {
   "cell_type": "code",
   "execution_count": 34,
   "metadata": {},
   "outputs": [
    {
     "data": {
      "text/plain": [
       "array([ True,  True,  True,  True,  True,  True,  True,  True,  True,\n",
       "        True,  True,  True,  True,  True,  True,  True,  True,  True,\n",
       "        True,  True,  True,  True,  True,  True,  True,  True,  True,\n",
       "        True,  True,  True])"
      ]
     },
     "execution_count": 34,
     "metadata": {},
     "output_type": "execute_result"
    }
   ],
   "source": [
    "test_lls == lls"
   ]
  },
  {
   "cell_type": "code",
   "execution_count": 30,
   "metadata": {},
   "outputs": [],
   "source": [
    "themax = np.nanmax(lls)"
   ]
  },
  {
   "cell_type": "code",
   "execution_count": null,
   "metadata": {},
   "outputs": [],
   "source": [
    "OKlls = np.isfinite(lls) & (lls > themax - 3)"
   ]
  }
 ],
 "metadata": {
  "kernelspec": {
   "display_name": "base",
   "language": "python",
   "name": "python3"
  },
  "language_info": {
   "codemirror_mode": {
    "name": "ipython",
    "version": 3
   },
   "file_extension": ".py",
   "mimetype": "text/x-python",
   "name": "python",
   "nbconvert_exporter": "python",
   "pygments_lexer": "ipython3",
   "version": "3.8.5"
  },
  "orig_nbformat": 4,
  "vscode": {
   "interpreter": {
    "hash": "9731a3b7ebb41545a410367c249afbc4842fd5740da82f1bd29e6ac1d7253e6e"
   }
  }
 },
 "nbformat": 4,
 "nbformat_minor": 2
}
