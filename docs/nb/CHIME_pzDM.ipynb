{
 "cells": [
  {
   "cell_type": "markdown",
   "id": "73468a65-088e-484f-904f-5340ac63b911",
   "metadata": {},
   "source": [
    "# CHIME $p(z,DM_{\\rm EG})$"
   ]
  },
  {
   "cell_type": "code",
   "execution_count": 1,
   "id": "971524d6-aab9-457c-b62c-7b499dd5a2e6",
   "metadata": {
    "tags": []
   },
   "outputs": [
    {
     "name": "stderr",
     "output_type": "stream",
     "text": [
      "/home/xavier/Projects/FRB_Stuff/FRB/frb/halos/hmf.py:51: UserWarning: hmf_emulator not imported.  Hope you are not intending to use the hmf.py module..\n",
      "  warnings.warn(\"hmf_emulator not imported.  Hope you are not intending to use the hmf.py module..\")\n"
     ]
    }
   ],
   "source": [
    "# imports\n",
    "from zdm.chime import grids"
   ]
  },
  {
   "cell_type": "markdown",
   "id": "ff1a7d56-ceab-4d96-83e0-8e4e4333d940",
   "metadata": {},
   "source": [
    "# Run it"
   ]
  },
  {
   "cell_type": "code",
   "execution_count": 2,
   "id": "c012335e-be8e-471f-b189-5afd10e0c4e4",
   "metadata": {
    "tags": []
   },
   "outputs": [
    {
     "name": "stdout",
     "output_type": "stream",
     "text": [
      "Searching for survey in directory  /home/xavier/Projects/FRB_Stuff/zdm/zdm/data/Surveys/CHIME/\n",
      "Loading survey: CHIME_decbin_0_of_6\n",
      "Loading survey: CHIME_decbin_0_of_6 from CHIME_decbin_0_of_6.ecsv\n",
      "Loaded FRB info\n",
      "FRB survey sucessfully initialised with  4  FRBs starting from 0\n",
      "Initializing igamma_spline for gamma=-1.01\n",
      "Initialised grid\n",
      "Loaded dec bin  0\n"
     ]
    },
    {
     "ename": "TypeError",
     "evalue": "repeat_Grid.__init__() got an unexpected keyword argument 'Tfield'",
     "output_type": "error",
     "traceback": [
      "\u001b[0;31m---------------------------------------------------------------------------\u001b[0m",
      "\u001b[0;31mTypeError\u001b[0m                                 Traceback (most recent call last)",
      "Cell \u001b[0;32mIn[2], line 1\u001b[0m\n\u001b[0;32m----> 1\u001b[0m dmvals, zvals, all_rates, all_singles, all_reps \u001b[38;5;241m=\u001b[39m \u001b[43mgrids\u001b[49m\u001b[38;5;241;43m.\u001b[39;49m\u001b[43mload\u001b[49m\u001b[43m(\u001b[49m\u001b[43m)\u001b[49m\n",
      "File \u001b[0;32m~/Projects/FRB_Stuff/zdm/zdm/chime/grids.py:79\u001b[0m, in \u001b[0;36mload\u001b[0;34m(Nbin, make_plots)\u001b[0m\n\u001b[1;32m     72\u001b[0m \u001b[38;5;28mprint\u001b[39m(\u001b[38;5;124m\"\u001b[39m\u001b[38;5;124mLoaded dec bin \u001b[39m\u001b[38;5;124m\"\u001b[39m,ibin)\n\u001b[1;32m     74\u001b[0m \u001b[38;5;66;03m# The below is specific to CHIME data. For CRAFT and other\u001b[39;00m\n\u001b[1;32m     75\u001b[0m \u001b[38;5;66;03m# FRB surveys, do not use \"bmethod=2\", and you will have to\u001b[39;00m\n\u001b[1;32m     76\u001b[0m \u001b[38;5;66;03m# enter the time per field and Nfields manually.\u001b[39;00m\n\u001b[1;32m     77\u001b[0m \u001b[38;5;66;03m# Also, for other surveys, you do not need to iterate over\u001b[39;00m\n\u001b[1;32m     78\u001b[0m \u001b[38;5;66;03m# declination bins!\u001b[39;00m\n\u001b[0;32m---> 79\u001b[0m rg \u001b[38;5;241m=\u001b[39m \u001b[43mrep\u001b[49m\u001b[38;5;241;43m.\u001b[39;49m\u001b[43mrepeat_Grid\u001b[49m\u001b[43m(\u001b[49m\u001b[43mg\u001b[49m\u001b[43m,\u001b[49m\u001b[43mTfield\u001b[49m\u001b[38;5;241;43m=\u001b[39;49m\u001b[43ms\u001b[49m\u001b[38;5;241;43m.\u001b[39;49m\u001b[43mTOBS\u001b[49m\u001b[43m,\u001b[49m\u001b[43mNfields\u001b[49m\u001b[38;5;241;43m=\u001b[39;49m\u001b[38;5;241;43m1\u001b[39;49m\u001b[43m,\u001b[49m\u001b[43mMC\u001b[49m\u001b[38;5;241;43m=\u001b[39;49m\u001b[38;5;28;43;01mFalse\u001b[39;49;00m\u001b[43m,\u001b[49m\u001b[43mopdir\u001b[49m\u001b[38;5;241;43m=\u001b[39;49m\u001b[38;5;28;43;01mNone\u001b[39;49;00m\u001b[43m,\u001b[49m\u001b[43mbmethod\u001b[49m\u001b[38;5;241;43m=\u001b[39;49m\u001b[38;5;241;43m2\u001b[39;49m\u001b[43m)\u001b[49m\n\u001b[1;32m     80\u001b[0m \u001b[38;5;28mprint\u001b[39m(\u001b[38;5;124m\"\u001b[39m\u001b[38;5;124mLoaded repeat grid\u001b[39m\u001b[38;5;124m\"\u001b[39m)\n\u001b[1;32m     82\u001b[0m \u001b[38;5;28;01mif\u001b[39;00m ibin\u001b[38;5;241m==\u001b[39m\u001b[38;5;241m0\u001b[39m:\n",
      "\u001b[0;31mTypeError\u001b[0m: repeat_Grid.__init__() got an unexpected keyword argument 'Tfield'"
     ]
    }
   ],
   "source": [
    "dmvals, zvals, all_rates, all_singles, all_reps = grids.load()"
   ]
  },
  {
   "cell_type": "code",
   "execution_count": null,
   "id": "6598fbb9-fa3b-4ea1-b806-df5645ca3c7c",
   "metadata": {},
   "outputs": [],
   "source": []
  }
 ],
 "metadata": {
  "kernelspec": {
   "display_name": "Python 3 (ipykernel)",
   "language": "python",
   "name": "python3"
  },
  "language_info": {
   "codemirror_mode": {
    "name": "ipython",
    "version": 3
   },
   "file_extension": ".py",
   "mimetype": "text/x-python",
   "name": "python",
   "nbconvert_exporter": "python",
   "pygments_lexer": "ipython3",
   "version": "3.10.9"
  }
 },
 "nbformat": 4,
 "nbformat_minor": 5
}
