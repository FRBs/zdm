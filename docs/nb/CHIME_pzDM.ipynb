{
 "cells": [
  {
   "cell_type": "markdown",
   "id": "73468a65-088e-484f-904f-5340ac63b911",
   "metadata": {},
   "source": [
    "# CHIME $p(z,DM_{\\rm EG})$"
   ]
  },
  {
   "cell_type": "code",
   "execution_count": 9,
   "id": "971524d6-aab9-457c-b62c-7b499dd5a2e6",
   "metadata": {
    "tags": []
   },
   "outputs": [],
   "source": [
    "# imports\n",
    "import numpy as np\n",
    "from matplotlib import pyplot as plt\n",
    "\n",
    "from zdm.chime import grids"
   ]
  },
  {
   "cell_type": "code",
   "execution_count": 43,
   "id": "493b5f54-db48-4014-80dd-843e308fa0aa",
   "metadata": {
    "tags": []
   },
   "outputs": [],
   "source": [
    "%matplotlib ipympl"
   ]
  },
  {
   "cell_type": "markdown",
   "id": "ff1a7d56-ceab-4d96-83e0-8e4e4333d940",
   "metadata": {},
   "source": [
    "# Run it"
   ]
  },
  {
   "cell_type": "code",
   "execution_count": 2,
   "id": "c012335e-be8e-471f-b189-5afd10e0c4e4",
   "metadata": {
    "tags": []
   },
   "outputs": [
    {
     "name": "stdout",
     "output_type": "stream",
     "text": [
      "/home/xavier/Projects/FRB_Stuff/zdm/zdm/data/Surveys/CHIME/\n",
      "Loading survey: CHIME_decbin_0_of_6\n",
      "Loading survey: CHIME_decbin_0_of_6 from CHIME_decbin_0_of_6.ecsv\n",
      "Loaded FRB info\n",
      "FRB survey sucessfully initialised with  4  FRBs starting from 0\n",
      "Initialised surveys\n",
      "Initialised grids\n",
      "Loaded dec bin  0\n",
      "Loaded repeat grid\n",
      "Loading survey: CHIME_decbin_1_of_6\n",
      "Loading survey: CHIME_decbin_1_of_6 from CHIME_decbin_1_of_6.ecsv\n",
      "Loaded FRB info\n",
      "FRB survey sucessfully initialised with  23  FRBs starting from 0\n",
      "Initialised surveys\n",
      "Initialised grids\n",
      "Loaded dec bin  1\n",
      "Loaded repeat grid\n",
      "Loading survey: CHIME_decbin_2_of_6\n",
      "Loading survey: CHIME_decbin_2_of_6 from CHIME_decbin_2_of_6.ecsv\n",
      "Loaded FRB info\n",
      "FRB survey sucessfully initialised with  154  FRBs starting from 0\n",
      "Initialised surveys\n",
      "Initialised grids\n",
      "Loaded dec bin  2\n",
      "Loaded repeat grid\n",
      "Loading survey: CHIME_decbin_3_of_6\n",
      "Loading survey: CHIME_decbin_3_of_6 from CHIME_decbin_3_of_6.ecsv\n",
      "Loaded FRB info\n",
      "FRB survey sucessfully initialised with  234  FRBs starting from 0\n",
      "Initialised surveys\n",
      "Initialised grids\n",
      "Loaded dec bin  3\n",
      "Loaded repeat grid\n",
      "Loading survey: CHIME_decbin_4_of_6\n",
      "Loading survey: CHIME_decbin_4_of_6 from CHIME_decbin_4_of_6.ecsv\n",
      "Loaded FRB info\n",
      "FRB survey sucessfully initialised with  50  FRBs starting from 0\n",
      "Initialised surveys\n",
      "Initialised grids\n",
      "Loaded dec bin  4\n",
      "Loaded repeat grid\n",
      "Loading survey: CHIME_decbin_5_of_6\n",
      "Loading survey: CHIME_decbin_5_of_6 from CHIME_decbin_5_of_6.ecsv\n",
      "Loaded FRB info\n",
      "FRB survey sucessfully initialised with  27  FRBs starting from 0\n",
      "Initialised surveys\n",
      "Initialised grids\n",
      "Loaded dec bin  5\n",
      "Loaded repeat grid\n"
     ]
    }
   ],
   "source": [
    "dmvals, zvals, all_rates, all_singles, all_reps = grids.load()"
   ]
  },
  {
   "cell_type": "markdown",
   "id": "294d2281-e64b-467c-990e-5d89f22a0a80",
   "metadata": {},
   "source": [
    "# Show it!"
   ]
  },
  {
   "cell_type": "code",
   "execution_count": 3,
   "id": "e4ad7724-445e-4ef4-a260-a5450f9a8cb0",
   "metadata": {
    "tags": []
   },
   "outputs": [
    {
     "data": {
      "text/plain": [
       "(500, 1400)"
      ]
     },
     "execution_count": 3,
     "metadata": {},
     "output_type": "execute_result"
    }
   ],
   "source": [
    "all_singles.shape"
   ]
  },
  {
   "cell_type": "code",
   "execution_count": 37,
   "id": "b464b2dc-95f3-4b4c-81b4-649d40f05559",
   "metadata": {
    "tags": []
   },
   "outputs": [],
   "source": [
    "all_singles /= np.sum(all_singles)"
   ]
  },
  {
   "cell_type": "code",
   "execution_count": 40,
   "id": "4e452458-d32d-4a22-b20a-0164aa95c006",
   "metadata": {
    "tags": []
   },
   "outputs": [
    {
     "data": {
      "text/plain": [
       "0.0002946589824842096"
      ]
     },
     "execution_count": 40,
     "metadata": {},
     "output_type": "execute_result"
    }
   ],
   "source": [
    "all_singles.max()"
   ]
  },
  {
   "cell_type": "code",
   "execution_count": null,
   "id": "729a8fb0-4068-46ff-8d1e-188c74de11c2",
   "metadata": {
    "tags": []
   },
   "outputs": [],
   "source": [
    "# Assuming you have these arrays defined:\n",
    "# z_array = ...\n",
    "# DM_array = ...\n",
    "# PDF = ...  # Your 2D array representing the PDF\n",
    "z_array = zvals\n",
    "DM_array = dmvals\n",
    "\n",
    "# Create the figure and axis\n",
    "fig, ax = plt.subplots(figsize=(8, 8))  # Square figure\n",
    "\n",
    "# Create the heatmap\n",
    "im = ax.imshow(np.log10(all_singles.T), cmap='jet', aspect='auto', \n",
    "               extent=[z_array.min(), z_array.max(), \n",
    "                       DM_array.min(), DM_array.max()],\n",
    "               origin='lower', vmin=np.log10(all_singles.max())-4.)\n",
    "\n",
    "# Set labels and title\n",
    "ax.set_xlabel('z')\n",
    "ax.set_ylabel('DM')\n",
    "ax.set_title('PDF Heatmap')\n",
    "\n",
    "ax.set_xlim(0., 1.)\n",
    "ax.set_ylim(0., 4000.)\n",
    "\n",
    "# Add a colorbar\n",
    "cbar = fig.colorbar(im)\n",
    "cbar.set_label(r'$\\log_{10} \\, p(z,DM_{\\rm EG})$')\n",
    "\n",
    "# Show the plot\n",
    "plt.tight_layout()\n",
    "plt.show()"
   ]
  },
  {
   "cell_type": "code",
   "execution_count": 11,
   "id": "8fed6205-86b3-498c-87dc-bb472f05cf6b",
   "metadata": {
    "tags": []
   },
   "outputs": [
    {
     "data": {
      "text/plain": [
       "500"
      ]
     },
     "execution_count": 11,
     "metadata": {},
     "output_type": "execute_result"
    }
   ],
   "source": [
    "zvals.size"
   ]
  },
  {
   "cell_type": "code",
   "execution_count": null,
   "id": "5ddfa68f-a491-42bf-864c-1e8e3fe32cf4",
   "metadata": {},
   "outputs": [],
   "source": []
  }
 ],
 "metadata": {
  "kernelspec": {
   "display_name": "Python 3 (ipykernel)",
   "language": "python",
   "name": "python3"
  },
  "language_info": {
   "codemirror_mode": {
    "name": "ipython",
    "version": 3
   },
   "file_extension": ".py",
   "mimetype": "text/x-python",
   "name": "python",
   "nbconvert_exporter": "python",
   "pygments_lexer": "ipython3",
   "version": "3.10.12"
  }
 },
 "nbformat": 4,
 "nbformat_minor": 5
}
