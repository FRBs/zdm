{
 "cells": [
  {
   "cell_type": "markdown",
   "id": "fb55b61f-c9e5-4dbb-bc6d-8a7bef325b03",
   "metadata": {},
   "source": [
    "# Survey Refactor"
   ]
  },
  {
   "cell_type": "code",
   "execution_count": 1,
   "id": "96627090-cf92-4874-be5c-1f1aab2a18a3",
   "metadata": {},
   "outputs": [
    {
     "name": "stderr",
     "output_type": "stream",
     "text": [
      "/home/xavier/Projects/FRB_Stuff/FRB/frb/halos/hmf.py:51: UserWarning: hmf_emulator not imported.  Hope you are not intending to use the hmf.py module..\n",
      "  warnings.warn(\"hmf_emulator not imported.  Hope you are not intending to use the hmf.py module..\")\n"
     ]
    }
   ],
   "source": [
    "# imports\n",
    "from importlib import reload\n",
    "\n",
    "import pandas\n",
    "from astropy.table import Table\n",
    "\n",
    "from zdm import misc_functions\n",
    "from zdm import survey\n",
    "from zdm import parameters\n",
    "from zdm import cosmology as cos\n",
    "from zdm import survey_data\n",
    "from zdm import data_class"
   ]
  },
  {
   "cell_type": "markdown",
   "id": "cd4a3dc5-896e-41cf-9004-1ea97a370f30",
   "metadata": {},
   "source": [
    "# Load up"
   ]
  },
  {
   "cell_type": "code",
   "execution_count": 2,
   "id": "7b16244d-41b3-4693-bc1c-3370826f9951",
   "metadata": {},
   "outputs": [],
   "source": [
    "state = parameters.State()\n",
    "############## Initialise cosmology ##############\n",
    "cos.set_cosmology(state)\n",
    "cos.init_dist_measures()\n",
    "\n",
    "# get the grid of p(DM|z). See function for default values.\n",
    "# set new to False once this is already initialised\n",
    "zDMgrid, zvals,dmvals = misc_functions.get_zdm_grid(\n",
    "    state, new=True, plot=False, method='analytic')"
   ]
  },
  {
   "cell_type": "code",
   "execution_count": 3,
   "id": "0444ab7e-142f-47ed-9639-eedd8d2cd0e3",
   "metadata": {},
   "outputs": [
    {
     "name": "stdout",
     "output_type": "stream",
     "text": [
      "Loading survey: CRAFT/FE\n",
      "FRB survey sucessfully initialised with  26  FRBs starting from 0\n"
     ]
    }
   ],
   "source": [
    "name = 'CRAFT/FE'\n",
    "isurvey = survey.load_survey(name, state, dmvals)"
   ]
  },
  {
   "cell_type": "markdown",
   "id": "558250d3-3ed0-4cf3-9355-8322d37aa125",
   "metadata": {},
   "source": [
    "# Fussing"
   ]
  },
  {
   "cell_type": "code",
   "execution_count": 11,
   "id": "778f1407-1650-4331-959b-5c5e5792ed45",
   "metadata": {},
   "outputs": [
    {
     "data": {
      "text/plain": [
       "'CRAFT_class_I_and_II'"
      ]
     },
     "execution_count": 11,
     "metadata": {},
     "output_type": "execute_result"
    }
   ],
   "source": [
    "isurvey.name"
   ]
  },
  {
   "cell_type": "code",
   "execution_count": 12,
   "id": "0a84101f-8f4d-48a0-9076-c27396699091",
   "metadata": {},
   "outputs": [
    {
     "data": {
      "text/plain": [
       "{'BEAM': array(['lat50_log', 'lat50_log', 'lat50_log', 'lat50_log', 'lat50_log',\n",
       "        'lat50_log', 'lat50_log', 'lat50_log', 'lat50_log', 'lat50_log',\n",
       "        'lat50_log', 'lat50_log', 'lat50_log', 'lat50_log', 'lat50_log',\n",
       "        'lat50_log', 'lat50_log', 'lat50_log', 'lat50_log', 'lat50_log',\n",
       "        'lat50_log', 'lat50_log', 'lat50_log', 'lat50_log', 'lat50_log',\n",
       "        'lat50_log'], dtype='<U9'),\n",
       " 'TOBS': array([1274.6, 1274.6, 1274.6, 1274.6, 1274.6, 1274.6, 1274.6, 1274.6,\n",
       "        1274.6, 1274.6, 1274.6, 1274.6, 1274.6, 1274.6, 1274.6, 1274.6,\n",
       "        1274.6, 1274.6, 1274.6, 1274.6, 1274.6, 1274.6, 1274.6, 1274.6,\n",
       "        1274.6, 1274.6]),\n",
       " 'DIAM': array([12., 12., 12., 12., 12., 12., 12., 12., 12., 12., 12., 12., 12.,\n",
       "        12., 12., 12., 12., 12., 12., 12., 12., 12., 12., 12., 12., 12.]),\n",
       " 'NBEAMS': array([36., 36., 36., 36., 36., 36., 36., 36., 36., 36., 36., 36., 36.,\n",
       "        36., 36., 36., 36., 36., 36., 36., 36., 36., 36., 36., 36., 36.]),\n",
       " 'NORM_FRB': array([20., 20., 20., 20., 20., 20., 20., 20., 20., 20., 20., 20., 20.,\n",
       "        20., 20., 20., 20., 20., 20., 20., 20., 20., 20., 20., 20., 20.]),\n",
       " 'THRESH': array([22., 22., 22., 22., 22., 22., 22., 22., 22., 22., 22., 22., 22.,\n",
       "        22., 22., 22., 22., 22., 22., 22., 22., 22., 22., 22., 22., 22.]),\n",
       " 'TRES': array([1.265, 1.265, 1.265, 1.265, 1.265, 1.265, 1.265, 1.265, 1.265,\n",
       "        1.265, 1.265, 1.265, 1.265, 1.265, 1.265, 1.265, 1.265, 1.265,\n",
       "        1.265, 1.265, 1.265, 1.265, 1.265, 1.265, 1.265, 1.265]),\n",
       " 'FRES': array([1., 1., 1., 1., 1., 1., 1., 1., 1., 1., 1., 1., 1., 1., 1., 1., 1.,\n",
       "        1., 1., 1., 1., 1., 1., 1., 1., 1.]),\n",
       " 'FBAR': array([1196., 1196., 1196., 1196., 1196., 1196., 1196., 1196., 1196.,\n",
       "        1196., 1196., 1196., 1196., 1196., 1196., 1196., 1196., 1196.,\n",
       "        1196., 1196., 1196., 1196., 1196., 1196., 1196., 1196.]),\n",
       " 'BW': array([336., 336., 336., 336., 336., 336., 336., 336., 336., 336., 336.,\n",
       "        336., 336., 336., 336., 336., 336., 336., 336., 336., 336., 336.,\n",
       "        336., 336., 336., 336.]),\n",
       " 'SNRTHRESH': array([9.5, 9.5, 9.5, 9.5, 9.5, 9.5, 9.5, 9.5, 9.5, 9.5, 9.5, 9.5, 9.5,\n",
       "        9.5, 9.5, 9.5, 9.5, 9.5, 9.5, 9.5, 9.5, 9.5, 9.5, 9.5, 9.5, 9.5]),\n",
       " 'DMG': array([ 37. ,  39.7,  40. ,  38.5,  35.9,  38.9,  40.5,  38.5,  37. ,\n",
       "         38.4,  35.8,  36.8,  37.2,  38.8,  35.6,  32.3,  40.5,  38.7,\n",
       "         39.5,  30.5,  64. ,  26.1,  32.6,  30.8, 100.8, 169. ]),\n",
       " 'SNR': array([16. , 13. , 10.5,  9.5, 12.7, 17. , 13.8, 10.9, 23.4, 19.5, 11.8,\n",
       "        25.1,  8. , 35.6, 15.9, 12.4,  9.6, 10.3, 13.8, 18.3,  9.8, 17.5,\n",
       "        12.1, 27.4, 10.5, 28.2]),\n",
       " 'DM': array([609.5 , 523.2 , 991.7 , 235.2 , 312.79, 390.3 , 463.2 , 304.  ,\n",
       "        460.8 , 114.1 , 618.5 , 158.6 , 203.1 , 715.7 , 402.7 , 441.4 ,\n",
       "        495.9 , 343.5 , 657.7 , 167.5 , 431.  , 474.8 , 355.2 , 388.1 ,\n",
       "        479.  , 264.1 ]),\n",
       " 'WIDTH': array([2.4 , 5.  , 4.4 , 3.5 , 1.4 , 2.5 , 2.  , 2.  , 5.4 , 1.7 , 3.2 ,\n",
       "        1.5 , 1.9 , 3.2 , 2.7 , 2.9 , 2.3 , 4.1 , 4.5 , 1.81, 4.3 , 2.3 ,\n",
       "        1.9 , 3.8 , 2.4 , 1.2 ]),\n",
       " 'ID': array(['170107', '170416', '170428', '170707', '170712', '170906',\n",
       "        '171003', '171004', '171019', '171020', '171116', '171213',\n",
       "        '171216', '180110', '180119', '180128.0', '180128.2', '180130',\n",
       "        '180131', '180212', '180324', '180417', '180515', '180525',\n",
       "        '180315', '180430'], dtype='<U8'),\n",
       " 'Gl': None,\n",
       " 'Gb': None,\n",
       " 'XRa': None,\n",
       " 'XDec': None,\n",
       " 'Z': None}"
      ]
     },
     "execution_count": 12,
     "metadata": {},
     "output_type": "execute_result"
    }
   ],
   "source": [
    "isurvey.frbs"
   ]
  },
  {
   "cell_type": "code",
   "execution_count": 13,
   "id": "0f7153dc-548b-45a3-adf3-692985ea5a24",
   "metadata": {},
   "outputs": [],
   "source": [
    "reload(survey_data)\n",
    "craft_fe = survey_data.SurveyData()"
   ]
  },
  {
   "cell_type": "code",
   "execution_count": 14,
   "id": "fe5416f8-241d-441a-841c-945790ce3229",
   "metadata": {},
   "outputs": [
    {
     "data": {
      "text/plain": [
       "TimeFrequency(BW=0.0, FRES=1.0, TRES=0.0)"
      ]
     },
     "execution_count": 14,
     "metadata": {},
     "output_type": "execute_result"
    }
   ],
   "source": [
    "craft_fe.timefrequency"
   ]
  },
  {
   "cell_type": "markdown",
   "id": "51df7cd2-65ae-4a4b-b282-345255f84c49",
   "metadata": {},
   "source": [
    "# Write to JSON"
   ]
  },
  {
   "cell_type": "markdown",
   "id": "dca16f62-52b9-4d15-9baa-d191c17e2f08",
   "metadata": {},
   "source": [
    "```\n",
    "FBAR  1196 #MHz\n",
    "BW    336 #MHz\n",
    "FRES  1 #MHz\n",
    "TRES  1.265 #ms\n",
    "DIAM 12\n",
    "NBEAMS 36\n",
    "BEAM lat50_log #prefix of beam file\n",
    "NFRB 24 #Number of FRBs\n",
    "NORM_FRB 20 #Number corresponding to Tobs\n",
    "TOBS 1274.6\n",
    "THRESH 22 #Jy ms to a 1 ms burst\n",
    "SNRTHRESH 9.5 # signal-to-\n",
    "```"
   ]
  },
  {
   "cell_type": "markdown",
   "id": "59e0d1c5-d2da-4e43-93d9-ba63366808f3",
   "metadata": {},
   "source": [
    "## Fill in"
   ]
  },
  {
   "cell_type": "markdown",
   "id": "b68deb84-e01c-4994-9fbd-b71ac6ff5e6b",
   "metadata": {},
   "source": [
    "### Time and Frequency"
   ]
  },
  {
   "cell_type": "code",
   "execution_count": 15,
   "id": "ef267e09-61ef-423e-bdcd-c25857111157",
   "metadata": {},
   "outputs": [],
   "source": [
    "craft_fe.timefrequency.BW = isurvey.BWs[0]\n",
    "craft_fe.timefrequency.FRES = isurvey.FRESs[0]\n",
    "craft_fe.timefrequency.TRES = isurvey.TRESs[0]"
   ]
  },
  {
   "cell_type": "markdown",
   "id": "4dd7a95d-2c4f-43a5-b609-fa9d36651239",
   "metadata": {},
   "source": [
    "### Telescope"
   ]
  },
  {
   "cell_type": "code",
   "execution_count": 16,
   "id": "ad08aa22-37be-48f5-adaf-3f07b4caf392",
   "metadata": {},
   "outputs": [],
   "source": [
    "craft_fe.telescope.BEAM = isurvey.meta['BEAM']\n",
    "craft_fe.telescope.DIAM = isurvey.meta['DIAM']\n",
    "craft_fe.telescope.NBEAMS = int(isurvey.meta['NBEAMS'])\n",
    "craft_fe.telescope.SNRTHRESH = isurvey.meta['SNRTHRESH']\n",
    "craft_fe.telescope.THRESH = isurvey.meta['THRESH']"
   ]
  },
  {
   "cell_type": "markdown",
   "id": "dd8791d3-cefb-4de0-9547-27e9dea1f98c",
   "metadata": {},
   "source": [
    "### Observing"
   ]
  },
  {
   "cell_type": "code",
   "execution_count": 17,
   "id": "bf8448ab-9aca-46d0-8910-07741428b1a9",
   "metadata": {},
   "outputs": [],
   "source": [
    "craft_fe.observing.TOBS = isurvey.TOBS"
   ]
  },
  {
   "cell_type": "code",
   "execution_count": 18,
   "id": "a5933f05-3a10-44b1-a2a0-db6488d12cac",
   "metadata": {},
   "outputs": [
    {
     "data": {
      "text/plain": [
       "{\n",
       "    \"observing\": {\n",
       "        \"TOBS\": 1274.6\n",
       "    },\n",
       "    \"telescope\": {\n",
       "        \"BEAM\": \"lat50_log\",\n",
       "        \"DIAM\": 12.0,\n",
       "        \"NBEAMS\": 36,\n",
       "        \"SNRTHRESH\": 9.5,\n",
       "        \"THRESH\": 22.0\n",
       "    },\n",
       "    \"timefrequency\": {\n",
       "        \"BW\": 336.0,\n",
       "        \"FRES\": 1.0,\n",
       "        \"TRES\": 1.265\n",
       "    }\n",
       "}"
      ]
     },
     "execution_count": 18,
     "metadata": {},
     "output_type": "execute_result"
    }
   ],
   "source": [
    "craft_fe"
   ]
  },
  {
   "cell_type": "markdown",
   "id": "576075e8-3dea-46cb-afc3-422d5ec0311a",
   "metadata": {},
   "source": [
    "# Write"
   ]
  },
  {
   "cell_type": "code",
   "execution_count": 19,
   "id": "81ebaab5-c971-46c2-9a6c-daa64d70602a",
   "metadata": {},
   "outputs": [],
   "source": [
    "craft_fe.write('craft_fe.json')"
   ]
  },
  {
   "cell_type": "markdown",
   "id": "1fbd6333-b076-4721-b097-01fef723ec1b",
   "metadata": {},
   "source": [
    "# Read"
   ]
  },
  {
   "cell_type": "code",
   "execution_count": 20,
   "id": "9cc730ba-2dc7-4dde-8954-bf86d8a5102f",
   "metadata": {},
   "outputs": [],
   "source": [
    "reload(data_class)\n",
    "reload(survey_data)\n",
    "craft_fe2 = survey_data.SurveyData.from_jsonfile('craft_fe.json')"
   ]
  },
  {
   "cell_type": "code",
   "execution_count": 21,
   "id": "a7fc6ca2-dbd9-401c-865a-58bf1e79fa76",
   "metadata": {},
   "outputs": [
    {
     "data": {
      "text/plain": [
       "{\n",
       "    \"observing\": {\n",
       "        \"TOBS\": 1274.6\n",
       "    },\n",
       "    \"telescope\": {\n",
       "        \"BEAM\": \"lat50_log\",\n",
       "        \"DIAM\": 12.0,\n",
       "        \"NBEAMS\": 36,\n",
       "        \"SNRTHRESH\": 9.5,\n",
       "        \"THRESH\": 22.0\n",
       "    },\n",
       "    \"timefrequency\": {\n",
       "        \"BW\": 336.0,\n",
       "        \"FRES\": 1.0,\n",
       "        \"TRES\": 1.265\n",
       "    }\n",
       "}"
      ]
     },
     "execution_count": 21,
     "metadata": {},
     "output_type": "execute_result"
    }
   ],
   "source": [
    "craft_fe2"
   ]
  },
  {
   "cell_type": "markdown",
   "id": "d7a45770-9944-43be-815e-69e8332b72a9",
   "metadata": {},
   "source": [
    "----"
   ]
  },
  {
   "cell_type": "markdown",
   "id": "a65831e7-faf1-4575-b815-1ff58a1db9b5",
   "metadata": {},
   "source": [
    "# FRBs"
   ]
  },
  {
   "cell_type": "code",
   "execution_count": 4,
   "id": "be8489bd-96db-4fb5-920c-85990ebbc3ac",
   "metadata": {},
   "outputs": [
    {
     "data": {
      "text/plain": [
       "{'BEAM': array(['lat50_log', 'lat50_log', 'lat50_log', 'lat50_log', 'lat50_log',\n",
       "        'lat50_log', 'lat50_log', 'lat50_log', 'lat50_log', 'lat50_log',\n",
       "        'lat50_log', 'lat50_log', 'lat50_log', 'lat50_log', 'lat50_log',\n",
       "        'lat50_log', 'lat50_log', 'lat50_log', 'lat50_log', 'lat50_log',\n",
       "        'lat50_log', 'lat50_log', 'lat50_log', 'lat50_log', 'lat50_log',\n",
       "        'lat50_log'], dtype='<U9'),\n",
       " 'TOBS': array([1274.6, 1274.6, 1274.6, 1274.6, 1274.6, 1274.6, 1274.6, 1274.6,\n",
       "        1274.6, 1274.6, 1274.6, 1274.6, 1274.6, 1274.6, 1274.6, 1274.6,\n",
       "        1274.6, 1274.6, 1274.6, 1274.6, 1274.6, 1274.6, 1274.6, 1274.6,\n",
       "        1274.6, 1274.6]),\n",
       " 'DIAM': array([12., 12., 12., 12., 12., 12., 12., 12., 12., 12., 12., 12., 12.,\n",
       "        12., 12., 12., 12., 12., 12., 12., 12., 12., 12., 12., 12., 12.]),\n",
       " 'NBEAMS': array([36., 36., 36., 36., 36., 36., 36., 36., 36., 36., 36., 36., 36.,\n",
       "        36., 36., 36., 36., 36., 36., 36., 36., 36., 36., 36., 36., 36.]),\n",
       " 'NORM_FRB': array([20., 20., 20., 20., 20., 20., 20., 20., 20., 20., 20., 20., 20.,\n",
       "        20., 20., 20., 20., 20., 20., 20., 20., 20., 20., 20., 20., 20.]),\n",
       " 'THRESH': array([22., 22., 22., 22., 22., 22., 22., 22., 22., 22., 22., 22., 22.,\n",
       "        22., 22., 22., 22., 22., 22., 22., 22., 22., 22., 22., 22., 22.]),\n",
       " 'TRES': array([1.265, 1.265, 1.265, 1.265, 1.265, 1.265, 1.265, 1.265, 1.265,\n",
       "        1.265, 1.265, 1.265, 1.265, 1.265, 1.265, 1.265, 1.265, 1.265,\n",
       "        1.265, 1.265, 1.265, 1.265, 1.265, 1.265, 1.265, 1.265]),\n",
       " 'FRES': array([1., 1., 1., 1., 1., 1., 1., 1., 1., 1., 1., 1., 1., 1., 1., 1., 1.,\n",
       "        1., 1., 1., 1., 1., 1., 1., 1., 1.]),\n",
       " 'FBAR': array([1196., 1196., 1196., 1196., 1196., 1196., 1196., 1196., 1196.,\n",
       "        1196., 1196., 1196., 1196., 1196., 1196., 1196., 1196., 1196.,\n",
       "        1196., 1196., 1196., 1196., 1196., 1196., 1196., 1196.]),\n",
       " 'BW': array([336., 336., 336., 336., 336., 336., 336., 336., 336., 336., 336.,\n",
       "        336., 336., 336., 336., 336., 336., 336., 336., 336., 336., 336.,\n",
       "        336., 336., 336., 336.]),\n",
       " 'SNRTHRESH': array([9.5, 9.5, 9.5, 9.5, 9.5, 9.5, 9.5, 9.5, 9.5, 9.5, 9.5, 9.5, 9.5,\n",
       "        9.5, 9.5, 9.5, 9.5, 9.5, 9.5, 9.5, 9.5, 9.5, 9.5, 9.5, 9.5, 9.5]),\n",
       " 'DMG': array([ 37. ,  39.7,  40. ,  38.5,  35.9,  38.9,  40.5,  38.5,  37. ,\n",
       "         38.4,  35.8,  36.8,  37.2,  38.8,  35.6,  32.3,  40.5,  38.7,\n",
       "         39.5,  30.5,  64. ,  26.1,  32.6,  30.8, 100.8, 169. ]),\n",
       " 'SNR': array([16. , 13. , 10.5,  9.5, 12.7, 17. , 13.8, 10.9, 23.4, 19.5, 11.8,\n",
       "        25.1,  8. , 35.6, 15.9, 12.4,  9.6, 10.3, 13.8, 18.3,  9.8, 17.5,\n",
       "        12.1, 27.4, 10.5, 28.2]),\n",
       " 'DM': array([609.5 , 523.2 , 991.7 , 235.2 , 312.79, 390.3 , 463.2 , 304.  ,\n",
       "        460.8 , 114.1 , 618.5 , 158.6 , 203.1 , 715.7 , 402.7 , 441.4 ,\n",
       "        495.9 , 343.5 , 657.7 , 167.5 , 431.  , 474.8 , 355.2 , 388.1 ,\n",
       "        479.  , 264.1 ]),\n",
       " 'WIDTH': array([2.4 , 5.  , 4.4 , 3.5 , 1.4 , 2.5 , 2.  , 2.  , 5.4 , 1.7 , 3.2 ,\n",
       "        1.5 , 1.9 , 3.2 , 2.7 , 2.9 , 2.3 , 4.1 , 4.5 , 1.81, 4.3 , 2.3 ,\n",
       "        1.9 , 3.8 , 2.4 , 1.2 ]),\n",
       " 'ID': array(['170107', '170416', '170428', '170707', '170712', '170906',\n",
       "        '171003', '171004', '171019', '171020', '171116', '171213',\n",
       "        '171216', '180110', '180119', '180128.0', '180128.2', '180130',\n",
       "        '180131', '180212', '180324', '180417', '180515', '180525',\n",
       "        '180315', '180430'], dtype='<U8'),\n",
       " 'Gl': None,\n",
       " 'Gb': None,\n",
       " 'XRa': None,\n",
       " 'XDec': None,\n",
       " 'Z': None}"
      ]
     },
     "execution_count": 4,
     "metadata": {},
     "output_type": "execute_result"
    }
   ],
   "source": [
    "isurvey.frbs"
   ]
  },
  {
   "cell_type": "code",
   "execution_count": 23,
   "id": "780c338e-d3ff-4faa-9ca3-1c5663052b7f",
   "metadata": {},
   "outputs": [],
   "source": [
    "frbs = pandas.DataFrame(isurvey.frbs)"
   ]
  },
  {
   "cell_type": "code",
   "execution_count": 24,
   "id": "e486717a-6dc9-489c-8fb2-b19412ed4f81",
   "metadata": {},
   "outputs": [
    {
     "data": {
      "text/html": [
       "<div>\n",
       "<style scoped>\n",
       "    .dataframe tbody tr th:only-of-type {\n",
       "        vertical-align: middle;\n",
       "    }\n",
       "\n",
       "    .dataframe tbody tr th {\n",
       "        vertical-align: top;\n",
       "    }\n",
       "\n",
       "    .dataframe thead th {\n",
       "        text-align: right;\n",
       "    }\n",
       "</style>\n",
       "<table border=\"1\" class=\"dataframe\">\n",
       "  <thead>\n",
       "    <tr style=\"text-align: right;\">\n",
       "      <th></th>\n",
       "      <th>BEAM</th>\n",
       "      <th>TOBS</th>\n",
       "      <th>DIAM</th>\n",
       "      <th>NBEAMS</th>\n",
       "      <th>NORM_FRB</th>\n",
       "      <th>THRESH</th>\n",
       "      <th>TRES</th>\n",
       "      <th>FRES</th>\n",
       "      <th>FBAR</th>\n",
       "      <th>BW</th>\n",
       "      <th>...</th>\n",
       "      <th>DMG</th>\n",
       "      <th>SNR</th>\n",
       "      <th>DM</th>\n",
       "      <th>WIDTH</th>\n",
       "      <th>ID</th>\n",
       "      <th>Gl</th>\n",
       "      <th>Gb</th>\n",
       "      <th>XRa</th>\n",
       "      <th>XDec</th>\n",
       "      <th>Z</th>\n",
       "    </tr>\n",
       "  </thead>\n",
       "  <tbody>\n",
       "    <tr>\n",
       "      <th>0</th>\n",
       "      <td>lat50_log</td>\n",
       "      <td>1274.6</td>\n",
       "      <td>12.0</td>\n",
       "      <td>36.0</td>\n",
       "      <td>20.0</td>\n",
       "      <td>22.0</td>\n",
       "      <td>1.265</td>\n",
       "      <td>1.0</td>\n",
       "      <td>1196.0</td>\n",
       "      <td>336.0</td>\n",
       "      <td>...</td>\n",
       "      <td>37.0</td>\n",
       "      <td>16.0</td>\n",
       "      <td>609.50</td>\n",
       "      <td>2.4</td>\n",
       "      <td>170107</td>\n",
       "      <td>None</td>\n",
       "      <td>None</td>\n",
       "      <td>None</td>\n",
       "      <td>None</td>\n",
       "      <td>None</td>\n",
       "    </tr>\n",
       "    <tr>\n",
       "      <th>1</th>\n",
       "      <td>lat50_log</td>\n",
       "      <td>1274.6</td>\n",
       "      <td>12.0</td>\n",
       "      <td>36.0</td>\n",
       "      <td>20.0</td>\n",
       "      <td>22.0</td>\n",
       "      <td>1.265</td>\n",
       "      <td>1.0</td>\n",
       "      <td>1196.0</td>\n",
       "      <td>336.0</td>\n",
       "      <td>...</td>\n",
       "      <td>39.7</td>\n",
       "      <td>13.0</td>\n",
       "      <td>523.20</td>\n",
       "      <td>5.0</td>\n",
       "      <td>170416</td>\n",
       "      <td>None</td>\n",
       "      <td>None</td>\n",
       "      <td>None</td>\n",
       "      <td>None</td>\n",
       "      <td>None</td>\n",
       "    </tr>\n",
       "    <tr>\n",
       "      <th>2</th>\n",
       "      <td>lat50_log</td>\n",
       "      <td>1274.6</td>\n",
       "      <td>12.0</td>\n",
       "      <td>36.0</td>\n",
       "      <td>20.0</td>\n",
       "      <td>22.0</td>\n",
       "      <td>1.265</td>\n",
       "      <td>1.0</td>\n",
       "      <td>1196.0</td>\n",
       "      <td>336.0</td>\n",
       "      <td>...</td>\n",
       "      <td>40.0</td>\n",
       "      <td>10.5</td>\n",
       "      <td>991.70</td>\n",
       "      <td>4.4</td>\n",
       "      <td>170428</td>\n",
       "      <td>None</td>\n",
       "      <td>None</td>\n",
       "      <td>None</td>\n",
       "      <td>None</td>\n",
       "      <td>None</td>\n",
       "    </tr>\n",
       "    <tr>\n",
       "      <th>3</th>\n",
       "      <td>lat50_log</td>\n",
       "      <td>1274.6</td>\n",
       "      <td>12.0</td>\n",
       "      <td>36.0</td>\n",
       "      <td>20.0</td>\n",
       "      <td>22.0</td>\n",
       "      <td>1.265</td>\n",
       "      <td>1.0</td>\n",
       "      <td>1196.0</td>\n",
       "      <td>336.0</td>\n",
       "      <td>...</td>\n",
       "      <td>38.5</td>\n",
       "      <td>9.5</td>\n",
       "      <td>235.20</td>\n",
       "      <td>3.5</td>\n",
       "      <td>170707</td>\n",
       "      <td>None</td>\n",
       "      <td>None</td>\n",
       "      <td>None</td>\n",
       "      <td>None</td>\n",
       "      <td>None</td>\n",
       "    </tr>\n",
       "    <tr>\n",
       "      <th>4</th>\n",
       "      <td>lat50_log</td>\n",
       "      <td>1274.6</td>\n",
       "      <td>12.0</td>\n",
       "      <td>36.0</td>\n",
       "      <td>20.0</td>\n",
       "      <td>22.0</td>\n",
       "      <td>1.265</td>\n",
       "      <td>1.0</td>\n",
       "      <td>1196.0</td>\n",
       "      <td>336.0</td>\n",
       "      <td>...</td>\n",
       "      <td>35.9</td>\n",
       "      <td>12.7</td>\n",
       "      <td>312.79</td>\n",
       "      <td>1.4</td>\n",
       "      <td>170712</td>\n",
       "      <td>None</td>\n",
       "      <td>None</td>\n",
       "      <td>None</td>\n",
       "      <td>None</td>\n",
       "      <td>None</td>\n",
       "    </tr>\n",
       "  </tbody>\n",
       "</table>\n",
       "<p>5 rows × 21 columns</p>\n",
       "</div>"
      ],
      "text/plain": [
       "        BEAM    TOBS  DIAM  NBEAMS  NORM_FRB  THRESH   TRES  FRES    FBAR  \\\n",
       "0  lat50_log  1274.6  12.0    36.0      20.0    22.0  1.265   1.0  1196.0   \n",
       "1  lat50_log  1274.6  12.0    36.0      20.0    22.0  1.265   1.0  1196.0   \n",
       "2  lat50_log  1274.6  12.0    36.0      20.0    22.0  1.265   1.0  1196.0   \n",
       "3  lat50_log  1274.6  12.0    36.0      20.0    22.0  1.265   1.0  1196.0   \n",
       "4  lat50_log  1274.6  12.0    36.0      20.0    22.0  1.265   1.0  1196.0   \n",
       "\n",
       "      BW  ...   DMG   SNR      DM  WIDTH      ID    Gl    Gb   XRa  XDec     Z  \n",
       "0  336.0  ...  37.0  16.0  609.50    2.4  170107  None  None  None  None  None  \n",
       "1  336.0  ...  39.7  13.0  523.20    5.0  170416  None  None  None  None  None  \n",
       "2  336.0  ...  40.0  10.5  991.70    4.4  170428  None  None  None  None  None  \n",
       "3  336.0  ...  38.5   9.5  235.20    3.5  170707  None  None  None  None  None  \n",
       "4  336.0  ...  35.9  12.7  312.79    1.4  170712  None  None  None  None  None  \n",
       "\n",
       "[5 rows x 21 columns]"
      ]
     },
     "execution_count": 24,
     "metadata": {},
     "output_type": "execute_result"
    }
   ],
   "source": [
    "frbs.head()"
   ]
  },
  {
   "cell_type": "code",
   "execution_count": 25,
   "id": "cef89705-d340-4d87-9b7c-cdfb120a09ab",
   "metadata": {},
   "outputs": [
    {
     "data": {
      "text/plain": [
       "Index(['BEAM', 'TOBS', 'DIAM', 'NBEAMS', 'NORM_FRB', 'THRESH', 'TRES', 'FRES',\n",
       "       'FBAR', 'BW', 'SNRTHRESH', 'DMG', 'SNR', 'DM', 'WIDTH', 'ID', 'Gl',\n",
       "       'Gb', 'XRa', 'XDec', 'Z'],\n",
       "      dtype='object')"
      ]
     },
     "execution_count": 25,
     "metadata": {},
     "output_type": "execute_result"
    }
   ],
   "source": [
    "frbs.keys()"
   ]
  },
  {
   "cell_type": "markdown",
   "id": "deafa1c8-8109-426c-8d86-d5bd9cd4bda0",
   "metadata": {},
   "source": [
    "## Drop a few that come by way of meta"
   ]
  },
  {
   "cell_type": "code",
   "execution_count": 29,
   "id": "4953441d-97e5-4050-bd68-650f83542b41",
   "metadata": {},
   "outputs": [
    {
     "data": {
      "text/plain": [
       "dict_keys(['NFRB', 'KEY', 'BEAM', 'TOBS', 'DIAM', 'NBEAMS', 'NORM_FRB', 'THRESH', 'TRES', 'FRES', 'FBAR', 'BW', 'SNRTHRESH', 'DMG', 'SNR', 'DM', 'WIDTH', 'Gl', 'Gb', 'XRa', 'XDec', 'Z'])"
      ]
     },
     "execution_count": 29,
     "metadata": {},
     "output_type": "execute_result"
    }
   ],
   "source": [
    "isurvey.meta.keys()"
   ]
  },
  {
   "cell_type": "markdown",
   "id": "c486b71e-5c4f-4b64-a4fd-4323e665dcb8",
   "metadata": {},
   "source": [
    "FBAR  1196 #MHz\n",
    "BW    336 #MHz\n",
    "FRES  1 #MHz\n",
    "TRES  1.265 #ms\n",
    "DIAM 12\n",
    "NBEAMS 36\n",
    "BEAM lat50_log #prefix of beam file\n",
    "NFRB 26 #Number of FRBs\n",
    "NORM_FRB 20 #Number corresponding to Tobs\n",
    "TOBS 1274.6\n",
    "THRESH 22 #Jy ms to a 1 ms burst\n",
    "SNRTHRESH 9.5 # si"
   ]
  },
  {
   "cell_type": "markdown",
   "id": "ca00b18c-7c25-415e-aa89-abc74c4cde7c",
   "metadata": {},
   "source": [
    "## Cut down FRBs"
   ]
  },
  {
   "cell_type": "code",
   "execution_count": 35,
   "id": "76a895b1-efb4-4190-a6c8-d6d7a70a3706",
   "metadata": {},
   "outputs": [
    {
     "data": {
      "text/plain": [
       "['ID',\n",
       " 'TIME',\n",
       " 'DM',\n",
       " 'X',\n",
       " 'X',\n",
       " 'X',\n",
       " 'X',\n",
       " 'X',\n",
       " 'WIDTH',\n",
       " 'SNR',\n",
       " 'X',\n",
       " 'X',\n",
       " 'FIELD',\n",
       " 'ANT',\n",
       " 'X',\n",
       " 'DMG',\n",
       " 'X',\n",
       " 'XWIDTH']"
      ]
     },
     "execution_count": 35,
     "metadata": {},
     "output_type": "execute_result"
    }
   ],
   "source": [
    "isurvey.meta['KEY']"
   ]
  },
  {
   "cell_type": "code",
   "execution_count": 34,
   "id": "fa2a8729-214f-49bf-b22d-b5d182aa3b1d",
   "metadata": {},
   "outputs": [],
   "source": [
    "mkeys = list(isurvey.meta.keys())\n",
    "mkeys.remove('KEY')\n",
    "for key in isurvey.meta['KEY'[\n",
    "#mkeys"
   ]
  },
  {
   "cell_type": "code",
   "execution_count": 39,
   "id": "d327ab54-a280-477c-a1ee-f1f058518621",
   "metadata": {},
   "outputs": [
    {
     "data": {
      "text/plain": [
       "Index(['BEAM', 'TOBS', 'DIAM', 'NBEAMS', 'NORM_FRB', 'THRESH', 'TRES', 'FRES',\n",
       "       'FBAR', 'BW', 'SNRTHRESH', 'DMG', 'SNR', 'DM', 'WIDTH', 'ID', 'Gl',\n",
       "       'Gb', 'XRa', 'XDec', 'Z'],\n",
       "      dtype='object')"
      ]
     },
     "execution_count": 39,
     "metadata": {},
     "output_type": "execute_result"
    }
   ],
   "source": [
    "frbs.keys()"
   ]
  },
  {
   "cell_type": "code",
   "execution_count": null,
   "id": "38d78a15-fc05-4288-8258-7f9b306b04ae",
   "metadata": {},
   "outputs": [],
   "source": [
    "#frbs.drop(columns=['NBEAMS', 'FBAR', 'BW', 'FRES', 'TRES'], inplace=True)"
   ]
  },
  {
   "cell_type": "markdown",
   "id": "87afae48-8e2c-48f2-9e2e-0008ae59c452",
   "metadata": {},
   "source": [
    "----"
   ]
  },
  {
   "cell_type": "markdown",
   "id": "da1a5461-931f-4344-8c21-50ff1db0a728",
   "metadata": {},
   "source": [
    "# Astropy ecsv"
   ]
  },
  {
   "cell_type": "markdown",
   "id": "1efc5e7e-2863-4bb8-9450-27c4d14697e0",
   "metadata": {},
   "source": [
    "## FRBs"
   ]
  },
  {
   "cell_type": "code",
   "execution_count": 30,
   "id": "237d6fc8-f564-4471-8f98-56ff86714a7d",
   "metadata": {},
   "outputs": [],
   "source": [
    "stbl = Table.from_pandas(frbs)"
   ]
  },
  {
   "cell_type": "code",
   "execution_count": null,
   "id": "093d6a55-f1f8-460a-9b09-efbe07957e1f",
   "metadata": {},
   "outputs": [],
   "source": []
  }
 ],
 "metadata": {
  "kernelspec": {
   "display_name": "Python 3 (ipykernel)",
   "language": "python",
   "name": "python3"
  },
  "language_info": {
   "codemirror_mode": {
    "name": "ipython",
    "version": 3
   },
   "file_extension": ".py",
   "mimetype": "text/x-python",
   "name": "python",
   "nbconvert_exporter": "python",
   "pygments_lexer": "ipython3",
   "version": "3.9.7"
  }
 },
 "nbformat": 4,
 "nbformat_minor": 5
}
